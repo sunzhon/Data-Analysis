{
 "cells": [
  {
   "cell_type": "code",
   "execution_count": 1,
   "id": "c644ab2e-3ea3-4ba3-965e-690fbf4b6ce8",
   "metadata": {},
   "outputs": [],
   "source": [
    "import tensorflow as tf\n",
    "import numpy as np\n",
    "\n",
    "import tensorflow.keras as keras\n"
   ]
  },
  {
   "cell_type": "code",
   "execution_count": 2,
   "id": "02d0f5f9-46c0-4c71-aa96-7fbdba42d7f6",
   "metadata": {},
   "outputs": [
    {
     "name": "stderr",
     "output_type": "stream",
     "text": [
      "<__array_function__ internals>:5: VisibleDeprecationWarning: Creating an ndarray from ragged nested sequences (which is a list-or-tuple of lists-or-tuples-or ndarrays with different lengths or shapes) is deprecated. If you meant to do this, you must specify 'dtype=object' when creating the ndarray\n",
      "/home/sun/.pyenv/versions/DataVisualization/lib/python3.9/site-packages/tensorflow/python/keras/datasets/imdb.py:155: VisibleDeprecationWarning: Creating an ndarray from ragged nested sequences (which is a list-or-tuple of lists-or-tuples-or ndarrays with different lengths or shapes) is deprecated. If you meant to do this, you must specify 'dtype=object' when creating the ndarray\n",
      "  x_train, y_train = np.array(xs[:idx]), np.array(labels[:idx])\n",
      "/home/sun/.pyenv/versions/DataVisualization/lib/python3.9/site-packages/tensorflow/python/keras/datasets/imdb.py:156: VisibleDeprecationWarning: Creating an ndarray from ragged nested sequences (which is a list-or-tuple of lists-or-tuples-or ndarrays with different lengths or shapes) is deprecated. If you meant to do this, you must specify 'dtype=object' when creating the ndarray\n",
      "  x_test, y_test = np.array(xs[idx:]), np.array(labels[idx:])\n"
     ]
    }
   ],
   "source": [
    "\n",
    "imdb = keras.datasets.imdb\n",
    "\n",
    "vocab_size = 10000\n",
    "index_from = 3\n",
    "\n",
    "(train_data, train_labels), (test_data, test_labels) = imdb.load_data(num_words = vocab_size, index_from = index_from)"
   ]
  },
  {
   "cell_type": "code",
   "execution_count": 3,
   "id": "84f2b3a9-7c16-42da-87c0-771d9c812224",
   "metadata": {},
   "outputs": [
    {
     "name": "stdout",
     "output_type": "stream",
     "text": [
      "[1, 14, 22, 16, 43, 530, 973, 1622, 1385, 65, 458, 4468, 66, 3941, 4, 173, 36, 256, 5, 25, 100, 43, 838, 112, 50, 670, 2, 9, 35, 480, 284, 5, 150, 4, 172, 112, 167, 2, 336, 385, 39, 4, 172, 4536, 1111, 17, 546, 38, 13, 447, 4, 192, 50, 16, 6, 147, 2025, 19, 14, 22, 4, 1920, 4613, 469, 4, 22, 71, 87, 12, 16, 43, 530, 38, 76, 15, 13, 1247, 4, 22, 17, 515, 17, 12, 16, 626, 18, 2, 5, 62, 386, 12, 8, 316, 8, 106, 5, 4, 2223, 5244, 16, 480, 66, 3785, 33, 4, 130, 12, 16, 38, 619, 5, 25, 124, 51, 36, 135, 48, 25, 1415, 33, 6, 22, 12, 215, 28, 77, 52, 5, 14, 407, 16, 82, 2, 8, 4, 107, 117, 5952, 15, 256, 4, 2, 7, 3766, 5, 723, 36, 71, 43, 530, 476, 26, 400, 317, 46, 7, 4, 2, 1029, 13, 104, 88, 4, 381, 15, 297, 98, 32, 2071, 56, 26, 141, 6, 194, 7486, 18, 4, 226, 22, 21, 134, 476, 26, 480, 5, 144, 30, 5535, 18, 51, 36, 28, 224, 92, 25, 104, 4, 226, 65, 16, 38, 1334, 88, 12, 16, 283, 5, 16, 4472, 113, 103, 32, 15, 16, 5345, 19, 178, 32] 1\n",
      "(25000,) (25000,)\n",
      "218 189\n"
     ]
    }
   ],
   "source": [
    "print(train_data[0], train_labels[0])\n",
    "print(train_data.shape, train_labels.shape)\n",
    "print(len(train_data[0]),len(train_data[1]))"
   ]
  },
  {
   "cell_type": "code",
   "execution_count": 4,
   "id": "2c4b11dd-73e7-4d44-8f63-fa050171f95b",
   "metadata": {
    "tags": []
   },
   "outputs": [
    {
     "name": "stdout",
     "output_type": "stream",
     "text": [
      "88584\n"
     ]
    },
    {
     "data": {
      "text/plain": [
       "\"<START> this film was just brilliant casting location scenery story direction everyone's really suited the part they played and you could just imagine being there robert <UNK> is an amazing actor and now the same being director <UNK> father came from the same scottish island as myself so i loved the fact there was a real connection with this film the witty remarks throughout the film were great it was just brilliant so much that i bought the film as soon as it was released for <UNK> and would recommend it to everyone to watch and the fly fishing was amazing really cried at the end it was so sad and you know what they say if you cry at a film it must have been good and this definitely was also <UNK> to the two little boy's that played the <UNK> of norman and paul they were just brilliant children are often left out of the <UNK> list i think because the stars that play them all grown up are such a big profile for the whole film but these children are amazing and should be praised for what they have done don't you think the whole story was so lovely because it was true and was someone's life after all that was shared with us all\""
      ]
     },
     "execution_count": 4,
     "metadata": {},
     "output_type": "execute_result"
    }
   ],
   "source": [
    "word_index = imdb.get_word_index()\n",
    "print(len(word_index))\n",
    "#print(word_index)\n",
    "\n",
    "word_index = {k:(v+3) for k, v in word_index.items()}\n",
    "\n",
    "word_index['<PAD>'] = 0\n",
    "word_index['<START>'] = 1\n",
    "word_index['<UNK>'] = 2\n",
    "word_index['<END>'] = 3\n",
    "\n",
    "reverse_word_index = dict([(value, key) for key, value in word_index.items()])\n",
    "\n",
    "def decode_review(text_ids):\n",
    "    return ' '.join([reverse_word_index.get(word_id, \"<UNK>\") for word_id in text_ids])\n",
    "\n",
    "decode_review(train_data[0])"
   ]
  },
  {
   "cell_type": "code",
   "execution_count": 5,
   "id": "2f394f9c-87b2-4eec-b1c2-b7d45b25f2be",
   "metadata": {},
   "outputs": [
    {
     "name": "stdout",
     "output_type": "stream",
     "text": [
      "[   1   14   22   16   43  530  973 1622 1385   65  458 4468   66 3941\n",
      "    4  173   36  256    5   25  100   43  838  112   50  670    2    9\n",
      "   35  480  284    5  150    4  172  112  167    2  336  385   39    4\n",
      "  172 4536 1111   17  546   38   13  447    4  192   50   16    6  147\n",
      " 2025   19   14   22    4 1920 4613  469    4   22   71   87   12   16\n",
      "   43  530   38   76   15   13 1247    4   22   17  515   17   12   16\n",
      "  626   18    2    5   62  386   12    8  316    8  106    5    4 2223\n",
      " 5244   16  480   66 3785   33    4  130   12   16   38  619    5   25\n",
      "  124   51   36  135   48   25 1415   33    6   22   12  215   28   77\n",
      "   52    5   14  407   16   82    2    8    4  107  117 5952   15  256\n",
      "    4    2    7 3766    5  723   36   71   43  530  476   26  400  317\n",
      "   46    7    4    2 1029   13  104   88    4  381   15  297   98   32\n",
      " 2071   56   26  141    6  194 7486   18    4  226   22   21  134  476\n",
      "   26  480    5  144   30 5535   18   51   36   28  224   92   25  104\n",
      "    4  226   65   16   38 1334   88   12   16  283    5   16 4472  113\n",
      "  103   32   15   16 5345   19  178   32    0    0    0    0    0    0\n",
      "    0    0    0    0    0    0    0    0    0    0    0    0    0    0\n",
      "    0    0    0    0    0    0    0    0    0    0    0    0    0    0\n",
      "    0    0    0    0    0    0    0    0    0    0    0    0    0    0\n",
      "    0    0    0    0    0    0    0    0    0    0    0    0    0    0\n",
      "    0    0    0    0    0    0    0    0    0    0    0    0    0    0\n",
      "    0    0    0    0    0    0    0    0    0    0    0    0    0    0\n",
      "    0    0    0    0    0    0    0    0    0    0    0    0    0    0\n",
      "    0    0    0    0    0    0    0    0    0    0    0    0    0    0\n",
      "    0    0    0    0    0    0    0    0    0    0    0    0    0    0\n",
      "    0    0    0    0    0    0    0    0    0    0    0    0    0    0\n",
      "    0    0    0    0    0    0    0    0    0    0    0    0    0    0\n",
      "    0    0    0    0    0    0    0    0    0    0    0    0    0    0\n",
      "    0    0    0    0    0    0    0    0    0    0    0    0    0    0\n",
      "    0    0    0    0    0    0    0    0    0    0    0    0    0    0\n",
      "    0    0    0    0    0    0    0    0    0    0    0    0    0    0\n",
      "    0    0    0    0    0    0    0    0    0    0    0    0    0    0\n",
      "    0    0    0    0    0    0    0    0    0    0    0    0    0    0\n",
      "    0    0    0    0    0    0    0    0    0    0    0    0    0    0\n",
      "    0    0    0    0    0    0    0    0    0    0    0    0    0    0\n",
      "    0    0    0    0    0    0    0    0    0    0]\n"
     ]
    }
   ],
   "source": [
    "max_length = 500\n",
    "\n",
    "train_data =  keras.preprocessing.sequence.pad_sequences(\n",
    "            train_data,# list of list\n",
    "            value = word_index['<PAD>'],\n",
    "            padding = 'post',\n",
    "            maxlen = max_length\n",
    "            )\n",
    "\n",
    "test_data =  keras.preprocessing.sequence.pad_sequences(\n",
    "             test_data,# list of list\n",
    "             value = word_index['<PAD>'],\n",
    "             padding = 'post',\n",
    "             maxlen = max_length\n",
    "            )\n",
    "\n",
    "print(train_data[0])"
   ]
  },
  {
   "cell_type": "code",
   "execution_count": 8,
   "id": "f40e97f4-6260-4313-91a3-acb5a58a3c17",
   "metadata": {},
   "outputs": [
    {
     "name": "stdout",
     "output_type": "stream",
     "text": [
      "Model: \"sequential_2\"\n",
      "_________________________________________________________________\n",
      "Layer (type)                 Output Shape              Param #   \n",
      "=================================================================\n",
      "embedding_2 (Embedding)      (None, 500, 16)           160000    \n",
      "_________________________________________________________________\n",
      "simple_rnn_2 (SimpleRNN)     (None, 64)                5184      \n",
      "_________________________________________________________________\n",
      "dense_4 (Dense)              (None, 64)                4160      \n",
      "_________________________________________________________________\n",
      "dense_5 (Dense)              (None, 1)                 65        \n",
      "=================================================================\n",
      "Total params: 169,409\n",
      "Trainable params: 169,409\n",
      "Non-trainable params: 0\n",
      "_________________________________________________________________\n"
     ]
    }
   ],
   "source": [
    "embedding_dim = 16\n",
    "\n",
    "batch_size = 128\n",
    "\n",
    "simple_rnn_model = tf.keras.models.Sequential([\n",
    "            # define word matrix, \n",
    "            # to featurize words -> featurized words\n",
    "            # batch_size * max_length * embedding_dim,\n",
    "            keras.layers.Embedding(vocab_size, embedding_dim, input_length = max_length),\n",
    "            # combination through average, -> batch_size * max_length * embedding_dim -> batch_size *embeddding_dim\n",
    "            keras.layers.SimpleRNN(units=64, return_sequences=False),\n",
    "            keras.layers.Dense(64,activation='relu'),\n",
    "            keras.layers.Dense(1, activation='sigmoid')\n",
    "])\n",
    "\n",
    "simple_rnn_model.summary()\n",
    "simple_rnn_model.compile(optimizer='adam',loss='binary_crossentropy', metrics=['accuracy','mae'])\n"
   ]
  },
  {
   "cell_type": "code",
   "execution_count": 9,
   "id": "4a7d46e2-6a40-4f6f-943a-14e070e71ed7",
   "metadata": {},
   "outputs": [
    {
     "name": "stdout",
     "output_type": "stream",
     "text": [
      "Epoch 1/10\n",
      "157/157 [==============================] - 14s 86ms/step - loss: 0.6958 - accuracy: 0.4990 - mae: 0.5000 - val_loss: 0.6950 - val_accuracy: 0.4974 - val_mae: 0.4996\n",
      "Epoch 2/10\n",
      "157/157 [==============================] - 13s 85ms/step - loss: 0.6955 - accuracy: 0.5031 - mae: 0.4997 - val_loss: 0.6937 - val_accuracy: 0.4938 - val_mae: 0.5000\n",
      "Epoch 3/10\n",
      "157/157 [==============================] - 13s 86ms/step - loss: 0.6947 - accuracy: 0.4976 - mae: 0.5001 - val_loss: 0.6934 - val_accuracy: 0.4922 - val_mae: 0.5001\n",
      "Epoch 4/10\n",
      "157/157 [==============================] - 14s 87ms/step - loss: 0.6946 - accuracy: 0.4988 - mae: 0.4999 - val_loss: 0.6971 - val_accuracy: 0.4938 - val_mae: 0.5005\n",
      "Epoch 5/10\n",
      "157/157 [==============================] - 14s 86ms/step - loss: 0.6943 - accuracy: 0.5024 - mae: 0.4996 - val_loss: 0.6933 - val_accuracy: 0.5092 - val_mae: 0.4996\n",
      "Epoch 6/10\n",
      "157/157 [==============================] - 14s 86ms/step - loss: 0.6934 - accuracy: 0.5074 - mae: 0.4993 - val_loss: 0.6934 - val_accuracy: 0.5042 - val_mae: 0.4998\n",
      "Epoch 7/10\n",
      "157/157 [==============================] - 14s 88ms/step - loss: 0.6923 - accuracy: 0.5139 - mae: 0.4985 - val_loss: 0.6930 - val_accuracy: 0.5078 - val_mae: 0.4995\n",
      "Epoch 9/10\n",
      "157/157 [==============================] - 13s 85ms/step - loss: 0.6921 - accuracy: 0.5077 - mae: 0.4981 - val_loss: 0.6952 - val_accuracy: 0.4942 - val_mae: 0.4996\n",
      "Epoch 10/10\n",
      "157/157 [==============================] - 13s 83ms/step - loss: 0.6874 - accuracy: 0.5138 - mae: 0.4953 - val_loss: 0.6936 - val_accuracy: 0.4962 - val_mae: 0.4989\n"
     ]
    }
   ],
   "source": [
    "history_simple_rnn = simple_rnn_model.fit(train_data, train_labels, epochs =10, batch_size=batch_size, validation_split=0.2)"
   ]
  },
  {
   "cell_type": "code",
   "execution_count": 17,
   "id": "28e990e7-7aee-4b90-bfcb-7711431907e5",
   "metadata": {},
   "outputs": [
    {
     "name": "stdout",
     "output_type": "stream",
     "text": [
      "dict_keys(['loss', 'accuracy', 'mae', 'val_loss', 'val_accuracy', 'val_mae'])\n",
      "Max train and validtion MAE: 0.4992 and 0.4965\n"
     ]
    },
    {
     "data": {
      "image/png": "[encoded data removed]",
      "text/plain": [
       "<Figure size 432x288 with 1 Axes>"
      ]
     },
     "metadata": {
      "needs_background": "light"
     },
     "output_type": "display_data"
    },
    {
     "data": {
      "image/png": "[encoded data removed]",
      "text/plain": [
       "<Figure size 432x288 with 1 Axes>"
      ]
     },
     "metadata": {
      "needs_background": "light"
     },
     "output_type": "display_data"
    }
   ],
   "source": [
    "import matplotlib.pyplot as plt\n",
    "\n",
    "def plot_history(history):\n",
    " \n",
    "     history_dict = history\n",
    "     print(history_dict.keys())\n",
    "     plt.plot(history_dict['loss'],'r')\n",
    "     plt.plot(history_dict['val_loss'],'g')\n",
    "     plt.grid(True)\n",
    "     plt.legend(['train loss', 'valid loss'])\n",
    " \n",
    "     plt.figure()\n",
    "     plt.plot(history_dict['mae'],'r')\n",
    "     plt.plot(history_dict['val_mae'],'g')\n",
    "     plt.grid(True)\n",
    "     plt.legend(['train mae', 'valid mae'])\n",
    " \n",
    "     print('Max train and validtion MAE: {:.4f} and {:.4f}'.format(max(history_dict['mae']),max(history_dict['val_mae'])))\n",
    "\n",
    "plot_history(history_simple_rnn.history)"
   ]
  },
  {
   "cell_type": "code",
   "execution_count": 10,
   "id": "92f27067-df4b-430b-b643-fa65f6c0bb38",
   "metadata": {},
   "outputs": [
    {
     "name": "stdout",
     "output_type": "stream",
     "text": [
      "CPU times: user 3 µs, sys: 0 ns, total: 3 µs\n",
      "Wall time: 6.91 µs\n",
      "196/196 [==============================] - 7s 33ms/step - loss: 0.6929 - accuracy: 0.5015 - mae: 0.4985\n"
     ]
    },
    {
     "data": {
      "text/plain": [
       "[0.6928956508636475, 0.5015199780464172, 0.49848851561546326]"
      ]
     },
     "execution_count": 10,
     "metadata": {},
     "output_type": "execute_result"
    }
   ],
   "source": [
    "%time\n",
    "simple_rnn_model.evaluate(\n",
    "    test_data,\n",
    "    test_labels,\n",
    "    batch_size=batch_size\n",
    "    )"
   ]
  },
  {
   "cell_type": "code",
   "execution_count": 14,
   "id": "b937e6cb-199c-4f3e-b895-be63994a86bf",
   "metadata": {},
   "outputs": [],
   "source": [
    "## Two layer with bidrectional RNN model"
   ]
  },
  {
   "cell_type": "code",
   "execution_count": 16,
   "id": "373815ed-bbbc-4661-8acb-e504a14af48b",
   "metadata": {},
   "outputs": [
    {
     "name": "stdout",
     "output_type": "stream",
     "text": [
      "Model: \"sequential_5\"\n",
      "_________________________________________________________________\n",
      "Layer (type)                 Output Shape              Param #   \n",
      "=================================================================\n",
      "embedding_5 (Embedding)      (None, 500, 16)           160000    \n",
      "_________________________________________________________________\n",
      "bidirectional_4 (Bidirection (None, 500, 128)          10368     \n",
      "_________________________________________________________________\n",
      "bidirectional_5 (Bidirection (None, 128)               24704     \n",
      "_________________________________________________________________\n",
      "dense_10 (Dense)             (None, 64)                8256      \n",
      "_________________________________________________________________\n",
      "dense_11 (Dense)             (None, 1)                 65        \n",
      "=================================================================\n",
      "Total params: 203,393\n",
      "Trainable params: 203,393\n",
      "Non-trainable params: 0\n",
      "_________________________________________________________________\n"
     ]
    }
   ],
   "source": [
    "multi_rnn_model = tf.keras.models.Sequential([\n",
    "            # define word matrix, \n",
    "            # to featurize words -> featurized words\n",
    "            # batch_size * max_length * embedding_dim,\n",
    "            keras.layers.Embedding(vocab_size, embedding_dim, input_length = max_length),\n",
    "            # combination through average, -> batch_size * max_length * embedding_dim -> batch_size *embeddding_dim\n",
    "            keras.layers.Bidirectional(\n",
    "            keras.layers.SimpleRNN(units=64, return_sequences=True)\n",
    "            ),\n",
    "            keras.layers.Bidirectional(\n",
    "            keras.layers.SimpleRNN(units=64, return_sequences=False)\n",
    "            ),\n",
    "            keras.layers.Dense(64,activation='relu'),\n",
    "            keras.layers.Dense(1, activation='sigmoid')\n",
    "])\n",
    "\n",
    "multi_rnn_model.summary()\n",
    "multi_rnn_model.compile(optimizer='adam',loss='binary_crossentropy', metrics=['accuracy','mae'])"
   ]
  },
  {
   "cell_type": "code",
   "execution_count": 13,
   "id": "4ca74ebc-294f-40eb-bf42-b115deaf812d",
   "metadata": {},
   "outputs": [
    {
     "name": "stdout",
     "output_type": "stream",
     "text": [
      "Epoch 1/10\n",
      "157/157 [==============================] - 60s 370ms/step - loss: 0.6968 - accuracy: 0.5034 - mae: 0.4992 - val_loss: 0.6910 - val_accuracy: 0.5226 - val_mae: 0.4965\n",
      "Epoch 2/10\n",
      "157/157 [==============================] - 57s 363ms/step - loss: 0.6752 - accuracy: 0.5730 - mae: 0.4788 - val_loss: 0.7059 - val_accuracy: 0.5880 - val_mae: 0.4471\n",
      "Epoch 3/10\n",
      "157/157 [==============================] - 58s 371ms/step - loss: 0.5768 - accuracy: 0.6977 - mae: 0.3898 - val_loss: 0.6007 - val_accuracy: 0.6782 - val_mae: 0.4041\n",
      "Epoch 4/10\n",
      "157/157 [==============================] - 57s 365ms/step - loss: 0.4777 - accuracy: 0.7837 - mae: 0.3038 - val_loss: 0.6206 - val_accuracy: 0.6520 - val_mae: 0.4281\n",
      "Epoch 5/10\n",
      "157/157 [==============================] - 58s 370ms/step - loss: 0.4348 - accuracy: 0.8100 - mae: 0.2713 - val_loss: 0.6994 - val_accuracy: 0.6662 - val_mae: 0.3782\n",
      "Epoch 6/10\n",
      "157/157 [==============================] - 59s 374ms/step - loss: 0.4077 - accuracy: 0.8188 - mae: 0.2618 - val_loss: 0.6452 - val_accuracy: 0.7044 - val_mae: 0.3321\n",
      "Epoch 7/10\n",
      "157/157 [==============================] - 60s 380ms/step - loss: 0.2994 - accuracy: 0.8781 - mae: 0.1783 - val_loss: 0.5930 - val_accuracy: 0.7392 - val_mae: 0.3019\n",
      "Epoch 8/10\n",
      "157/157 [==============================] - 59s 373ms/step - loss: 0.2708 - accuracy: 0.8953 - mae: 0.1585 - val_loss: 0.6736 - val_accuracy: 0.7380 - val_mae: 0.2908\n",
      "Epoch 9/10\n",
      "157/157 [==============================] - 59s 376ms/step - loss: 0.2143 - accuracy: 0.9215 - mae: 0.1219 - val_loss: 0.6962 - val_accuracy: 0.7450 - val_mae: 0.2730\n",
      "Epoch 10/10\n",
      "157/157 [==============================] - 59s 376ms/step - loss: 0.1835 - accuracy: 0.9360 - mae: 0.1008 - val_loss: 0.7230 - val_accuracy: 0.7454 - val_mae: 0.2725\n"
     ]
    }
   ],
   "source": [
    "history_simple_rnn = multi_rnn_model.fit(train_data, train_labels, epochs =10, batch_size=batch_size, validation_split=0.2)"
   ]
  },
  {
   "cell_type": "code",
   "execution_count": 18,
   "id": "ceb25b39-c810-4f09-824c-f8617025b1af",
   "metadata": {},
   "outputs": [
    {
     "name": "stdout",
     "output_type": "stream",
     "text": [
      "dict_keys(['loss', 'accuracy', 'mae', 'val_loss', 'val_accuracy', 'val_mae'])\n",
      "Max train and validtion MAE: 0.4992 and 0.4965\n"
     ]
    },
    {
     "data": {
      "image/png": "[encoded data removed]",
      "text/plain": [
       "<Figure size 432x288 with 1 Axes>"
      ]
     },
     "metadata": {
      "needs_background": "light"
     },
     "output_type": "display_data"
    },
    {
     "data": {
      "image/png": "[encoded data removed]",
      "text/plain": [
       "<Figure size 432x288 with 1 Axes>"
      ]
     },
     "metadata": {
      "needs_background": "light"
     },
     "output_type": "display_data"
    }
   ],
   "source": [
    "plot_history(history_simple_rnn.history)"
   ]
  },
  {
   "cell_type": "markdown",
   "id": "92995431-c375-4b5d-8bda-9b0ec521963d",
   "metadata": {},
   "source": [
    "## Bidrectional RNN"
   ]
  },
  {
   "cell_type": "code",
   "execution_count": null,
   "id": "a832f765-886b-4b27-9492-8c9c5351fd3f",
   "metadata": {},
   "outputs": [],
   "source": [
    "\n",
    "bi_rnn_model = tf.keras.models.Sequential([\n",
    "            # define word matrix, \n",
    "            # to featurize words -> featurized words\n",
    "            # batch_size * max_length * embedding_dim,\n",
    "            keras.layers.Embedding(vocab_size, embedding_dim, input_length = max_length),\n",
    "            # combination through average, -> batch_size * max_length * embedding_dim -> batch_size *embeddding_dim\n",
    "            keras.layers.Bidirectional(\n",
    "            keras.layers.SimpleRNN(units=32, return_sequences=False)\n",
    "            ),\n",
    "            keras.layers.Dense(32,activation='relu'),\n",
    "            keras.layers.Dense(1, activation='sigmoid')\n",
    "])\n",
    "\n",
    "bi_rnn_model.summary()\n",
    "bi_rnn_model.compile(optimizer='adam',loss='binary_crossentropy', metrics=['accuracy','mae'])"
   ]
  },
  {
   "cell_type": "code",
   "execution_count": null,
   "id": "83b4b916-60c8-4a80-a753-fb5446715862",
   "metadata": {},
   "outputs": [],
   "source": [
    "history_bi_model = bi_rnn_model.fit(train_data, train_labels, epochs =10, batch_size = batch_size, validation_split=0.2)"
   ]
  }
 ],
 "metadata": {
  "kernelspec": {
   "display_name": "Python 3",
   "language": "python",
   "name": "python3"
  },
  "language_info": {
   "codemirror_mode": {
    "name": "ipython",
    "version": 3
   },
   "file_extension": ".py",
   "mimetype": "text/x-python",
   "name": "python",
   "nbconvert_exporter": "python",
   "pygments_lexer": "ipython3",
   "version": "3.9.2"
  }
 },
 "nbformat": 4,
 "nbformat_minor": 5
}
