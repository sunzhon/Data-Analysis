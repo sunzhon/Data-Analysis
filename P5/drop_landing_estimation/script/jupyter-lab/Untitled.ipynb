{
 "cells": [
  {
   "cell_type": "code",
   "execution_count": 7,
   "id": "141ed8fd-2722-4c9a-9d32-929984823fd9",
   "metadata": {},
   "outputs": [
    {
     "name": "stdout",
     "output_type": "stream",
     "text": [
      "physical cpus and gpus:  [PhysicalDevice(name='/physical_device:CPU:0', device_type='CPU')] []\n",
      "physical cpus number:  1\n",
      "physical gpus number:  0\n",
      "logical cpus and gpus:  [LogicalDevice(name='/device:CPU:0', device_type='CPU')] []\n",
      "logical cpgs number:  0\n",
      "tensorflow version: 2.5.0\n",
      "tensorflow version: 2.5.0\n",
      "tensorflow version: 2.5.0\n",
      "[LogicalDevice(name='/device:CPU:0', device_type='CPU')] []\n"
     ]
    }
   ],
   "source": [
    "#!/usr/bin/env python\n",
    "\n",
    "import tensorflow as tf\n",
    "# set hardware config\n",
    "#tf.debugging.set_log_device_placement(True)\n",
    "\n",
    "cpus = tf.config.experimental.list_physical_devices(device_type='CPU')\n",
    "gpus = tf.config.experimental.list_physical_devices(device_type='GPU')\n",
    "\n",
    "# set gpu memory grouth automatically\n",
    "#for gpu in gpus:\n",
    "#    tf.config.experimental.set_memory_growth(gpu, True)\n",
    "\n",
    "if(gpus!=[]):\n",
    "    # set virtal gpu/ logical gpu, create four logical gpu from a physical gpu (gpus[0])\n",
    "    tf.config.experimental.set_virtual_device_configuration(\n",
    "        gpus[0],\n",
    "        [tf.config.experimental.VirtualDeviceConfiguration(memory_limit=3072),\n",
    "        tf.config.experimental.VirtualDeviceConfiguration(memory_limit=3072),\n",
    "        tf.config.experimental.VirtualDeviceConfiguration(memory_limit=3072),\n",
    "        tf.config.experimental.VirtualDeviceConfiguration(memory_limit=3072)\n",
    "        ]\n",
    "        )\n",
    "\n",
    "logical_cpus = tf.config.experimental.list_logical_devices(device_type='CPU')\n",
    "logical_gpus = tf.config.experimental.list_logical_devices(device_type='GPU')\n",
    "print('physical cpus and gpus: ',cpus, gpus)\n",
    "print('physical cpus number: ', len(cpus))\n",
    "print('physical gpus number: ', len(gpus))\n",
    "print('logical cpus and gpus: ',logical_cpus, logical_gpus)\n",
    "print('logical cpgs number: ', len(logical_gpus))\n",
    "\n",
    "print(\"tensorflow version:\",tf.__version__)\n",
    "\n",
    "import os\n",
    "import sys\n",
    "sys.path.append(\"./../\")\n",
    "import numpy as np\n",
    "import matplotlib.pyplot as plt\n",
    "import pdb\n",
    "import pandas as pd\n",
    "import yaml\n",
    "import h5py\n",
    "import vicon_imu_data_process.process_rawdata as pro_rd\n",
    "import estimation_assessment.scores as es_as\n",
    "\n",
    "import seaborn as sns\n",
    "import copy\n",
    "import re\n",
    "import json\n",
    "\n",
    "from vicon_imu_data_process.const import FEATURES_FIELDS, LABELS_FIELDS, DATA_PATH, TRAIN_USED_TRIALS\n",
    "from vicon_imu_data_process.const import DROPLANDING_PERIOD, RESULTS_PATH\n",
    "from vicon_imu_data_process import const\n",
    "from vicon_imu_data_process.dataset import *\n",
    "\n",
    "from estimation_models.rnn_models import *\n",
    "from sklearn.preprocessing import StandardScaler\n",
    "from sklearn.model_selection import LeaveOneOut\n",
    "from sklearn.model_selection import KFold\n",
    "import time as localtimepkg\n",
    "\n",
    "from estimation_study import *\n",
    "from estimation_assessment.visualization import *\n",
    "#import pdb\n",
    "import re\n"
   ]
  },
  {
   "cell_type": "code",
   "execution_count": 1,
   "id": "9af12da5-8535-48eb-b36f-8e9b36c7b137",
   "metadata": {},
   "outputs": [
    {
     "ename": "NameError",
     "evalue": "name 'plot_overall_sensor_config_investigation_results' is not defined",
     "output_type": "error",
     "traceback": [
      "\u001b[0;31m---------------------------------------------------------------------------\u001b[0m",
      "\u001b[0;31mNameError\u001b[0m                                 Traceback (most recent call last)",
      "\u001b[0;32m<ipython-input-1-b9cea93dbb65>\u001b[0m in \u001b[0;36m<module>\u001b[0;34m\u001b[0m\n\u001b[1;32m      1\u001b[0m \u001b[0mcombination_investigation_results\u001b[0m \u001b[0;34m=\u001b[0m \u001b[0;34m\"/media/sun/DATA/Drop_landing_workspace/suntao/Results/Experiment_results/training_testing/study_lstm_units_KFM/testing_result_folders.txt\"\u001b[0m\u001b[0;34m\u001b[0m\u001b[0;34m\u001b[0m\u001b[0m\n\u001b[1;32m      2\u001b[0m \u001b[0;34m\u001b[0m\u001b[0m\n\u001b[0;32m----> 3\u001b[0;31m fig_path, r2 = plot_overall_sensor_config_investigation_results(combination_investigation_results,\n\u001b[0m\u001b[1;32m      4\u001b[0m                                                    \u001b[0mlanding_manner\u001b[0m\u001b[0;34m=\u001b[0m\u001b[0;34m'double_legs'\u001b[0m\u001b[0;34m,\u001b[0m\u001b[0;34m\u001b[0m\u001b[0;34m\u001b[0m\u001b[0m\n\u001b[1;32m      5\u001b[0m                                                    \u001b[0mestimated_variable\u001b[0m\u001b[0;34m=\u001b[0m\u001b[0;34m'KFM'\u001b[0m\u001b[0;34m,\u001b[0m\u001b[0;34m\u001b[0m\u001b[0;34m\u001b[0m\u001b[0m\n",
      "\u001b[0;31mNameError\u001b[0m: name 'plot_overall_sensor_config_investigation_results' is not defined"
     ]
    }
   ],
   "source": [
    "\n"
   ]
  }
 ],
 "metadata": {
  "kernelspec": {
   "display_name": "Python 3",
   "language": "python",
   "name": "python3"
  },
  "language_info": {
   "codemirror_mode": {
    "name": "ipython",
    "version": 3
   },
   "file_extension": ".py",
   "mimetype": "text/x-python",
   "name": "python",
   "nbconvert_exporter": "python",
   "pygments_lexer": "ipython3",
   "version": "3.9.2"
  }
 },
 "nbformat": 4,
 "nbformat_minor": 5
}
