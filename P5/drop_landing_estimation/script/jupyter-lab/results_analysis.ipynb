{
 "cells": [
  {
   "cell_type": "code",
   "execution_count": 2,
   "id": "c198b9ce-80f2-4bae-8bcc-2947267d4891",
   "metadata": {
    "tags": []
   },
   "outputs": [
    {
     "name": "stdout",
     "output_type": "stream",
     "text": [
      "tensorflow version: 2.5.0\n",
      "tensorflow version: 2.5.0\n",
      "[LogicalDevice(name='/device:CPU:0', device_type='CPU')] []\n"
     ]
    }
   ],
   "source": [
    "import sys\n",
    "import os\n",
    "sys.path.append(\"./../\")\n",
    "\n",
    "\n",
    "import tensorflow as tf\n",
    "from estimation_study import *\n",
    "from estimation_assessment.scores import *\n",
    "from estimation_assessment.visualization import *\n",
    "from vicon_imu_data_process.process_rawdata import *\n"
   ]
  },
  {
   "cell_type": "markdown",
   "id": "d6c06589-6776-4cf8-99d3-9e4fcd0cf2db",
   "metadata": {
    "tags": []
   },
   "source": [
    "## <center> Investigation reports </center>"
   ]
  },
  {
   "attachments": {
    "c480792a-6f7f-4631-ba2e-79cdcd69240a.png": {
     "image/png": "[encoded data removed]"
    }
   },
   "cell_type": "markdown",
   "id": "64ab62dd-261e-44ad-9c53-1d6a5381764b",
   "metadata": {
    "jp-MarkdownHeadingCollapsed": true,
    "tags": []
   },
   "source": [
    "### Introduction\n",
    "\n",
    "This study investigates the vertical ground reaction force (GRF) and knee flexion moment (KFM) estimations based on deep neural network in human drop landing.\n",
    "\n",
    "\n",
    "### Experimental design\n",
    "\n",
    "\n",
    "Fifteen subjects (all male) To collect enough data for training the neural network, fifteen subjects dropped from a box landing on the ground equipped with force plate in a laboratory where has optical motion capture system (VICON), force plate, and wearable IMUs. Each subject perform two types of drop landing behaviors: double-legs drop landing and single-leg drop landing. The double-legs and single-leg drop landing repeated 30 and 15 times, respectively. \n",
    "\n",
    "\n",
    "### Data processing\n",
    "![Fig_data_synchronization.png](attachment:c480792a-6f7f-4631-ba2e-79cdcd69240a.png)\n",
    "\n",
    "\n",
    "### Deep learning model \n",
    "\n",
    "\n",
    "\n",
    "\n"
   ]
  },
  {
   "cell_type": "markdown",
   "id": "d91c7feb-5464-4526-a9c0-a6d8f3fa6f1d",
   "metadata": {},
   "source": [
    "# <center > Experiment results </center>"
   ]
  },
  {
   "cell_type": "code",
   "execution_count": null,
   "id": "10fc7fa0-b8d8-4b9b-8321-37e7ac32b190",
   "metadata": {
    "jupyter": {
     "source_hidden": true
    },
    "tags": []
   },
   "outputs": [],
   "source": [
    "combination_investigation_results = \"/media/sun/DATA/Drop_landing_workspace/suntao/Results/Experiment_results/investigation/2022-04-27/143322/testing_result_folders.txt\"\n",
    "combination_investigation_results = \"/media/sun/DATA/Drop_landing_workspace/suntao/Results/Experiment_results/training_testing/matpool_trained_data_1/testing_result_folders.txt\"\n",
    "#pd_assessment = get_testing_metrics(combination_investigation_results)\n",
    "\n",
    "combination_investigation_metrics = \"/media/sun/DATA/Drop_landing_workspace/suntao/Results/Experiment_results/investigation/2022-04-30/all_sensor_list/all_sensor_configs_metrics.csv\"\n",
    "combination_investigation_results = \"/media/sun/DATA/Drop_landing_workspace/suntao/Results/Experiment_results/investigation/valid_results/testing_result_folders.txt\"\n",
    "combination_investigation_metrics = \"/media/sun/DATA/Drop_landing_workspace/suntao/Results/Experiment_results/investigation/valid_results/metrics.csv\"\n",
    "\n",
    "combination_investigation_results = \"/media/sun/DATA/Drop_landing_workspace/suntao/Results/Experiment_results/investigation/valid_results/complete_config/sorted_testing_result_folders.txt\"\n",
    "#combination_investigation_results = \"/media/sun/DATA/Drop_landing_workspace/suntao/Results/Experiment_results/investigation/2022-05-09/224455/off_on_synchronizationtesting_result_folders.txt\"\n",
    "\n",
    "#r2_metrics = get_investigation_metrics(combination_investigation_results)\n",
    "\n",
    "#combination_investigation_results = \"/media/sun/DATA/Drop_landing_workspace/suntao/Results/Experiment_results/investigation/2022-04-27/143322/testing_result_folders.txt\"\n",
    "#pd_assessment = get_testing_metrics(combination_investigation_results)\n",
    "#combination_investigation_metrics = \"/media/sun/DATA/Drop_landing_workspace/suntao/Results/Experiment_results/investigation/2022-04-27/143322/metrics.csv\"\n",
    "#combination_investigation_results = \"/media/sun/DATA/Drop_landing_workspace/suntao/Results/Experiment_results/investigation/2022-05-09/094720/off_on_synchronizationtesting_result_folders.txt\"\n",
    "#combination_investigation_metrics = \"/media/sun/DATA/Drop_landing_workspace/suntao/Results/Experiment_results/investigation/2022-04-30/all_sensor_list/all_sensor_configs_metrics.csv\"\n",
    "combination_investigation_results = \"/media/sun/DATA/Drop_landing_workspace/suntao/Results/Experiment_results/investigation/2022-05-24/205937/GRFtesting_result_folders.txt\"\n",
    "combination_investigation_results = \"/media/sun/DATA/Drop_landing_workspace/suntao/Results/Experiment_results/training_testing/2022-05-24/20_19/metrics.csv\"\n",
    "#combination_investigation_metrics = \"/media/sun/DATA/Drop_landing_workspace/suntao/Results/Experiment_results/investigation/valid_results/all_sensors_lstm_units_GRF/metrics.csv\"\n",
    "fig_path, metrics = plot_sensorconfig_modelsize_investigation_results(combination_investigation_results,estimated_variable='GRF', syn_features_label=False,\n",
    "                                                  title=' estimation in double-leg drop landing',drop_value=0.6)\n",
    "print(fig_path)"
   ]
  },
  {
   "cell_type": "code",
   "execution_count": null,
   "id": "4a219d08-be9e-44ea-9ff8-304fa9e19a74",
   "metadata": {
    "jupyter": {
     "source_hidden": true
    }
   },
   "outputs": [],
   "source": [
    "metrics.head()"
   ]
  },
  {
   "cell_type": "markdown",
   "id": "ade4f184-5b26-4280-b54d-13470eb47129",
   "metadata": {
    "tags": []
   },
   "source": [
    "**Figure 2. R2 of Ground reaction force (GRF, $F_z$) estimation with different LSTM units and sensor configurations in double-leg drop landing.** \n",
    "### Results\n",
    "<div> <font color='Blue'>\n",
    "1. There are no significant trend for more LSTM units showing greater estimation accuracy of GRF. \n",
    "</font>    </div>\n",
    "<div> <font color='Blue'>\n",
    "2. Sensor configurations has larger impact on GRF estimation accuracy than LSTM units.\n",
    "</font>    </div>"
   ]
  },
  {
   "cell_type": "code",
   "execution_count": null,
   "id": "f5d5f002-cac6-4887-ab4b-be1c205c0c6c",
   "metadata": {
    "jupyter": {
     "source_hidden": true
    },
    "tags": [
     "hide-input"
    ]
   },
   "outputs": [],
   "source": [
    "combination_investigation_metrics = \"/media/sun/DATA/Drop_landing_workspace/suntao/Results/Experiment_results/investigation/2022-04-30/all_sensor_list/all_sensor_configs_metrics.csv\"\n",
    "combination_investigation_results = \"/media/sun/DATA/Drop_landing_workspace/suntao/Results/Experiment_results/investigation/valid_results/testing_result_folders.txt\"\n",
    "combination_investigation_metrics = \"/media/sun/DATA/Drop_landing_workspace/suntao/Results/Experiment_results/investigation/valid_results/metrics.csv\"\n",
    "#pd_assessment = get_testing_metrics(combination_investigation_results)\n",
    "\n",
    "combination_investigation_metrics = \"/media/sun/DATA/Drop_landing_workspace/suntao/Results/Experiment_results/investigation/2022-04-30/all_sensor_list/all_sensor_configs_metrics.csv\"\n",
    "combination_investigation_results = \"/media/sun/DATA/Drop_landing_workspace/suntao/Results/Experiment_results/investigation/valid_results/testing_result_folders.txt\"\n",
    "\n",
    "combination_investigation_metrics = \"/media/sun/DATA/Drop_landing_workspace/suntao/Results/Experiment_results/investigation/valid_results/metrics.csv\"\n",
    "#pd_assessment = get_testing_metrics(combination_investigation_results)\n",
    "#combination_investigation_results = \"/media/sun/DATA/Drop_landing_workspace/suntao/Results/Experiment_results/investigation/2022-04-30/all_sensor_list/all_sensor_configs_metrics.csv\"\n",
    "combination_investigation_results = \"/media/sun/DATA/Drop_landing_workspace/suntao/Results/Experiment_results/investigation/valid_results/complete_config/sorted_testing_result_folders.txt\"\n",
    "#combination_investigation_results = \"/media/sun/DATA/Drop_landing_workspace/suntao/Results/Experiment_results/investigation/valid_results/complete_config/metrics.csv\"\n",
    "combination_investigation_results = \"/media/sun/DATA/Drop_landing_workspace/suntao/Results/Experiment_results/training_testing/latest_train/metrics.csv\"\n",
    "combination_investigation_results = \"/media/sun/DATA/Drop_landing_workspace/suntao/Results/Experiment_results/training_testing/latest_train_bk/08_30/testing_result_folders.txt\"\n",
    "fig_path, r2 = plot_sensor_config_investigation_results(combination_investigation_results,\n",
    "                                                    landing_manner='double_legs', \n",
    "                                                    estimated_variable='GRF',\n",
    "                                                    syn_features_label='both',\n",
    "                                                    title=' estimation in double-leg drop landing',\n",
    "                                                    LSTM_unit=35, drop_value=0.6)\n",
    "print(fig_path)"
   ]
  },
  {
   "cell_type": "code",
   "execution_count": null,
   "id": "9b717de6-2d98-4e74-ac4a-17fdd1c41404",
   "metadata": {
    "jupyter": {
     "source_hidden": true
    }
   },
   "outputs": [],
   "source": []
  },
  {
   "cell_type": "markdown",
   "id": "d98daa56-fb0d-4781-84ca-bf40ed9c3fb1",
   "metadata": {},
   "source": [
    "**Figure 3. R2 of the vertical ground reaction force (GRF, $Fz$) estimation with different IMU configurations in double-leg drop landing. Event-based synchronization between features and labels was used to process the datasets for improving estimation accuracy. To comparatively show the effectiveness of the event-based synchronization, the estimation without the event-based synchronization was also provided** *The IMU configurations are namely by the IMU placement on subjects' segments. It includes five segments: F (left foot), S (left shank), T (left thigh), W (waist), and C (chest). There are 31 ways to to configure the five IMUs' placement in total. Here, the IMU configuration methods are summarized as four categories according to the employed IMU number: single IMU, two IMUs, three IMUs, and four-five IMUs.*\n",
    "\n",
    "#### Results:\n",
    "1. The event-based synchronization technique can greatly improve the GRF estimation accuracy under all sensor configurations in the double-leg drop landing. \n",
    "\n",
    "2. With single IMU configuration, IMU placed on the trunk with event-based synchronization allow the algorithm to perform significantly greater GRF estimation accuracy. \n",
    "\n",
    "3. The maximum R2 values of the estimation in the five classes are with the IMU configurations: T (trunk), TC (trunk and chest), FTC (foot, trunk, and chest), FSWC (foot, shank, waist, and chest), and FSTWC (foot, shank, trunk, waist, and chest).\n",
    "\n",
    "4. Generally, the more IMUs employed, the greater estimation accuracy.\n",
    "\n",
    "5. The IMU placement has significant influences on the estimation accuracy.\n",
    "\n",
    "6. Some four IMU configurations (FSWC, FSTC, and FTWC) have similar estimation accuracy.\n",
    "\n",
    "\n",
    "3. IMU configuration with good estimation accuracy in each categories.\n",
    "\n",
    "| IMU configuration categories | IMU configurations with good accuracy ( 0.9 < median R2 < 0.95) | IMU configurations with excellent accuracy (median R2 > 0.95) |\n",
    "|---|---|--|\n",
    "| Single IMU | S, T |\n",
    "| Two IMUs | FS, SC, FT, TW, FC, TC |\n",
    "| Three IMUs | FST, TWC, STW, SWC, FTW, FWC, FSC, FSW| FTC |\n",
    "| Four-five IMUs| FSTW, FSTC, FTWC, FSTWC| \n",
    "    "
   ]
  },
  {
   "cell_type": "code",
   "execution_count": null,
   "id": "e49e9c04-20c4-4cf5-9f8a-33e069515bf8",
   "metadata": {
    "jupyter": {
     "source_hidden": true
    },
    "tags": []
   },
   "outputs": [],
   "source": [
    "combination_investigation_results = \"/media/sun/DATA/Drop_landing_workspace/suntao/Results/Experiment_results/training_testing/latest_train/metrics.csv\"\n",
    "fig_path, b= plot_sensor_config_investigation_results(combination_investigation_results, landing_manner='double_legs', \n",
    "                                                    estimated_variable='KFM',\n",
    "                                                    syn_features_label='both',\n",
    "                                                    title=' estimation in double-leg drop landing',\n",
    "                                                   LSTM_unit=35,\n",
    "                                                   drop_value=0.6)\n",
    "print(fig_path)"
   ]
  },
  {
   "cell_type": "markdown",
   "id": "dc70e311-4ef2-486a-be4b-59872d149eca",
   "metadata": {},
   "source": [
    "**Figure 4. R2 of the Knee flexion moment (KFM) estimation with different IMU configurations in double-leg drop landing. To comparatively show the effectiveness of the event-based synchronization, the estimation without the event-based synchronization was also provided** \n",
    "*The IMU configurations are namely by the IMU placement on subjects' segments. It includes five segments: F (left foot), S (left shank), T (left thigh), W (waist), and C (chest). There are 31 ways to to configure the five IMUs' placement in total. Here, the IMU configuration methods are summarized as four categories according to the employed IMU number: single IMU, two IMUs, three IMUs, and four-five IMUs.*\n",
    "\n",
    "\n",
    "    \n",
    "#### Results:\n",
    "\n",
    "1. The event-based synchronization technique can greatly improve the KFM estimation accuracy under most sensor configurations in the double-leg drop landing. \n",
    "\n",
    "2. The IMU placement has significant influences on the KFM estimation accuracy.\n",
    "\n",
    "3. IMU configuration with good estimation accuracy in each categories.\n",
    "\n",
    "| IMU configuration categories | IMU configurations with good accuracy (0.9 < median R2 < 0.95) | IMU configurations with excellent accuracy (median R2 > 0.95) |\n",
    "|---|---|---|\n",
    "| Single IMU | T, S | |\n",
    "| Two IMUs | TC, FT, FC, SW, TW, FW, SC, FS | |\n",
    "| Three IMUs | FTC, FST, TWC, STW, SWC, FTW, FWC, FSC | FSW |\n",
    "| Four-five IMUs| FSTW, FSTC, FTWC, FSTWC| | "
   ]
  },
  {
   "cell_type": "code",
   "execution_count": null,
   "id": "8a53044d-ce91-4ea8-a1b6-e354a3272f97",
   "metadata": {
    "jupyter": {
     "source_hidden": true
    },
    "tags": []
   },
   "outputs": [],
   "source": [
    "combination_investigation_results = \"/media/sun/DATA/Drop_landing_workspace/suntao/Results/Experiment_results/training_testing/latest_train/10_03/testing_result_folders.txt\"\n",
    "#combination_investigation_results = \"/media/sun/DATA/Drop_landing_workspace/suntao/Results/Experiment_results/training_testing/latest_train/10_03/metrics.csv\"\n",
    "fig_path, r2= plot_sensor_config_investigation_results(combination_investigation_results, \n",
    "                                                    landing_manner='single_leg_R',\n",
    "                                                    estimated_variable = 'GRF',\n",
    "                                                    syn_features_label='both',\n",
    "                                                    title=' estimation in single-leg drop landing',\n",
    "                                                    LSTM_unit=35,\n",
    "                                                    drop_value=0.6)\n",
    "print(fig_path)"
   ]
  },
  {
   "cell_type": "markdown",
   "id": "94e95b91-66f2-47b0-a161-b2d038c3b2b6",
   "metadata": {
    "tags": []
   },
   "source": [
    "**Figure 5. R2 of the vertical ground reaction force (GRF) estimation with different IMU configurations in single-leg drop landing.**\n",
    "    \n",
    "#### Results:\n",
    "\n",
    "1. IMU configuration with good estimation accuracy\n",
    "\n",
    "| IMU configuration categories | IMU configurations with good accuracy (0.9 < median R2 < 0.95) | IMU configurations with excellent accuracy (median R2 > 0.95) |\n",
    "|---|---|---|\n",
    "| Single IMU | C | |\n",
    "| Two IMUs | ST, FC, WC, FW, SC | |\n",
    "| Three IMUs | FTC, FTW, STW, STC, FSC, FWC, SWC | TWC |\n",
    "| Four-five IMUs| FSTC, STWC, FTWC, FSTWC| \n",
    "\n",
    "2. With more IMUs, the estimation has higher and stable accuracy in statistically.\n",
    "\n",
    "3. The IMU placement has significant influences on the GRF estimation accuracy of single-keg drop landing.\n",
    "    "
   ]
  },
  {
   "cell_type": "code",
   "execution_count": null,
   "id": "084562b0-2211-4e2c-94b1-1a29a8f58811",
   "metadata": {
    "jupyter": {
     "source_hidden": true
    },
    "tags": []
   },
   "outputs": [],
   "source": [
    "combination_investigation_results = \"/media/sun/DATA/Drop_landing_workspace/suntao/Results/Experiment_results/training_testing/latest_train/10_03/testing_result_folders.txt\"\n",
    "combination_investigation_results = \"/media/sun/DATA/Drop_landing_workspace/suntao/Results/Experiment_results/training_testing/latest_train/10_03/metrics.csv\"\n",
    "fig_path, r2 = plot_sensor_config_investigation_results(combination_investigation_results, \n",
    "                                                    landing_manner='single_leg_R',\n",
    "                                                    estimated_variable = 'KFM',\n",
    "                                                    syn_features_label='both',\n",
    "                                                    title=' estimation in single-leg drop landing',\n",
    "                                                    LSTM_unit=35,\n",
    "                                                    drop_value=0.6)\n",
    "print(fig_path)"
   ]
  },
  {
   "cell_type": "markdown",
   "id": "04fba155-bb34-44f9-8ba5-9c5474acc8d0",
   "metadata": {},
   "source": [
    "**Figure 6. R2 of the knee flexion moment (KFM) estimation with different IMU configurations in single-leg drop landing.**\n",
    "\n",
    "    \n",
    "#### Results:\n",
    "\n",
    "1. IMU configuration with good estimation accuracy\n",
    "\n",
    "| IMU configuration categories | IMU configurations with **moderate** accuracy (0.85 < median R2 < 0.9) |\n",
    "|---|---|\n",
    "| Single IMU | F | |\n",
    "| Two IMUs | SC |\n",
    "| Three IMUs | FWC |\n",
    "| Four-five IMUs| FSTC | \n",
    "\n",
    "2. Three, four, and five IMU configurations have similar estimation accuracy.\n"
   ]
  },
  {
   "cell_type": "code",
   "execution_count": 3,
   "id": "b2ce57bf-a254-4e7f-b31e-3e4997392dc7",
   "metadata": {
    "tags": []
   },
   "outputs": [
    {
     "ename": "FileNotFoundError",
     "evalue": "[Errno 2] No such file or directory: '/media/sun/DATA/Drop_landing_workspace/suntao/Results/Experiment_results/training_testing/study_lstm_units/125_all_imu/metrics.csv'",
     "output_type": "error",
     "traceback": [
      "\u001b[0;31m---------------------------------------------------------------------------\u001b[0m",
      "\u001b[0;31mFileNotFoundError\u001b[0m                         Traceback (most recent call last)",
      "\u001b[0;32m<ipython-input-3-6ee511547413>\u001b[0m in \u001b[0;36m<module>\u001b[0;34m\u001b[0m\n\u001b[1;32m      4\u001b[0m \u001b[0mcombination_investigation_results\u001b[0m \u001b[0;34m=\u001b[0m \u001b[0;34m\"/media/sun/DATA/Drop_landing_workspace/suntao/Results/Experiment_results/training_testing/study_lstm_units/125_all_imu/metrics.csv\"\u001b[0m\u001b[0;34m\u001b[0m\u001b[0;34m\u001b[0m\u001b[0m\n\u001b[1;32m      5\u001b[0m \u001b[0mmetric_fields\u001b[0m\u001b[0;34m=\u001b[0m\u001b[0;34m[\u001b[0m\u001b[0;34m'r2'\u001b[0m\u001b[0;34m,\u001b[0m\u001b[0;34m'r_rmse'\u001b[0m\u001b[0;34m,\u001b[0m\u001b[0;34m'rmse'\u001b[0m\u001b[0;34m]\u001b[0m\u001b[0;34m\u001b[0m\u001b[0;34m\u001b[0m\u001b[0m\n\u001b[0;32m----> 6\u001b[0;31m \u001b[0mmetrics\u001b[0m \u001b[0;34m=\u001b[0m \u001b[0mget_investigation_metrics\u001b[0m\u001b[0;34m(\u001b[0m\u001b[0mcombination_investigation_results\u001b[0m\u001b[0;34m,\u001b[0m\u001b[0mmetric_fields\u001b[0m\u001b[0;34m=\u001b[0m\u001b[0mmetric_fields\u001b[0m\u001b[0;34m)\u001b[0m\u001b[0;34m\u001b[0m\u001b[0;34m\u001b[0m\u001b[0m\n\u001b[0m\u001b[1;32m      7\u001b[0m \u001b[0;34m\u001b[0m\u001b[0m\n\u001b[1;32m      8\u001b[0m \u001b[0mmetrics\u001b[0m \u001b[0;34m=\u001b[0m \u001b[0mmetrics\u001b[0m\u001b[0;34m[\u001b[0m\u001b[0mmetrics\u001b[0m\u001b[0;34m[\u001b[0m\u001b[0;34m'Sensor configurations'\u001b[0m\u001b[0;34m]\u001b[0m\u001b[0;34m==\u001b[0m\u001b[0;34m'FSTWC'\u001b[0m\u001b[0;34m]\u001b[0m\u001b[0;34m\u001b[0m\u001b[0;34m\u001b[0m\u001b[0m\n",
      "\u001b[0;32m~/workspace/PythonProject/DataAnalysis/P5/drop_landing_estimation/script/estimation_assessment/scores.py\u001b[0m in \u001b[0;36mget_investigation_metrics\u001b[0;34m(combination_investigation_results, metric_fields)\u001b[0m\n\u001b[1;32m    568\u001b[0m         \u001b[0mmetrics\u001b[0m \u001b[0;34m=\u001b[0m \u001b[0mpd_assessment\u001b[0m\u001b[0;34m.\u001b[0m\u001b[0mloc\u001b[0m\u001b[0;34m[\u001b[0m\u001b[0mpd_assessment\u001b[0m\u001b[0;34m[\u001b[0m\u001b[0;34m'metrics'\u001b[0m\u001b[0;34m]\u001b[0m\u001b[0;34m.\u001b[0m\u001b[0misin\u001b[0m\u001b[0;34m(\u001b[0m\u001b[0mmetric_fields\u001b[0m\u001b[0;34m)\u001b[0m\u001b[0;34m]\u001b[0m\u001b[0;34m\u001b[0m\u001b[0;34m\u001b[0m\u001b[0m\n\u001b[1;32m    569\u001b[0m     \u001b[0;32melif\u001b[0m\u001b[0;34m(\u001b[0m\u001b[0mre\u001b[0m\u001b[0;34m.\u001b[0m\u001b[0msearch\u001b[0m\u001b[0;34m(\u001b[0m\u001b[0;34m'metrics'\u001b[0m\u001b[0;34m,\u001b[0m\u001b[0mos\u001b[0m\u001b[0;34m.\u001b[0m\u001b[0mpath\u001b[0m\u001b[0;34m.\u001b[0m\u001b[0mbasename\u001b[0m\u001b[0;34m(\u001b[0m\u001b[0mcombination_investigation_results\u001b[0m\u001b[0;34m)\u001b[0m\u001b[0;34m)\u001b[0m\u001b[0;34m)\u001b[0m\u001b[0;34m:\u001b[0m\u001b[0;34m\u001b[0m\u001b[0;34m\u001b[0m\u001b[0m\n\u001b[0;32m--> 570\u001b[0;31m         \u001b[0mpd_assessment\u001b[0m \u001b[0;34m=\u001b[0m \u001b[0mpd\u001b[0m\u001b[0;34m.\u001b[0m\u001b[0mread_csv\u001b[0m\u001b[0;34m(\u001b[0m\u001b[0mcombination_investigation_results\u001b[0m\u001b[0;34m,\u001b[0m \u001b[0mheader\u001b[0m\u001b[0;34m=\u001b[0m\u001b[0;36m0\u001b[0m\u001b[0;34m)\u001b[0m\u001b[0;34m\u001b[0m\u001b[0;34m\u001b[0m\u001b[0m\n\u001b[0m\u001b[1;32m    571\u001b[0m         \u001b[0mmetrics\u001b[0m \u001b[0;34m=\u001b[0m \u001b[0mpd_assessment\u001b[0m\u001b[0;34m.\u001b[0m\u001b[0mloc\u001b[0m\u001b[0;34m[\u001b[0m\u001b[0mpd_assessment\u001b[0m\u001b[0;34m[\u001b[0m\u001b[0;34m'metrics'\u001b[0m\u001b[0;34m]\u001b[0m\u001b[0;34m.\u001b[0m\u001b[0misin\u001b[0m\u001b[0;34m(\u001b[0m\u001b[0mmetric_fields\u001b[0m\u001b[0;34m)\u001b[0m\u001b[0;34m]\u001b[0m\u001b[0;34m\u001b[0m\u001b[0;34m\u001b[0m\u001b[0m\n\u001b[1;32m    572\u001b[0m     \u001b[0;32melse\u001b[0m\u001b[0;34m:\u001b[0m\u001b[0;34m\u001b[0m\u001b[0;34m\u001b[0m\u001b[0m\n",
      "\u001b[0;32m~/.pyenv/versions/DataVisualization/lib/python3.9/site-packages/pandas/io/parsers.py\u001b[0m in \u001b[0;36mread_csv\u001b[0;34m(filepath_or_buffer, sep, delimiter, header, names, index_col, usecols, squeeze, prefix, mangle_dupe_cols, dtype, engine, converters, true_values, false_values, skipinitialspace, skiprows, skipfooter, nrows, na_values, keep_default_na, na_filter, verbose, skip_blank_lines, parse_dates, infer_datetime_format, keep_date_col, date_parser, dayfirst, cache_dates, iterator, chunksize, compression, thousands, decimal, lineterminator, quotechar, quoting, doublequote, escapechar, comment, encoding, dialect, error_bad_lines, warn_bad_lines, delim_whitespace, low_memory, memory_map, float_precision, storage_options)\u001b[0m\n\u001b[1;32m    608\u001b[0m     \u001b[0mkwds\u001b[0m\u001b[0;34m.\u001b[0m\u001b[0mupdate\u001b[0m\u001b[0;34m(\u001b[0m\u001b[0mkwds_defaults\u001b[0m\u001b[0;34m)\u001b[0m\u001b[0;34m\u001b[0m\u001b[0;34m\u001b[0m\u001b[0m\n\u001b[1;32m    609\u001b[0m \u001b[0;34m\u001b[0m\u001b[0m\n\u001b[0;32m--> 610\u001b[0;31m     \u001b[0;32mreturn\u001b[0m \u001b[0m_read\u001b[0m\u001b[0;34m(\u001b[0m\u001b[0mfilepath_or_buffer\u001b[0m\u001b[0;34m,\u001b[0m \u001b[0mkwds\u001b[0m\u001b[0;34m)\u001b[0m\u001b[0;34m\u001b[0m\u001b[0;34m\u001b[0m\u001b[0m\n\u001b[0m\u001b[1;32m    611\u001b[0m \u001b[0;34m\u001b[0m\u001b[0m\n\u001b[1;32m    612\u001b[0m \u001b[0;34m\u001b[0m\u001b[0m\n",
      "\u001b[0;32m~/.pyenv/versions/DataVisualization/lib/python3.9/site-packages/pandas/io/parsers.py\u001b[0m in \u001b[0;36m_read\u001b[0;34m(filepath_or_buffer, kwds)\u001b[0m\n\u001b[1;32m    460\u001b[0m \u001b[0;34m\u001b[0m\u001b[0m\n\u001b[1;32m    461\u001b[0m     \u001b[0;31m# Create the parser.\u001b[0m\u001b[0;34m\u001b[0m\u001b[0;34m\u001b[0m\u001b[0;34m\u001b[0m\u001b[0m\n\u001b[0;32m--> 462\u001b[0;31m     \u001b[0mparser\u001b[0m \u001b[0;34m=\u001b[0m \u001b[0mTextFileReader\u001b[0m\u001b[0;34m(\u001b[0m\u001b[0mfilepath_or_buffer\u001b[0m\u001b[0;34m,\u001b[0m \u001b[0;34m**\u001b[0m\u001b[0mkwds\u001b[0m\u001b[0;34m)\u001b[0m\u001b[0;34m\u001b[0m\u001b[0;34m\u001b[0m\u001b[0m\n\u001b[0m\u001b[1;32m    463\u001b[0m \u001b[0;34m\u001b[0m\u001b[0m\n\u001b[1;32m    464\u001b[0m     \u001b[0;32mif\u001b[0m \u001b[0mchunksize\u001b[0m \u001b[0;32mor\u001b[0m \u001b[0miterator\u001b[0m\u001b[0;34m:\u001b[0m\u001b[0;34m\u001b[0m\u001b[0;34m\u001b[0m\u001b[0m\n",
      "\u001b[0;32m~/.pyenv/versions/DataVisualization/lib/python3.9/site-packages/pandas/io/parsers.py\u001b[0m in \u001b[0;36m__init__\u001b[0;34m(self, f, engine, **kwds)\u001b[0m\n\u001b[1;32m    817\u001b[0m             \u001b[0mself\u001b[0m\u001b[0;34m.\u001b[0m\u001b[0moptions\u001b[0m\u001b[0;34m[\u001b[0m\u001b[0;34m\"has_index_names\"\u001b[0m\u001b[0;34m]\u001b[0m \u001b[0;34m=\u001b[0m \u001b[0mkwds\u001b[0m\u001b[0;34m[\u001b[0m\u001b[0;34m\"has_index_names\"\u001b[0m\u001b[0;34m]\u001b[0m\u001b[0;34m\u001b[0m\u001b[0;34m\u001b[0m\u001b[0m\n\u001b[1;32m    818\u001b[0m \u001b[0;34m\u001b[0m\u001b[0m\n\u001b[0;32m--> 819\u001b[0;31m         \u001b[0mself\u001b[0m\u001b[0;34m.\u001b[0m\u001b[0m_engine\u001b[0m \u001b[0;34m=\u001b[0m \u001b[0mself\u001b[0m\u001b[0;34m.\u001b[0m\u001b[0m_make_engine\u001b[0m\u001b[0;34m(\u001b[0m\u001b[0mself\u001b[0m\u001b[0;34m.\u001b[0m\u001b[0mengine\u001b[0m\u001b[0;34m)\u001b[0m\u001b[0;34m\u001b[0m\u001b[0;34m\u001b[0m\u001b[0m\n\u001b[0m\u001b[1;32m    820\u001b[0m \u001b[0;34m\u001b[0m\u001b[0m\n\u001b[1;32m    821\u001b[0m     \u001b[0;32mdef\u001b[0m \u001b[0mclose\u001b[0m\u001b[0;34m(\u001b[0m\u001b[0mself\u001b[0m\u001b[0;34m)\u001b[0m\u001b[0;34m:\u001b[0m\u001b[0;34m\u001b[0m\u001b[0;34m\u001b[0m\u001b[0m\n",
      "\u001b[0;32m~/.pyenv/versions/DataVisualization/lib/python3.9/site-packages/pandas/io/parsers.py\u001b[0m in \u001b[0;36m_make_engine\u001b[0;34m(self, engine)\u001b[0m\n\u001b[1;32m   1048\u001b[0m             )\n\u001b[1;32m   1049\u001b[0m         \u001b[0;31m# error: Too many arguments for \"ParserBase\"\u001b[0m\u001b[0;34m\u001b[0m\u001b[0;34m\u001b[0m\u001b[0;34m\u001b[0m\u001b[0m\n\u001b[0;32m-> 1050\u001b[0;31m         \u001b[0;32mreturn\u001b[0m \u001b[0mmapping\u001b[0m\u001b[0;34m[\u001b[0m\u001b[0mengine\u001b[0m\u001b[0;34m]\u001b[0m\u001b[0;34m(\u001b[0m\u001b[0mself\u001b[0m\u001b[0;34m.\u001b[0m\u001b[0mf\u001b[0m\u001b[0;34m,\u001b[0m \u001b[0;34m**\u001b[0m\u001b[0mself\u001b[0m\u001b[0;34m.\u001b[0m\u001b[0moptions\u001b[0m\u001b[0;34m)\u001b[0m  \u001b[0;31m# type: ignore[call-arg]\u001b[0m\u001b[0;34m\u001b[0m\u001b[0;34m\u001b[0m\u001b[0m\n\u001b[0m\u001b[1;32m   1051\u001b[0m \u001b[0;34m\u001b[0m\u001b[0m\n\u001b[1;32m   1052\u001b[0m     \u001b[0;32mdef\u001b[0m \u001b[0m_failover_to_python\u001b[0m\u001b[0;34m(\u001b[0m\u001b[0mself\u001b[0m\u001b[0;34m)\u001b[0m\u001b[0;34m:\u001b[0m\u001b[0;34m\u001b[0m\u001b[0;34m\u001b[0m\u001b[0m\n",
      "\u001b[0;32m~/.pyenv/versions/DataVisualization/lib/python3.9/site-packages/pandas/io/parsers.py\u001b[0m in \u001b[0;36m__init__\u001b[0;34m(self, src, **kwds)\u001b[0m\n\u001b[1;32m   1865\u001b[0m \u001b[0;34m\u001b[0m\u001b[0m\n\u001b[1;32m   1866\u001b[0m         \u001b[0;31m# open handles\u001b[0m\u001b[0;34m\u001b[0m\u001b[0;34m\u001b[0m\u001b[0;34m\u001b[0m\u001b[0m\n\u001b[0;32m-> 1867\u001b[0;31m         \u001b[0mself\u001b[0m\u001b[0;34m.\u001b[0m\u001b[0m_open_handles\u001b[0m\u001b[0;34m(\u001b[0m\u001b[0msrc\u001b[0m\u001b[0;34m,\u001b[0m \u001b[0mkwds\u001b[0m\u001b[0;34m)\u001b[0m\u001b[0;34m\u001b[0m\u001b[0;34m\u001b[0m\u001b[0m\n\u001b[0m\u001b[1;32m   1868\u001b[0m         \u001b[0;32massert\u001b[0m \u001b[0mself\u001b[0m\u001b[0;34m.\u001b[0m\u001b[0mhandles\u001b[0m \u001b[0;32mis\u001b[0m \u001b[0;32mnot\u001b[0m \u001b[0;32mNone\u001b[0m\u001b[0;34m\u001b[0m\u001b[0;34m\u001b[0m\u001b[0m\n\u001b[1;32m   1869\u001b[0m         \u001b[0;32mfor\u001b[0m \u001b[0mkey\u001b[0m \u001b[0;32min\u001b[0m \u001b[0;34m(\u001b[0m\u001b[0;34m\"storage_options\"\u001b[0m\u001b[0;34m,\u001b[0m \u001b[0;34m\"encoding\"\u001b[0m\u001b[0;34m,\u001b[0m \u001b[0;34m\"memory_map\"\u001b[0m\u001b[0;34m,\u001b[0m \u001b[0;34m\"compression\"\u001b[0m\u001b[0;34m)\u001b[0m\u001b[0;34m:\u001b[0m\u001b[0;34m\u001b[0m\u001b[0;34m\u001b[0m\u001b[0m\n",
      "\u001b[0;32m~/.pyenv/versions/DataVisualization/lib/python3.9/site-packages/pandas/io/parsers.py\u001b[0m in \u001b[0;36m_open_handles\u001b[0;34m(self, src, kwds)\u001b[0m\n\u001b[1;32m   1360\u001b[0m         \u001b[0mLet\u001b[0m \u001b[0mthe\u001b[0m \u001b[0mreaders\u001b[0m \u001b[0mopen\u001b[0m \u001b[0mIOHanldes\u001b[0m \u001b[0mafter\u001b[0m \u001b[0mthey\u001b[0m \u001b[0mare\u001b[0m \u001b[0mdone\u001b[0m \u001b[0;32mwith\u001b[0m \u001b[0mtheir\u001b[0m \u001b[0mpotential\u001b[0m \u001b[0mraises\u001b[0m\u001b[0;34m.\u001b[0m\u001b[0;34m\u001b[0m\u001b[0;34m\u001b[0m\u001b[0m\n\u001b[1;32m   1361\u001b[0m         \"\"\"\n\u001b[0;32m-> 1362\u001b[0;31m         self.handles = get_handle(\n\u001b[0m\u001b[1;32m   1363\u001b[0m             \u001b[0msrc\u001b[0m\u001b[0;34m,\u001b[0m\u001b[0;34m\u001b[0m\u001b[0;34m\u001b[0m\u001b[0m\n\u001b[1;32m   1364\u001b[0m             \u001b[0;34m\"r\"\u001b[0m\u001b[0;34m,\u001b[0m\u001b[0;34m\u001b[0m\u001b[0;34m\u001b[0m\u001b[0m\n",
      "\u001b[0;32m~/.pyenv/versions/DataVisualization/lib/python3.9/site-packages/pandas/io/common.py\u001b[0m in \u001b[0;36mget_handle\u001b[0;34m(path_or_buf, mode, encoding, compression, memory_map, is_text, errors, storage_options)\u001b[0m\n\u001b[1;32m    640\u001b[0m                 \u001b[0merrors\u001b[0m \u001b[0;34m=\u001b[0m \u001b[0;34m\"replace\"\u001b[0m\u001b[0;34m\u001b[0m\u001b[0;34m\u001b[0m\u001b[0m\n\u001b[1;32m    641\u001b[0m             \u001b[0;31m# Encoding\u001b[0m\u001b[0;34m\u001b[0m\u001b[0;34m\u001b[0m\u001b[0;34m\u001b[0m\u001b[0m\n\u001b[0;32m--> 642\u001b[0;31m             handle = open(\n\u001b[0m\u001b[1;32m    643\u001b[0m                 \u001b[0mhandle\u001b[0m\u001b[0;34m,\u001b[0m\u001b[0;34m\u001b[0m\u001b[0;34m\u001b[0m\u001b[0m\n\u001b[1;32m    644\u001b[0m                 \u001b[0mioargs\u001b[0m\u001b[0;34m.\u001b[0m\u001b[0mmode\u001b[0m\u001b[0;34m,\u001b[0m\u001b[0;34m\u001b[0m\u001b[0;34m\u001b[0m\u001b[0m\n",
      "\u001b[0;31mFileNotFoundError\u001b[0m: [Errno 2] No such file or directory: '/media/sun/DATA/Drop_landing_workspace/suntao/Results/Experiment_results/training_testing/study_lstm_units/125_all_imu/metrics.csv'"
     ]
    }
   ],
   "source": [
    "combination_investigation_results = \"/media/sun/DATA/Drop_landing_workspace/suntao/Results/Experiment_results/training_testing/latest_train/testing_result_folders.txt\"\n",
    "combination_investigation_results = \"/media/sun/DATA/Drop_landing_workspace/suntao/Results/Experiment_results/training_testing/latest_train/metrics.csv\"\n",
    "combination_investigation_results = \"/media/sun/DATA/Drop_landing_workspace/suntao/Results/Experiment_results/training_testing/study_lstm_units/metrics.csv\"\n",
    "combination_investigation_results = \"/media/sun/DATA/Drop_landing_workspace/suntao/Results/Experiment_results/training_testing/study_lstm_units/125_all_imu/metrics.csv\"\n",
    "metric_fields=['r2','r_rmse','rmse']\n",
    "metrics = get_investigation_metrics(combination_investigation_results,metric_fields=metric_fields)\n",
    "\n",
    "metrics = metrics[metrics['Sensor configurations']=='FSTWC']\n",
    "'''\n",
    "metrics = parase_plot_data(combination_investigation_results,\n",
    "                                        estimated_variable='GRF',\n",
    "                                        LSTM_unit=,\n",
    "                                        metric_fields=metric_fields,\n",
    "                                        sort_variable='LSTM units'\n",
    "                                         )\n",
    "\n",
    "'''\n",
    "metrics['IMU number']=metrics.loc[:,'Sensor configurations'].apply(lambda x: len(x))\n",
    "metrics = metrics.drop(metrics[(metrics['metrics']=='r2') & (metrics['scores']<0.6)].index)\n",
    "group_metrics = metrics.groupby(['estimated_variables','landing_manners','syn_features_labels','IMU number' ,'metrics'])\n",
    "statistic_metrics = group_metrics.describe().loc[:,'scores']\n",
    "statistic_metrics.loc[:,('mean','std')].round(3)"
   ]
  },
  {
   "cell_type": "code",
   "execution_count": null,
   "id": "2e919fe3-e31e-4985-a894-124d1efa7950",
   "metadata": {
    "jupyter": {
     "source_hidden": true
    }
   },
   "outputs": [],
   "source": [
    "metrics.head(30)"
   ]
  },
  {
   "cell_type": "code",
   "execution_count": 5,
   "id": "141e6a24-e732-403e-af52-8c05bdc91f54",
   "metadata": {
    "tags": []
   },
   "outputs": [
    {
     "name": "stdout",
     "output_type": "stream",
     "text": [
      "DROP R2 cases below :0.1\n",
      "All LSTM units are used\n",
      "All sensor configurations are used\n",
      "All IMU number are used\n"
     ]
    },
    {
     "data": {
      "image/png": "[encoded data removed]",
      "text/plain": [
       "<Figure size 360x288 with 1 Axes>"
      ]
     },
     "metadata": {
      "needs_background": "light"
     },
     "output_type": "display_data"
    }
   ],
   "source": [
    "# sensor config, lstm units\n",
    "combination_investigation_results = \"/media/sun/DATA/Drop_landing_workspace/suntao/Results/Experiment_results/training_testing/1_collected_data/study_lstm_units_GRF/r2_metrics.csv\"\n",
    "combination_investigation_results = \"/media/sun/DATA/Drop_landing_workspace/suntao/Results/Experiment_results/training_testing/4_collected_sensor_lstm/r2_metrics.csv\"\n",
    "fig_path,metrics = plot_overall_sensorconfig_modelsize_investigation_results(combination_investigation_results,\n",
    "                                                                            estimated_variable = 'GRF',\n",
    "                                                                            landing_manner='double_legs',\n",
    "                                                                            syn_features_label = False,\n",
    "                                                                            title = ' estimation in double-leg drop landing',\n",
    "                                                                            drop_value = 0.0,\n",
    "                                                                            hue = 'IMU number'\n",
    "                                                                        )"
   ]
  },
  {
   "cell_type": "code",
   "execution_count": 131,
   "id": "1ffc5cb2-70e7-414b-864a-add8ba8097a2",
   "metadata": {
    "jupyter": {
     "source_hidden": true
    },
    "tags": []
   },
   "outputs": [
    {
     "name": "stdout",
     "output_type": "stream",
     "text": [
      "DROP R2 cases below :0.6\n"
     ]
    },
    {
     "data": {
      "image/png": "[encoded data removed]",
      "text/plain": [
       "<Figure size 936x432 with 4 Axes>"
      ]
     },
     "metadata": {
      "needs_background": "light"
     },
     "output_type": "display_data"
    }
   ],
   "source": [
    "combination_investigation_results = \"/media/sun/DATA/Drop_landing_workspace/suntao/Results/Experiment_results/training_testing/1_collected_data/study_lstm_units_GRF/r2_metrics.csv\"\n",
    "landing_manner='double_legs'\n",
    "fig_path, metrics = plot_sensorconfig_investigation_results(\n",
    "                                                        combination_investigation_results,\n",
    "                                                        landing_manner = landing_manner,\n",
    "                                                        estimated_variable = 'GRF',\n",
    "                                                        syn_features_label = False,\n",
    "                                                        title = ' estimation in double-leg drop landing',\n",
    "                                                        LSTM_unit = [125], \n",
    "                                                        drop_value = 0.6,\n",
    "                                                        IMU_number = [4]\n",
    "                                                       )"
   ]
  },
  {
   "cell_type": "markdown",
   "id": "19e1efc9-1b63-4951-b6d5-1261bb0a692e",
   "metadata": {},
   "source": [
    "## GRF in double leg drop landing"
   ]
  },
  {
   "cell_type": "code",
   "execution_count": null,
   "id": "21e4d836-531d-429b-8302-477d59990c29",
   "metadata": {
    "jupyter": {
     "source_hidden": true
    },
    "tags": []
   },
   "outputs": [],
   "source": [
    "#combination_investigation_results = \"/media/sun/DATA/Drop_landing_workspace/suntao/Results/Experiment_results/training_testing/1_collected_data/study_lstm_units_GRF/r2_metrics.csv\"\n",
    "#combination_investigation_results = \"/media/sun/DATA/Drop_landing_workspace/suntao/Results/Experiment_results/training_testing/1_collected_data/study_lstm_units_GRF/testing_result_folders.txt\"\n",
    "combination_investigation_results = \"/media/sun/DATA/Drop_landing_workspace/suntao/Results/Experiment_results/training_testing/2_collected_full_cv/testing_result_folders.txt\"\n",
    "combination_investigation_results = \"/media/sun/DATA/Drop_landing_workspace/suntao/Results/Experiment_results/training_testing/2_collected_full_cv/r2_metrics.csv\"\n",
    "#combination_investigation_results = \"/media/sun/DATA/Drop_landing_workspace/suntao/Results/Experiment_results/training_testing/2_collected_full_cv/1_imu_full_cv_all_trials/testing_result_folders.txt\"\n",
    "#combination_investigation_results = \"/media/sun/DATA/Drop_landing_workspace/suntao/Results/Experiment_results/training_testing/2_collected_full_cv/full_cv_all_trial/r2_metrics.csv\"\n",
    "landing_manner='double_legs'\n",
    "\n",
    "#metric_fields = ['r2']\n",
    "\n",
    "#pdb.set_trace()\n",
    "# sensor config, lstm units\n",
    "fig_path, metrics = plot_overall_sensorconfig_modelsize_investigation_results(combination_investigation_results,\n",
    "                                                                            estimated_variable = 'GRF',\n",
    "                                                                            landing_manner=landing_manner,\n",
    "                                                                            syn_features_label = False,\n",
    "                                                                            title = ' estimation in double-leg drop landing',\n",
    "                                                                            drop_value = 0.1,\n",
    "                                                                            hue = 'IMU number'\n",
    "                                                                            )"
   ]
  },
  {
   "cell_type": "code",
   "execution_count": 13,
   "id": "6b157ad5-d3b3-43cc-9746-d8c55f04ba7c",
   "metadata": {},
   "outputs": [
    {
     "name": "stdout",
     "output_type": "stream",
     "text": [
      "DROP R2 cases below :0.0\n",
      "All LSTM units are used\n",
      "All sensor configurations are used\n",
      "All IMU number are used\n",
      "p-value annotation legend:\n",
      "      ns: p <= 1.00e+00\n",
      "       *: 1.00e-02 < p <= 5.00e-02\n",
      "      **: 1.00e-03 < p <= 1.00e-02\n",
      "     ***: 1.00e-04 < p <= 1.00e-03\n",
      "    ****: p <= 1.00e-04\n",
      "\n",
      "1 vs. 2: t-test independent samples, P_val:3.669e-02 t=-2.090e+00\n",
      "2 vs. 3: t-test independent samples, P_val:7.058e-03 t=-2.695e+00\n",
      "4 vs. 5: t-test independent samples, P_val:4.792e-01 t=-7.077e-01\n",
      "3 vs. 4: t-test independent samples, P_val:1.415e-02 t=-2.454e+00\n"
     ]
    },
    {
     "data": {
      "image/png": "[encoded data removed]",
      "text/plain": [
       "<Figure size 360x288 with 1 Axes>"
      ]
     },
     "metadata": {},
     "output_type": "display_data"
    },
    {
     "data": {
      "text/plain": [
       "'/media/sun/DATA/Drop_landing_workspace/suntao/Results/Experiment_results/training_testing/2_collected_full_cv/data_visulization/2022-06-29/11_56_55_IMU_number.svg'"
      ]
     },
     "execution_count": 13,
     "metadata": {},
     "output_type": "execute_result"
    }
   ],
   "source": [
    "combination_investigation_results = \"/media/sun/DATA/Drop_landing_workspace/suntao/Results/Experiment_results/training_testing/2_collected_full_cv/r2_metrics.csv\"\n",
    "combination_investigation_results = \"/media/sun/DATA/Drop_landing_workspace/suntao/Results/Experiment_results/training_testing/2_collected_full_cv/5_imu_full_cv_all_trials/testing_result_folders.txt\"\n",
    "combination_investigation_results = \"/media/sun/DATA/Drop_landing_workspace/suntao/Results/Experiment_results/training_testing/2_collected_full_cv/4_imu_full_cv_all_trials/testing_result_folders.txt\"\n",
    "#combination_investigation_results = \"/media/sun/DATA/Drop_landing_workspace/suntao/Results/Experiment_results/training_testing/testing_result_folders.txt\"\n",
    "#combination_investigation_results = \"/media/sun/DATA/Drop_landing_workspace/suntao/Results/Experiment_results/training_testing/3_collected_modeling/testing_result_folders.txt\"\n",
    "combination_investigation_results = \"/media/sun/DATA/Drop_landing_workspace/suntao/Results/Experiment_results/training_testing/2_collected_full_cv/testing_result_folders.txt\"\n",
    "combination_investigation_results = \"/media/sun/DATA/Drop_landing_workspace/suntao/Results/Experiment_results/training_testing/2_collected_full_cv/r2_metrics.csv\"\n",
    "landing_manner = 'double_legs'\n",
    "estimated_variable = 'GRF'\n",
    "syn_features_label = False\n",
    "use_frame_index = True\n",
    "drop_value = 0.0\n",
    "metric_fields = ['r2']\n",
    "metrics = parase_plot_data(combination_investigation_results,\n",
    "                           landing_manner=landing_manner,\n",
    "                           estimated_variable=estimated_variable,\n",
    "                           syn_features_label=syn_features_label,\n",
    "                           use_frame_index=use_frame_index,\n",
    "                           drop_value=drop_value,\n",
    "                           metric_fields=metric_fields\n",
    "                           #sort_variable='IMU number'\n",
    "                          )\n",
    "\n",
    "states_palette = sns.color_palette(\"YlGnBu\", n_colors=5)\n",
    "x='IMU number'\n",
    "y='scores'\n",
    "\n",
    "metrics['IMU number'] = metrics['IMU number'].astype(str)\n",
    "sns.set(font_scale=1.1,style='whitegrid')\n",
    "\n",
    "hue_plot_params = {\n",
    "'data': metrics,\n",
    "'x': x,\n",
    "'y': y,\n",
    "#\"order\": order,\n",
    "#\"hue\": \"Control methods\",\n",
    "#\"hue_order\": hue_order,\n",
    "\"showfliers\":False\n",
    "#\"showmeans\": True,\n",
    "#\"palette\": colors\n",
    "}\n",
    "\n",
    "g = sns.boxplot( **hue_plot_params)\n",
    "g.figure.set_figwidth(5)\n",
    "\n",
    "g.set_ylabel('$R^2$')\n",
    "g.set_xlabel('IMU number')\n",
    "g.grid(visible=True, axis='both',which='major')\n",
    "#g.set_ylim([0.3,1.2])\n",
    "g.set_yticks([0.6,0.7,0.8,0.9,1.0])\n",
    "g.set_xticks([0,1,2,3,4])\n",
    "g.set_xticklabels(['1','2','3','4','5'])\n",
    "\n",
    "# statistical test\n",
    "#test_method=\"Mann-Whitney\"\n",
    "test_method=\"t-test_ind\"\n",
    "pairs = (\n",
    "[('1','2'),('2','3'),('4','5'),('3','4')]\n",
    ")\n",
    "annotator=Annotator(g,pairs=pairs,**hue_plot_params)\n",
    "annotator.configure(test=test_method, text_format='star', loc='inside')\n",
    "annotator.apply_and_annotate()\n",
    "\n",
    "save_figure(os.path.dirname(combination_investigation_results),'IMU_number',fig_format='svg')\n"
   ]
  },
  {
   "cell_type": "code",
   "execution_count": 16,
   "id": "84bbc788-b6d5-4e5f-bf75-bc09a923fce0",
   "metadata": {},
   "outputs": [
    {
     "name": "stderr",
     "output_type": "stream",
     "text": [
      "./../estimation_assessment/scores.py:580: SettingWithCopyWarning: \n",
      "A value is trying to be set on a copy of a slice from a DataFrame.\n",
      "Try using .loc[row_indexer,col_indexer] = value instead\n",
      "\n",
      "See the caveats in the documentation: https://pandas.pydata.org/pandas-docs/stable/user_guide/indexing.html#returning-a-view-versus-a-copy\n",
      "  metrics['IMU number']=metrics.loc[:,'Sensor configurations'].apply(lambda x: len(x))\n"
     ]
    },
    {
     "name": "stdout",
     "output_type": "stream",
     "text": [
      "DROP R2 cases below :0.0\n",
      "All LSTM units are used\n",
      "All sensor configurations are used\n",
      "All IMU number are used\n"
     ]
    },
    {
     "data": {
      "text/html": [
       "<div>\n",
       "<style scoped>\n",
       "    .dataframe tbody tr th:only-of-type {\n",
       "        vertical-align: middle;\n",
       "    }\n",
       "\n",
       "    .dataframe tbody tr th {\n",
       "        vertical-align: top;\n",
       "    }\n",
       "\n",
       "    .dataframe thead tr th {\n",
       "        text-align: left;\n",
       "    }\n",
       "\n",
       "    .dataframe thead tr:last-of-type th {\n",
       "        text-align: right;\n",
       "    }\n",
       "</style>\n",
       "<table border=\"1\" class=\"dataframe\">\n",
       "  <thead>\n",
       "    <tr>\n",
       "      <th></th>\n",
       "      <th></th>\n",
       "      <th colspan=\"8\" halign=\"left\">scores</th>\n",
       "      <th colspan=\"8\" halign=\"left\">IMU number</th>\n",
       "    </tr>\n",
       "    <tr>\n",
       "      <th></th>\n",
       "      <th></th>\n",
       "      <th>count</th>\n",
       "      <th>mean</th>\n",
       "      <th>std</th>\n",
       "      <th>min</th>\n",
       "      <th>25%</th>\n",
       "      <th>50%</th>\n",
       "      <th>75%</th>\n",
       "      <th>max</th>\n",
       "      <th>count</th>\n",
       "      <th>mean</th>\n",
       "      <th>std</th>\n",
       "      <th>min</th>\n",
       "      <th>25%</th>\n",
       "      <th>50%</th>\n",
       "      <th>75%</th>\n",
       "      <th>max</th>\n",
       "    </tr>\n",
       "    <tr>\n",
       "      <th>metrics</th>\n",
       "      <th>Sensor configurations</th>\n",
       "      <th></th>\n",
       "      <th></th>\n",
       "      <th></th>\n",
       "      <th></th>\n",
       "      <th></th>\n",
       "      <th></th>\n",
       "      <th></th>\n",
       "      <th></th>\n",
       "      <th></th>\n",
       "      <th></th>\n",
       "      <th></th>\n",
       "      <th></th>\n",
       "      <th></th>\n",
       "      <th></th>\n",
       "      <th></th>\n",
       "      <th></th>\n",
       "    </tr>\n",
       "  </thead>\n",
       "  <tbody>\n",
       "    <tr>\n",
       "      <th rowspan=\"5\" valign=\"top\">r2</th>\n",
       "      <th>FSTC</th>\n",
       "      <td>431.0</td>\n",
       "      <td>0.815262</td>\n",
       "      <td>0.132330</td>\n",
       "      <td>0.279</td>\n",
       "      <td>0.7640</td>\n",
       "      <td>0.868</td>\n",
       "      <td>0.9080</td>\n",
       "      <td>0.975</td>\n",
       "      <td>431.0</td>\n",
       "      <td>4.0</td>\n",
       "      <td>0.0</td>\n",
       "      <td>4.0</td>\n",
       "      <td>4.0</td>\n",
       "      <td>4.0</td>\n",
       "      <td>4.0</td>\n",
       "      <td>4.0</td>\n",
       "    </tr>\n",
       "    <tr>\n",
       "      <th>FSTW</th>\n",
       "      <td>431.0</td>\n",
       "      <td>0.798847</td>\n",
       "      <td>0.149571</td>\n",
       "      <td>0.339</td>\n",
       "      <td>0.7185</td>\n",
       "      <td>0.844</td>\n",
       "      <td>0.9180</td>\n",
       "      <td>0.971</td>\n",
       "      <td>431.0</td>\n",
       "      <td>4.0</td>\n",
       "      <td>0.0</td>\n",
       "      <td>4.0</td>\n",
       "      <td>4.0</td>\n",
       "      <td>4.0</td>\n",
       "      <td>4.0</td>\n",
       "      <td>4.0</td>\n",
       "    </tr>\n",
       "    <tr>\n",
       "      <th>FSWC</th>\n",
       "      <td>431.0</td>\n",
       "      <td>0.797499</td>\n",
       "      <td>0.162860</td>\n",
       "      <td>0.042</td>\n",
       "      <td>0.7115</td>\n",
       "      <td>0.856</td>\n",
       "      <td>0.9225</td>\n",
       "      <td>0.975</td>\n",
       "      <td>431.0</td>\n",
       "      <td>4.0</td>\n",
       "      <td>0.0</td>\n",
       "      <td>4.0</td>\n",
       "      <td>4.0</td>\n",
       "      <td>4.0</td>\n",
       "      <td>4.0</td>\n",
       "      <td>4.0</td>\n",
       "    </tr>\n",
       "    <tr>\n",
       "      <th>FTWC</th>\n",
       "      <td>431.0</td>\n",
       "      <td>0.808875</td>\n",
       "      <td>0.125544</td>\n",
       "      <td>0.314</td>\n",
       "      <td>0.7510</td>\n",
       "      <td>0.847</td>\n",
       "      <td>0.9050</td>\n",
       "      <td>0.965</td>\n",
       "      <td>431.0</td>\n",
       "      <td>4.0</td>\n",
       "      <td>0.0</td>\n",
       "      <td>4.0</td>\n",
       "      <td>4.0</td>\n",
       "      <td>4.0</td>\n",
       "      <td>4.0</td>\n",
       "      <td>4.0</td>\n",
       "    </tr>\n",
       "    <tr>\n",
       "      <th>STWC</th>\n",
       "      <td>431.0</td>\n",
       "      <td>0.811176</td>\n",
       "      <td>0.149618</td>\n",
       "      <td>0.253</td>\n",
       "      <td>0.7565</td>\n",
       "      <td>0.870</td>\n",
       "      <td>0.9220</td>\n",
       "      <td>0.970</td>\n",
       "      <td>431.0</td>\n",
       "      <td>4.0</td>\n",
       "      <td>0.0</td>\n",
       "      <td>4.0</td>\n",
       "      <td>4.0</td>\n",
       "      <td>4.0</td>\n",
       "      <td>4.0</td>\n",
       "      <td>4.0</td>\n",
       "    </tr>\n",
       "    <tr>\n",
       "      <th rowspan=\"5\" valign=\"top\">r_rmse</th>\n",
       "      <th>FSTC</th>\n",
       "      <td>431.0</td>\n",
       "      <td>0.092130</td>\n",
       "      <td>0.032066</td>\n",
       "      <td>0.040</td>\n",
       "      <td>0.0670</td>\n",
       "      <td>0.084</td>\n",
       "      <td>0.1130</td>\n",
       "      <td>0.206</td>\n",
       "      <td>431.0</td>\n",
       "      <td>4.0</td>\n",
       "      <td>0.0</td>\n",
       "      <td>4.0</td>\n",
       "      <td>4.0</td>\n",
       "      <td>4.0</td>\n",
       "      <td>4.0</td>\n",
       "      <td>4.0</td>\n",
       "    </tr>\n",
       "    <tr>\n",
       "      <th>FSTW</th>\n",
       "      <td>431.0</td>\n",
       "      <td>0.094754</td>\n",
       "      <td>0.034905</td>\n",
       "      <td>0.040</td>\n",
       "      <td>0.0660</td>\n",
       "      <td>0.087</td>\n",
       "      <td>0.1200</td>\n",
       "      <td>0.203</td>\n",
       "      <td>431.0</td>\n",
       "      <td>4.0</td>\n",
       "      <td>0.0</td>\n",
       "      <td>4.0</td>\n",
       "      <td>4.0</td>\n",
       "      <td>4.0</td>\n",
       "      <td>4.0</td>\n",
       "      <td>4.0</td>\n",
       "    </tr>\n",
       "    <tr>\n",
       "      <th>FSWC</th>\n",
       "      <td>431.0</td>\n",
       "      <td>0.094752</td>\n",
       "      <td>0.038574</td>\n",
       "      <td>0.037</td>\n",
       "      <td>0.0640</td>\n",
       "      <td>0.087</td>\n",
       "      <td>0.1170</td>\n",
       "      <td>0.236</td>\n",
       "      <td>431.0</td>\n",
       "      <td>4.0</td>\n",
       "      <td>0.0</td>\n",
       "      <td>4.0</td>\n",
       "      <td>4.0</td>\n",
       "      <td>4.0</td>\n",
       "      <td>4.0</td>\n",
       "      <td>4.0</td>\n",
       "    </tr>\n",
       "    <tr>\n",
       "      <th>FTWC</th>\n",
       "      <td>431.0</td>\n",
       "      <td>0.094197</td>\n",
       "      <td>0.029058</td>\n",
       "      <td>0.043</td>\n",
       "      <td>0.0715</td>\n",
       "      <td>0.088</td>\n",
       "      <td>0.1130</td>\n",
       "      <td>0.173</td>\n",
       "      <td>431.0</td>\n",
       "      <td>4.0</td>\n",
       "      <td>0.0</td>\n",
       "      <td>4.0</td>\n",
       "      <td>4.0</td>\n",
       "      <td>4.0</td>\n",
       "      <td>4.0</td>\n",
       "      <td>4.0</td>\n",
       "    </tr>\n",
       "    <tr>\n",
       "      <th>STWC</th>\n",
       "      <td>431.0</td>\n",
       "      <td>0.091910</td>\n",
       "      <td>0.035296</td>\n",
       "      <td>0.039</td>\n",
       "      <td>0.0650</td>\n",
       "      <td>0.081</td>\n",
       "      <td>0.1175</td>\n",
       "      <td>0.197</td>\n",
       "      <td>431.0</td>\n",
       "      <td>4.0</td>\n",
       "      <td>0.0</td>\n",
       "      <td>4.0</td>\n",
       "      <td>4.0</td>\n",
       "      <td>4.0</td>\n",
       "      <td>4.0</td>\n",
       "      <td>4.0</td>\n",
       "    </tr>\n",
       "    <tr>\n",
       "      <th rowspan=\"5\" valign=\"top\">rmse</th>\n",
       "      <th>FSTC</th>\n",
       "      <td>431.0</td>\n",
       "      <td>0.203789</td>\n",
       "      <td>0.081900</td>\n",
       "      <td>0.066</td>\n",
       "      <td>0.1420</td>\n",
       "      <td>0.185</td>\n",
       "      <td>0.2455</td>\n",
       "      <td>0.461</td>\n",
       "      <td>431.0</td>\n",
       "      <td>4.0</td>\n",
       "      <td>0.0</td>\n",
       "      <td>4.0</td>\n",
       "      <td>4.0</td>\n",
       "      <td>4.0</td>\n",
       "      <td>4.0</td>\n",
       "      <td>4.0</td>\n",
       "    </tr>\n",
       "    <tr>\n",
       "      <th>FSTW</th>\n",
       "      <td>431.0</td>\n",
       "      <td>0.211401</td>\n",
       "      <td>0.091889</td>\n",
       "      <td>0.081</td>\n",
       "      <td>0.1360</td>\n",
       "      <td>0.189</td>\n",
       "      <td>0.2760</td>\n",
       "      <td>0.502</td>\n",
       "      <td>431.0</td>\n",
       "      <td>4.0</td>\n",
       "      <td>0.0</td>\n",
       "      <td>4.0</td>\n",
       "      <td>4.0</td>\n",
       "      <td>4.0</td>\n",
       "      <td>4.0</td>\n",
       "      <td>4.0</td>\n",
       "    </tr>\n",
       "    <tr>\n",
       "      <th>FSWC</th>\n",
       "      <td>431.0</td>\n",
       "      <td>0.207947</td>\n",
       "      <td>0.089732</td>\n",
       "      <td>0.079</td>\n",
       "      <td>0.1365</td>\n",
       "      <td>0.191</td>\n",
       "      <td>0.2665</td>\n",
       "      <td>0.532</td>\n",
       "      <td>431.0</td>\n",
       "      <td>4.0</td>\n",
       "      <td>0.0</td>\n",
       "      <td>4.0</td>\n",
       "      <td>4.0</td>\n",
       "      <td>4.0</td>\n",
       "      <td>4.0</td>\n",
       "      <td>4.0</td>\n",
       "    </tr>\n",
       "    <tr>\n",
       "      <th>FTWC</th>\n",
       "      <td>431.0</td>\n",
       "      <td>0.209668</td>\n",
       "      <td>0.080638</td>\n",
       "      <td>0.079</td>\n",
       "      <td>0.1485</td>\n",
       "      <td>0.192</td>\n",
       "      <td>0.2595</td>\n",
       "      <td>0.485</td>\n",
       "      <td>431.0</td>\n",
       "      <td>4.0</td>\n",
       "      <td>0.0</td>\n",
       "      <td>4.0</td>\n",
       "      <td>4.0</td>\n",
       "      <td>4.0</td>\n",
       "      <td>4.0</td>\n",
       "      <td>4.0</td>\n",
       "    </tr>\n",
       "    <tr>\n",
       "      <th>STWC</th>\n",
       "      <td>431.0</td>\n",
       "      <td>0.202439</td>\n",
       "      <td>0.087710</td>\n",
       "      <td>0.087</td>\n",
       "      <td>0.1365</td>\n",
       "      <td>0.175</td>\n",
       "      <td>0.2380</td>\n",
       "      <td>0.469</td>\n",
       "      <td>431.0</td>\n",
       "      <td>4.0</td>\n",
       "      <td>0.0</td>\n",
       "      <td>4.0</td>\n",
       "      <td>4.0</td>\n",
       "      <td>4.0</td>\n",
       "      <td>4.0</td>\n",
       "      <td>4.0</td>\n",
       "    </tr>\n",
       "  </tbody>\n",
       "</table>\n",
       "</div>"
      ],
      "text/plain": [
       "                              scores                                     \\\n",
       "                               count      mean       std    min     25%   \n",
       "metrics Sensor configurations                                             \n",
       "r2      FSTC                   431.0  0.815262  0.132330  0.279  0.7640   \n",
       "        FSTW                   431.0  0.798847  0.149571  0.339  0.7185   \n",
       "        FSWC                   431.0  0.797499  0.162860  0.042  0.7115   \n",
       "        FTWC                   431.0  0.808875  0.125544  0.314  0.7510   \n",
       "        STWC                   431.0  0.811176  0.149618  0.253  0.7565   \n",
       "r_rmse  FSTC                   431.0  0.092130  0.032066  0.040  0.0670   \n",
       "        FSTW                   431.0  0.094754  0.034905  0.040  0.0660   \n",
       "        FSWC                   431.0  0.094752  0.038574  0.037  0.0640   \n",
       "        FTWC                   431.0  0.094197  0.029058  0.043  0.0715   \n",
       "        STWC                   431.0  0.091910  0.035296  0.039  0.0650   \n",
       "rmse    FSTC                   431.0  0.203789  0.081900  0.066  0.1420   \n",
       "        FSTW                   431.0  0.211401  0.091889  0.081  0.1360   \n",
       "        FSWC                   431.0  0.207947  0.089732  0.079  0.1365   \n",
       "        FTWC                   431.0  0.209668  0.080638  0.079  0.1485   \n",
       "        STWC                   431.0  0.202439  0.087710  0.087  0.1365   \n",
       "\n",
       "                                                    IMU number                 \\\n",
       "                                 50%     75%    max      count mean  std  min   \n",
       "metrics Sensor configurations                                                   \n",
       "r2      FSTC                   0.868  0.9080  0.975      431.0  4.0  0.0  4.0   \n",
       "        FSTW                   0.844  0.9180  0.971      431.0  4.0  0.0  4.0   \n",
       "        FSWC                   0.856  0.9225  0.975      431.0  4.0  0.0  4.0   \n",
       "        FTWC                   0.847  0.9050  0.965      431.0  4.0  0.0  4.0   \n",
       "        STWC                   0.870  0.9220  0.970      431.0  4.0  0.0  4.0   \n",
       "r_rmse  FSTC                   0.084  0.1130  0.206      431.0  4.0  0.0  4.0   \n",
       "        FSTW                   0.087  0.1200  0.203      431.0  4.0  0.0  4.0   \n",
       "        FSWC                   0.087  0.1170  0.236      431.0  4.0  0.0  4.0   \n",
       "        FTWC                   0.088  0.1130  0.173      431.0  4.0  0.0  4.0   \n",
       "        STWC                   0.081  0.1175  0.197      431.0  4.0  0.0  4.0   \n",
       "rmse    FSTC                   0.185  0.2455  0.461      431.0  4.0  0.0  4.0   \n",
       "        FSTW                   0.189  0.2760  0.502      431.0  4.0  0.0  4.0   \n",
       "        FSWC                   0.191  0.2665  0.532      431.0  4.0  0.0  4.0   \n",
       "        FTWC                   0.192  0.2595  0.485      431.0  4.0  0.0  4.0   \n",
       "        STWC                   0.175  0.2380  0.469      431.0  4.0  0.0  4.0   \n",
       "\n",
       "                                                   \n",
       "                               25%  50%  75%  max  \n",
       "metrics Sensor configurations                      \n",
       "r2      FSTC                   4.0  4.0  4.0  4.0  \n",
       "        FSTW                   4.0  4.0  4.0  4.0  \n",
       "        FSWC                   4.0  4.0  4.0  4.0  \n",
       "        FTWC                   4.0  4.0  4.0  4.0  \n",
       "        STWC                   4.0  4.0  4.0  4.0  \n",
       "r_rmse  FSTC                   4.0  4.0  4.0  4.0  \n",
       "        FSTW                   4.0  4.0  4.0  4.0  \n",
       "        FSWC                   4.0  4.0  4.0  4.0  \n",
       "        FTWC                   4.0  4.0  4.0  4.0  \n",
       "        STWC                   4.0  4.0  4.0  4.0  \n",
       "rmse    FSTC                   4.0  4.0  4.0  4.0  \n",
       "        FSTW                   4.0  4.0  4.0  4.0  \n",
       "        FSWC                   4.0  4.0  4.0  4.0  \n",
       "        FTWC                   4.0  4.0  4.0  4.0  \n",
       "        STWC                   4.0  4.0  4.0  4.0  "
      ]
     },
     "execution_count": 16,
     "metadata": {},
     "output_type": "execute_result"
    }
   ],
   "source": [
    "combination_investigation_results = \"/media/sun/DATA/Drop_landing_workspace/suntao/Results/Experiment_results/training_testing/2_collected_full_cv/metrics.csv\"\n",
    "landing_manner = 'double_legs'\n",
    "estimated_variable = 'GRF'\n",
    "syn_features_label = False\n",
    "use_frame_index = True\n",
    "drop_value = 0.0\n",
    "metric_fields = ['r2','r_rmse','rmse']\n",
    "metrics = parase_plot_data(combination_investigation_results,\n",
    "                           landing_manner=landing_manner,\n",
    "                           estimated_variable=estimated_variable,\n",
    "                           syn_features_label=syn_features_label,\n",
    "                           use_frame_index=use_frame_index,\n",
    "                           drop_value=drop_value,\n",
    "                           metric_fields=metric_fields\n",
    "                           #sort_variable='IMU number'\n",
    "                          )\n",
    "\n",
    "metrics = metrics[['metrics','scores','IMU number','Sensor configurations']]\n",
    "\n",
    "metrics.loc[metrics['IMU number']==4].groupby(['metrics','Sensor configurations']).describe()"
   ]
  },
  {
   "cell_type": "markdown",
   "id": "082d6512-6355-4c79-8364-9ffe0fe76d71",
   "metadata": {},
   "source": [
    "Figure. Estimation accuracy ($R^2$) of the model with different IMU numbers. With increased IMUs form one to four, the median estimation accuracy of the model increased significantly. The median estimation accuracy of four and five IMUs have no significant different while the accuracy deviation of the five IMUs is less. . To compare the performance of the control methods, a t-test was used. ns indicates no statistically significant difference. *, **,\n",
    "***, and **** denote significant differences with the following p-values, ≤ 0.05, ≤ 0.005, ≤ 0.0005, and\n",
    "≤ 0.00005, respectively"
   ]
  },
  {
   "cell_type": "markdown",
   "id": "d5d316ed-ea42-47e6-93e8-1c52fa6a06f5",
   "metadata": {},
   "source": []
  },
  {
   "cell_type": "markdown",
   "id": "50d84569-e4f1-4b39-8d6e-9b6019cbfabc",
   "metadata": {},
   "source": [
    "**Figure 1. Ensemble curves for GRF and KFM in double-leg and single-leg drop landing. The actual and predicted GRFs and KFMs are shown as the solid and dashed line.**"
   ]
  },
  {
   "cell_type": "code",
   "execution_count": 26,
   "id": "2dec4cae-cbaa-40a7-adda-d6ce4cd80968",
   "metadata": {
    "tags": []
   },
   "outputs": [
    {
     "name": "stdout",
     "output_type": "stream",
     "text": [
      "ALl landing manners are used\n",
      "ALl estimated variables are used\n",
      "All LSTM units are used\n",
      "ALl landing manners are used\n",
      "All LSTM units are used\n",
      "All sensor configurations are used\n",
      "ALl landing manners are used\n",
      "All LSTM units are used\n",
      "All sensor configurations are used\n",
      "ALl landing manners are used\n",
      "All LSTM units are used\n",
      "All sensor configurations are used\n"
     ]
    },
    {
     "data": {
      "image/png": "[encoded data removed]",
      "text/plain": [
       "<Figure size 504x504 with 4 Axes>"
      ]
     },
     "metadata": {},
     "output_type": "display_data"
    }
   ],
   "source": [
    "combination_investigation_results = \"/media/sun/DATA/Drop_landing_workspace/suntao/Results/Experiment_results/training_testing/latest_train/testing_result_folders.txt\"\n",
    "combination_investigation_results = \"/media/sun/DATA/Drop_landing_workspace/suntao/Results/Experiment_results/training_testing/1_collected_data/testing_result_folders.txt\"\n",
    "#combination_investigation_metrics = \"/media/sun/DATA/Drop_landing_workspace/suntao/Results/Experiment_results/investigation/valid_results/metrics.csv\"\n",
    "\n",
    "def plot_statistic_actual_estimation_curves(list_training_testing_folders, list_selections, **kwargs):\n",
    "\n",
    "    # 1) loading test data \n",
    "    multi_test_results = get_multi_models_test_results(list_training_testing_folders, list_selections)\n",
    "\n",
    "    # i) plot configurations\n",
    "    figsize=(7,7)\n",
    "    sns.set(font_scale=1,style='whitegrid')\n",
    "    fig = plt.figure(figsize=figsize,constrained_layout=False)\n",
    "    gs1 = gridspec.GridSpec(2,4)#13\n",
    "    gs1.update(hspace=0.45,wspace=0.45,top=0.93,bottom=0.12,left=0.06,right=0.95)\n",
    "    axs = []\n",
    "    axs.append(fig.add_subplot(gs1[0, 0:2]))\n",
    "    axs.append(fig.add_subplot(gs1[0, 2:4]))\n",
    "    axs.append(fig.add_subplot(gs1[1, 0:2]))\n",
    "    axs.append(fig.add_subplot(gs1[1, 2:4]))\n",
    "\n",
    "    hue = None\n",
    "    if hue != None:\n",
    "        palette = sns.color_palette(\"Paired\")\n",
    "    else:\n",
    "        palette = None\n",
    "    colors = sns.color_palette(\"YlGnBu\")\n",
    "\n",
    "    for idx, estimation_values in enumerate(multi_test_results):\n",
    "        x=None; y = None\n",
    "        hue_plot_params = {\n",
    "            'data': estimation_values,\n",
    "            'x': x,\n",
    "            'y': y,\n",
    "            'hue': None,\n",
    "            \"palette\": palette,\n",
    "            \"color\": colors[idx]\n",
    "            }\n",
    "        g = sns.lineplot(ax=axs[idx], **hue_plot_params)\n",
    "        g.set_xlabel('Time [s]')\n",
    "        g.set_xlim(0, 0.8)\n",
    "        g.set_xticks([0.0, 0.1, 0.2, 0.3, 0.4, 0.5, 0.6, 0.7, 0.8])\n",
    "        if idx == 0:\n",
    "            g.set_ylim(-0.1, 2)\n",
    "            g.set_yticks([0, 0.5, 1, 1.5, 2])\n",
    "            g.set_ylabel('GRF [BW]')\n",
    "            g.legend(ncol=1,title=None,loc='upper right',labels=['Actual GRF','Estimated GRF'])\n",
    "            g.set_title(label='Double-leg drop landing')\n",
    "        elif idx==1:\n",
    "            g.set_ylim(-0.21, 4)\n",
    "            g.set_yticks([0, 1, 2, 3, 4])\n",
    "            g.set_ylabel('KEM [BW.BH]')\n",
    "            g.legend(ncol=1,title=None,loc='upper right',labels=['Actual KEM','Estimated KEM'])\n",
    "            g.set_title(label='Double-leg drop landing')\n",
    "        elif idx ==2:\n",
    "            g.set_ylim(-0.2, 4)\n",
    "            g.set_yticks([0, 1, 2, 3, 4])\n",
    "            g.set_ylabel('GRF [BW]')\n",
    "            g.legend(ncol=1,title=None,loc='upper right',labels=['Actual GRF','Estimated GRF'])\n",
    "            g.set_title(label='Single-leg drop landing')\n",
    "        else:\n",
    "            g.set_ylim(-0.25, 5)\n",
    "            g.set_yticks([0, 1, 2, 3, 4, 5])\n",
    "            g.set_ylabel('KEM [BW.BH]')\n",
    "            g.legend(ncol=1,title=None,loc='upper right',labels=['Actual KEM','Estimated KEM'])\n",
    "            g.set_title(label='Single-leg drop landing')\n",
    "            \n",
    "            \n",
    "                \n",
    "        '''\n",
    "        if('legends' in display_configs):\n",
    "            g.legend(ncol=1,title=None,loc='upper right',labels=display_configs['legends'][idx])\n",
    "        if('ylabel' in display_configs):\n",
    "            g.set_ylabel(display_configs['ylabel'][idx])\n",
    "        if('subplot_titles' in display_configs):\n",
    "            g.set_title(label=display_configs['subplot_titles'][idx])\n",
    "        '''\n",
    "        g.grid(visible=True, axis='both',which='major')\n",
    "        \n",
    "    \n",
    "    \n",
    "    return save_figure(os.path.dirname(list_training_testing_folders[0]),fig_format='svg'), multi_test_results\n",
    "\n",
    "\n",
    "list_combination_investigation_results = [\n",
    "    \"/media/sun/DATA/Drop_landing_workspace/suntao/Results/Experiment_results/training_testing/2_collected_full_cv/4_imu/testing_result_folders.txt\",\n",
    "    \"/media/sun/DATA/Drop_landing_workspace/suntao/Results/Experiment_results/training_testing/20_doubleKFM_collected_full_cv/5_imu/testing_result_folders.txt\",\n",
    "    \"/media/sun/DATA/Drop_landing_workspace/suntao/Results/Experiment_results/training_testing/21_singleGRF_collected_full_cv/5_imu/testing_result_folders.txt\",\n",
    "    \"/media/sun/DATA/Drop_landing_workspace/suntao/Results/Experiment_results/training_testing/22_singleKFM_collected_full_cv/5_imu/testing_result_folders.txt\"\n",
    "]\n",
    "\n",
    "list_selections = [\n",
    "    {'sensor_configurations': ['STWC']},\n",
    "    {'estimated_variable': 'KFM'},\n",
    "    {'estimated_variable': 'GRF'},\n",
    "    {'estimated_variable': 'KFM' }\n",
    "]\n",
    "\n",
    "fig_path, estimated_values =  plot_statistic_actual_estimation_curves(list_combination_investigation_results,\n",
    "                                                                list_selections)\n"
   ]
  },
  {
   "cell_type": "markdown",
   "id": "d418e857-b812-49b5-a7ce-c748bee9ef67",
   "metadata": {},
   "source": [
    "### estimation accuracy of all estimaion"
   ]
  },
  {
   "cell_type": "code",
   "execution_count": 53,
   "id": "fc773b9d-e181-43ba-8944-7753692aaf6c",
   "metadata": {},
   "outputs": [
    {
     "name": "stdout",
     "output_type": "stream",
     "text": [
      "DROP R2 cases below :0.0\n",
      "All LSTM units are used\n",
      "All IMU number are used\n"
     ]
    },
    {
     "name": "stderr",
     "output_type": "stream",
     "text": [
      "./../estimation_assessment/scores.py:580: SettingWithCopyWarning: \n",
      "A value is trying to be set on a copy of a slice from a DataFrame.\n",
      "Try using .loc[row_indexer,col_indexer] = value instead\n",
      "\n",
      "See the caveats in the documentation: https://pandas.pydata.org/pandas-docs/stable/user_guide/indexing.html#returning-a-view-versus-a-copy\n",
      "  metrics['IMU number']=metrics.loc[:,'Sensor configurations'].apply(lambda x: len(x))\n"
     ]
    },
    {
     "data": {
      "text/html": [
       "<div>\n",
       "<style scoped>\n",
       "    .dataframe tbody tr th:only-of-type {\n",
       "        vertical-align: middle;\n",
       "    }\n",
       "\n",
       "    .dataframe tbody tr th {\n",
       "        vertical-align: top;\n",
       "    }\n",
       "\n",
       "    .dataframe thead tr th {\n",
       "        text-align: left;\n",
       "    }\n",
       "\n",
       "    .dataframe thead tr:last-of-type th {\n",
       "        text-align: right;\n",
       "    }\n",
       "</style>\n",
       "<table border=\"1\" class=\"dataframe\">\n",
       "  <thead>\n",
       "    <tr>\n",
       "      <th></th>\n",
       "      <th colspan=\"8\" halign=\"left\">scores</th>\n",
       "    </tr>\n",
       "    <tr>\n",
       "      <th></th>\n",
       "      <th>count</th>\n",
       "      <th>mean</th>\n",
       "      <th>std</th>\n",
       "      <th>min</th>\n",
       "      <th>25%</th>\n",
       "      <th>50%</th>\n",
       "      <th>75%</th>\n",
       "      <th>max</th>\n",
       "    </tr>\n",
       "    <tr>\n",
       "      <th>metrics</th>\n",
       "      <th></th>\n",
       "      <th></th>\n",
       "      <th></th>\n",
       "      <th></th>\n",
       "      <th></th>\n",
       "      <th></th>\n",
       "      <th></th>\n",
       "      <th></th>\n",
       "    </tr>\n",
       "  </thead>\n",
       "  <tbody>\n",
       "    <tr>\n",
       "      <th>r2</th>\n",
       "      <td>431.0</td>\n",
       "      <td>0.82</td>\n",
       "      <td>0.13</td>\n",
       "      <td>0.28</td>\n",
       "      <td>0.76</td>\n",
       "      <td>0.87</td>\n",
       "      <td>0.91</td>\n",
       "      <td>0.98</td>\n",
       "    </tr>\n",
       "    <tr>\n",
       "      <th>r_rmse</th>\n",
       "      <td>431.0</td>\n",
       "      <td>0.09</td>\n",
       "      <td>0.03</td>\n",
       "      <td>0.04</td>\n",
       "      <td>0.07</td>\n",
       "      <td>0.08</td>\n",
       "      <td>0.11</td>\n",
       "      <td>0.21</td>\n",
       "    </tr>\n",
       "    <tr>\n",
       "      <th>rmse</th>\n",
       "      <td>431.0</td>\n",
       "      <td>0.20</td>\n",
       "      <td>0.08</td>\n",
       "      <td>0.07</td>\n",
       "      <td>0.14</td>\n",
       "      <td>0.18</td>\n",
       "      <td>0.25</td>\n",
       "      <td>0.46</td>\n",
       "    </tr>\n",
       "  </tbody>\n",
       "</table>\n",
       "</div>"
      ],
      "text/plain": [
       "        scores                                          \n",
       "         count  mean   std   min   25%   50%   75%   max\n",
       "metrics                                                 \n",
       "r2       431.0  0.82  0.13  0.28  0.76  0.87  0.91  0.98\n",
       "r_rmse   431.0  0.09  0.03  0.04  0.07  0.08  0.11  0.21\n",
       "rmse     431.0  0.20  0.08  0.07  0.14  0.18  0.25  0.46"
      ]
     },
     "execution_count": 53,
     "metadata": {},
     "output_type": "execute_result"
    }
   ],
   "source": [
    "list_combination_investigation_results = [\n",
    "    \"/media/sun/DATA/Drop_landing_workspace/suntao/Results/Experiment_results/training_testing/2_collected_full_cv/4_imu/metrics.csv\",\n",
    "    \"/media/sun/DATA/Drop_landing_workspace/suntao/Results/Experiment_results/training_testing/20_doubleKFM_collected_full_cv/5_imu/metrics.csv\",\n",
    "    \"/media/sun/DATA/Drop_landing_workspace/suntao/Results/Experiment_results/training_testing/21_singleGRF_collected_full_cv/5_imu/metrics.csv\",\n",
    "    \"/media/sun/DATA/Drop_landing_workspace/suntao/Results/Experiment_results/training_testing/22_singleKFM_collected_full_cv/5_imu/metrics.csv\"\n",
    "]\n",
    "\n",
    "\n",
    "syn_features_label = False\n",
    "use_frame_index = True\n",
    "drop_value = 0.0\n",
    "metric_fields = ['r2','r_rmse','rmse']\n",
    "metrics = parase_plot_data(list_combination_investigation_results[0],\n",
    "                           landing_manner='double_legs',\n",
    "                           estimated_variable='GRF',\n",
    "                           syn_features_label=syn_features_label,\n",
    "                           use_frame_index=use_frame_index,\n",
    "                           drop_value=drop_value,\n",
    "                           sensor_config=['FSTC'],\n",
    "                           metric_fields=metric_fields\n",
    "                          )\n",
    "\n",
    "metrics = metrics[['metrics','scores','Sensor configurations']]\n",
    "metrics.groupby(['metrics']).describe().round(2)"
   ]
  },
  {
   "cell_type": "code",
   "execution_count": 54,
   "id": "22a4b27c-5be8-43cc-8644-270b81cef66b",
   "metadata": {},
   "outputs": [
    {
     "name": "stdout",
     "output_type": "stream",
     "text": [
      "DROP R2 cases below :0.0\n",
      "All LSTM units are used\n",
      "All sensor configurations are used\n",
      "All IMU number are used\n"
     ]
    },
    {
     "name": "stderr",
     "output_type": "stream",
     "text": [
      "./../estimation_assessment/scores.py:580: SettingWithCopyWarning: \n",
      "A value is trying to be set on a copy of a slice from a DataFrame.\n",
      "Try using .loc[row_indexer,col_indexer] = value instead\n",
      "\n",
      "See the caveats in the documentation: https://pandas.pydata.org/pandas-docs/stable/user_guide/indexing.html#returning-a-view-versus-a-copy\n",
      "  metrics['IMU number']=metrics.loc[:,'Sensor configurations'].apply(lambda x: len(x))\n"
     ]
    },
    {
     "data": {
      "text/html": [
       "<div>\n",
       "<style scoped>\n",
       "    .dataframe tbody tr th:only-of-type {\n",
       "        vertical-align: middle;\n",
       "    }\n",
       "\n",
       "    .dataframe tbody tr th {\n",
       "        vertical-align: top;\n",
       "    }\n",
       "\n",
       "    .dataframe thead tr th {\n",
       "        text-align: left;\n",
       "    }\n",
       "\n",
       "    .dataframe thead tr:last-of-type th {\n",
       "        text-align: right;\n",
       "    }\n",
       "</style>\n",
       "<table border=\"1\" class=\"dataframe\">\n",
       "  <thead>\n",
       "    <tr>\n",
       "      <th></th>\n",
       "      <th colspan=\"8\" halign=\"left\">scores</th>\n",
       "    </tr>\n",
       "    <tr>\n",
       "      <th></th>\n",
       "      <th>count</th>\n",
       "      <th>mean</th>\n",
       "      <th>std</th>\n",
       "      <th>min</th>\n",
       "      <th>25%</th>\n",
       "      <th>50%</th>\n",
       "      <th>75%</th>\n",
       "      <th>max</th>\n",
       "    </tr>\n",
       "    <tr>\n",
       "      <th>metrics</th>\n",
       "      <th></th>\n",
       "      <th></th>\n",
       "      <th></th>\n",
       "      <th></th>\n",
       "      <th></th>\n",
       "      <th></th>\n",
       "      <th></th>\n",
       "      <th></th>\n",
       "    </tr>\n",
       "  </thead>\n",
       "  <tbody>\n",
       "    <tr>\n",
       "      <th>r2</th>\n",
       "      <td>429.0</td>\n",
       "      <td>0.83</td>\n",
       "      <td>0.13</td>\n",
       "      <td>0.01</td>\n",
       "      <td>0.78</td>\n",
       "      <td>0.87</td>\n",
       "      <td>0.93</td>\n",
       "      <td>0.98</td>\n",
       "    </tr>\n",
       "    <tr>\n",
       "      <th>r_rmse</th>\n",
       "      <td>431.0</td>\n",
       "      <td>0.10</td>\n",
       "      <td>0.04</td>\n",
       "      <td>0.04</td>\n",
       "      <td>0.08</td>\n",
       "      <td>0.10</td>\n",
       "      <td>0.12</td>\n",
       "      <td>0.31</td>\n",
       "    </tr>\n",
       "    <tr>\n",
       "      <th>rmse</th>\n",
       "      <td>431.0</td>\n",
       "      <td>0.40</td>\n",
       "      <td>0.13</td>\n",
       "      <td>0.16</td>\n",
       "      <td>0.30</td>\n",
       "      <td>0.38</td>\n",
       "      <td>0.48</td>\n",
       "      <td>0.75</td>\n",
       "    </tr>\n",
       "  </tbody>\n",
       "</table>\n",
       "</div>"
      ],
      "text/plain": [
       "        scores                                          \n",
       "         count  mean   std   min   25%   50%   75%   max\n",
       "metrics                                                 \n",
       "r2       429.0  0.83  0.13  0.01  0.78  0.87  0.93  0.98\n",
       "r_rmse   431.0  0.10  0.04  0.04  0.08  0.10  0.12  0.31\n",
       "rmse     431.0  0.40  0.13  0.16  0.30  0.38  0.48  0.75"
      ]
     },
     "execution_count": 54,
     "metadata": {},
     "output_type": "execute_result"
    }
   ],
   "source": [
    "metrics = parase_plot_data(list_combination_investigation_results[1],\n",
    "                           landing_manner='double_legs',\n",
    "                           estimated_variable='KFM',\n",
    "                           syn_features_label=syn_features_label,\n",
    "                           use_frame_index=use_frame_index,\n",
    "                           drop_value=drop_value,\n",
    "                           metric_fields=metric_fields\n",
    "                          )\n",
    "\n",
    "metrics = metrics[['metrics','scores','Sensor configurations']]\n",
    "metrics.groupby(['metrics']).describe().round(2)"
   ]
  },
  {
   "cell_type": "code",
   "execution_count": 55,
   "id": "578aa3a6-3b74-48f8-b59b-b4ac4ada3c4a",
   "metadata": {},
   "outputs": [
    {
     "name": "stdout",
     "output_type": "stream",
     "text": [
      "DROP R2 cases below :0.0\n",
      "All LSTM units are used\n",
      "All sensor configurations are used\n",
      "All IMU number are used\n"
     ]
    },
    {
     "name": "stderr",
     "output_type": "stream",
     "text": [
      "./../estimation_assessment/scores.py:580: SettingWithCopyWarning: \n",
      "A value is trying to be set on a copy of a slice from a DataFrame.\n",
      "Try using .loc[row_indexer,col_indexer] = value instead\n",
      "\n",
      "See the caveats in the documentation: https://pandas.pydata.org/pandas-docs/stable/user_guide/indexing.html#returning-a-view-versus-a-copy\n",
      "  metrics['IMU number']=metrics.loc[:,'Sensor configurations'].apply(lambda x: len(x))\n"
     ]
    },
    {
     "data": {
      "text/html": [
       "<div>\n",
       "<style scoped>\n",
       "    .dataframe tbody tr th:only-of-type {\n",
       "        vertical-align: middle;\n",
       "    }\n",
       "\n",
       "    .dataframe tbody tr th {\n",
       "        vertical-align: top;\n",
       "    }\n",
       "\n",
       "    .dataframe thead tr th {\n",
       "        text-align: left;\n",
       "    }\n",
       "\n",
       "    .dataframe thead tr:last-of-type th {\n",
       "        text-align: right;\n",
       "    }\n",
       "</style>\n",
       "<table border=\"1\" class=\"dataframe\">\n",
       "  <thead>\n",
       "    <tr>\n",
       "      <th></th>\n",
       "      <th colspan=\"8\" halign=\"left\">scores</th>\n",
       "    </tr>\n",
       "    <tr>\n",
       "      <th></th>\n",
       "      <th>count</th>\n",
       "      <th>mean</th>\n",
       "      <th>std</th>\n",
       "      <th>min</th>\n",
       "      <th>25%</th>\n",
       "      <th>50%</th>\n",
       "      <th>75%</th>\n",
       "      <th>max</th>\n",
       "    </tr>\n",
       "    <tr>\n",
       "      <th>metrics</th>\n",
       "      <th></th>\n",
       "      <th></th>\n",
       "      <th></th>\n",
       "      <th></th>\n",
       "      <th></th>\n",
       "      <th></th>\n",
       "      <th></th>\n",
       "      <th></th>\n",
       "    </tr>\n",
       "  </thead>\n",
       "  <tbody>\n",
       "    <tr>\n",
       "      <th>r2</th>\n",
       "      <td>100.0</td>\n",
       "      <td>0.86</td>\n",
       "      <td>0.11</td>\n",
       "      <td>0.46</td>\n",
       "      <td>0.85</td>\n",
       "      <td>0.90</td>\n",
       "      <td>0.94</td>\n",
       "      <td>0.97</td>\n",
       "    </tr>\n",
       "    <tr>\n",
       "      <th>r_rmse</th>\n",
       "      <td>100.0</td>\n",
       "      <td>0.08</td>\n",
       "      <td>0.03</td>\n",
       "      <td>0.04</td>\n",
       "      <td>0.06</td>\n",
       "      <td>0.07</td>\n",
       "      <td>0.09</td>\n",
       "      <td>0.17</td>\n",
       "    </tr>\n",
       "    <tr>\n",
       "      <th>rmse</th>\n",
       "      <td>100.0</td>\n",
       "      <td>0.28</td>\n",
       "      <td>0.12</td>\n",
       "      <td>0.13</td>\n",
       "      <td>0.20</td>\n",
       "      <td>0.26</td>\n",
       "      <td>0.31</td>\n",
       "      <td>0.69</td>\n",
       "    </tr>\n",
       "  </tbody>\n",
       "</table>\n",
       "</div>"
      ],
      "text/plain": [
       "        scores                                          \n",
       "         count  mean   std   min   25%   50%   75%   max\n",
       "metrics                                                 \n",
       "r2       100.0  0.86  0.11  0.46  0.85  0.90  0.94  0.97\n",
       "r_rmse   100.0  0.08  0.03  0.04  0.06  0.07  0.09  0.17\n",
       "rmse     100.0  0.28  0.12  0.13  0.20  0.26  0.31  0.69"
      ]
     },
     "execution_count": 55,
     "metadata": {},
     "output_type": "execute_result"
    }
   ],
   "source": [
    "metrics = parase_plot_data(list_combination_investigation_results[2],\n",
    "                           landing_manner='single_leg',\n",
    "                           estimated_variable='GRF',\n",
    "                           syn_features_label=syn_features_label,\n",
    "                           use_frame_index=use_frame_index,\n",
    "                           drop_value=drop_value,\n",
    "                           metric_fields=metric_fields\n",
    "                          )\n",
    "\n",
    "metrics = metrics[['metrics','scores','Sensor configurations']]\n",
    "metrics.groupby(['metrics']).describe().round(2)"
   ]
  },
  {
   "cell_type": "code",
   "execution_count": 56,
   "id": "227eb770-6c71-45cd-b290-27c90a97d029",
   "metadata": {},
   "outputs": [
    {
     "name": "stdout",
     "output_type": "stream",
     "text": [
      "DROP R2 cases below :0.0\n",
      "All LSTM units are used\n",
      "All sensor configurations are used\n",
      "All IMU number are used\n"
     ]
    },
    {
     "name": "stderr",
     "output_type": "stream",
     "text": [
      "./../estimation_assessment/scores.py:580: SettingWithCopyWarning: \n",
      "A value is trying to be set on a copy of a slice from a DataFrame.\n",
      "Try using .loc[row_indexer,col_indexer] = value instead\n",
      "\n",
      "See the caveats in the documentation: https://pandas.pydata.org/pandas-docs/stable/user_guide/indexing.html#returning-a-view-versus-a-copy\n",
      "  metrics['IMU number']=metrics.loc[:,'Sensor configurations'].apply(lambda x: len(x))\n"
     ]
    },
    {
     "data": {
      "text/html": [
       "<div>\n",
       "<style scoped>\n",
       "    .dataframe tbody tr th:only-of-type {\n",
       "        vertical-align: middle;\n",
       "    }\n",
       "\n",
       "    .dataframe tbody tr th {\n",
       "        vertical-align: top;\n",
       "    }\n",
       "\n",
       "    .dataframe thead tr th {\n",
       "        text-align: left;\n",
       "    }\n",
       "\n",
       "    .dataframe thead tr:last-of-type th {\n",
       "        text-align: right;\n",
       "    }\n",
       "</style>\n",
       "<table border=\"1\" class=\"dataframe\">\n",
       "  <thead>\n",
       "    <tr>\n",
       "      <th></th>\n",
       "      <th colspan=\"8\" halign=\"left\">scores</th>\n",
       "    </tr>\n",
       "    <tr>\n",
       "      <th></th>\n",
       "      <th>count</th>\n",
       "      <th>mean</th>\n",
       "      <th>std</th>\n",
       "      <th>min</th>\n",
       "      <th>25%</th>\n",
       "      <th>50%</th>\n",
       "      <th>75%</th>\n",
       "      <th>max</th>\n",
       "    </tr>\n",
       "    <tr>\n",
       "      <th>metrics</th>\n",
       "      <th></th>\n",
       "      <th></th>\n",
       "      <th></th>\n",
       "      <th></th>\n",
       "      <th></th>\n",
       "      <th></th>\n",
       "      <th></th>\n",
       "      <th></th>\n",
       "    </tr>\n",
       "  </thead>\n",
       "  <tbody>\n",
       "    <tr>\n",
       "      <th>r2</th>\n",
       "      <td>100.0</td>\n",
       "      <td>0.82</td>\n",
       "      <td>0.14</td>\n",
       "      <td>0.13</td>\n",
       "      <td>0.78</td>\n",
       "      <td>0.86</td>\n",
       "      <td>0.91</td>\n",
       "      <td>0.96</td>\n",
       "    </tr>\n",
       "    <tr>\n",
       "      <th>r_rmse</th>\n",
       "      <td>100.0</td>\n",
       "      <td>0.11</td>\n",
       "      <td>0.04</td>\n",
       "      <td>0.06</td>\n",
       "      <td>0.08</td>\n",
       "      <td>0.10</td>\n",
       "      <td>0.13</td>\n",
       "      <td>0.27</td>\n",
       "    </tr>\n",
       "    <tr>\n",
       "      <th>rmse</th>\n",
       "      <td>100.0</td>\n",
       "      <td>0.56</td>\n",
       "      <td>0.19</td>\n",
       "      <td>0.24</td>\n",
       "      <td>0.43</td>\n",
       "      <td>0.52</td>\n",
       "      <td>0.67</td>\n",
       "      <td>1.25</td>\n",
       "    </tr>\n",
       "  </tbody>\n",
       "</table>\n",
       "</div>"
      ],
      "text/plain": [
       "        scores                                          \n",
       "         count  mean   std   min   25%   50%   75%   max\n",
       "metrics                                                 \n",
       "r2       100.0  0.82  0.14  0.13  0.78  0.86  0.91  0.96\n",
       "r_rmse   100.0  0.11  0.04  0.06  0.08  0.10  0.13  0.27\n",
       "rmse     100.0  0.56  0.19  0.24  0.43  0.52  0.67  1.25"
      ]
     },
     "execution_count": 56,
     "metadata": {},
     "output_type": "execute_result"
    }
   ],
   "source": [
    "metrics = parase_plot_data(list_combination_investigation_results[3],\n",
    "                           landing_manner='single_leg',\n",
    "                           estimated_variable='KFM',\n",
    "                           syn_features_label=syn_features_label,\n",
    "                           use_frame_index=use_frame_index,\n",
    "                           drop_value=drop_value,\n",
    "                           metric_fields=metric_fields\n",
    "                          )\n",
    "\n",
    "metrics = metrics[['metrics','scores','Sensor configurations']]\n",
    "metrics.groupby(['metrics']).describe().round(2)"
   ]
  },
  {
   "cell_type": "code",
   "execution_count": 115,
   "id": "24302020-64a0-4171-b271-9800e1abd762",
   "metadata": {},
   "outputs": [
    {
     "name": "stdout",
     "output_type": "stream",
     "text": [
      "DROP R2 cases below :0.0\n",
      "All LSTM units are used\n",
      "All sensor configurations are used\n",
      "p-value annotation legend:\n",
      "      ns: p <= 1.00e+00\n",
      "       *: 1.00e-02 < p <= 5.00e-02\n",
      "      **: 1.00e-03 < p <= 1.00e-02\n",
      "     ***: 1.00e-04 < p <= 1.00e-03\n",
      "    ****: p <= 1.00e-04\n",
      "\n",
      "F vs. W: t-test independent samples, P_val:4.751e-02 t=1.985e+00\n",
      "F vs. T: t-test independent samples, P_val:1.113e-01 t=-1.594e+00\n",
      "F vs. S: t-test independent samples, P_val:8.035e-03 t=-2.657e+00\n",
      "F vs. C: t-test independent samples, P_val:2.698e-09 t=-6.013e+00\n"
     ]
    },
    {
     "data": {
      "image/png": "[encoded data removed]",
      "text/plain": [
       "<Figure size 432x288 with 1 Axes>"
      ]
     },
     "metadata": {},
     "output_type": "display_data"
    },
    {
     "data": {
      "text/plain": [
       "'/media/sun/DATA/Drop_landing_workspace/suntao/Results/Experiment_results/training_testing/2_collected_full_cv/data_visulization/2022-06-24/09_03_27_single_IMU.svg'"
      ]
     },
     "execution_count": 115,
     "metadata": {},
     "output_type": "execute_result"
    }
   ],
   "source": [
    "from statannotations.Annotator import Annotator\n",
    "combination_investigation_results = \"/media/sun/DATA/Drop_landing_workspace/suntao/Results/Experiment_results/training_testing/1_collected_data/study_lstm_units_GRF/r2_metrics.csv\"\n",
    "combination_investigation_results = \"/media/sun/DATA/Drop_landing_workspace/suntao/Results/Experiment_results/training_testing/2_collected_full_cv/testing_result_folders.txt\"\n",
    "combination_investigation_results = \"/media/sun/DATA/Drop_landing_workspace/suntao/Results/Experiment_results/training_testing/2_collected_full_cv/r2_metrics.csv\"\n",
    "landing_manner= \"double_legs\"\n",
    "metrics = parase_plot_data(\n",
    "    combination_investigation_results,\n",
    "    landing_manner = landing_manner,\n",
    "    estimated_variable = 'GRF',\n",
    "    syn_features_label = False,\n",
    "    drop_value = 0.0,\n",
    "    IMU_number = [1]\n",
    ")\n",
    "\n",
    "imu_config = ['T','S','F','W','C']\n",
    "\n",
    "displayed_data = metrics.loc[metrics['Sensor configurations'].isin(imu_config)]\n",
    "sort_variable='average scores'\n",
    "displayed_data[sort_variable] = displayed_data[sort_variable].astype('float64')\n",
    "displayed_data.sort_values(by=[sort_variable], ascending=True, inplace=True)\n",
    "\n",
    "\n",
    "sns.set(font_scale=1.15,style='whitegrid')\n",
    "colors = sns.color_palette(\"YlGnBu\") \n",
    "#colors = sns.cubehelix_palette(start=.5, rot=-.5) \n",
    "\n",
    "states_palette = sns.color_palette(\"YlGnBu\", n_colors=5)\n",
    "x='Sensor configurations'\n",
    "y='scores'\n",
    "\n",
    "\n",
    "hue_plot_params = {\n",
    "'data': displayed_data,\n",
    "'x': x,\n",
    "'y': y,\n",
    "#\"order\": order,\n",
    "#\"hue\": \"Control methods\",\n",
    "#\"hue_order\": hue_order,\n",
    "\"showfliers\":False,\n",
    "\"palette\": colors\n",
    "}\n",
    "\n",
    "g = sns.boxplot( **hue_plot_params)\n",
    "g.set_ylabel('$R^2$')\n",
    "g.set_xlabel('IMU locations')\n",
    "g.grid(visible=True, axis='both',which='major')\n",
    "#g.set_ylim([0.3,1.2])\n",
    "g.set_yticks([0.6,0.7,0.8,0.9,1.0])\n",
    "\n",
    "# statistical test\n",
    "#test_method=\"Mann-Whitney\"\n",
    "test_method=\"t-test_ind\"\n",
    "pairs = (\n",
    "[('F','W'),('F','T'),('F','S'),('F','C')]\n",
    ")\n",
    "annotator=Annotator(g,pairs=pairs,**hue_plot_params)\n",
    "annotator.configure(test=test_method, text_format='star', loc='inside')\n",
    "annotator.apply_and_annotate()\n",
    "\n",
    "\n",
    "save_figure(os.path.dirname(combination_investigation_results),'single_IMU',fig_format='svg')"
   ]
  },
  {
   "cell_type": "markdown",
   "id": "4391c10f-04ba-4eb9-846d-103bbacdb832",
   "metadata": {},
   "source": [
    "Estimation accuracy of the model with a IMU placed on the different segments. The accuracy of the model with the IMU placed on waist (W), shank (S), and chest (C) are greater than that of the IMU placed on foot (F). \n",
    "\n",
    "The median accuracy of the IMU placed on chest (C) is the largest. \n",
    "\n",
    "The location of the IMU on subjects' body also determines the feature selections and then affects the model's estimation accuracy. We explored the model performance under the different IMU locations. The model with a IMU placed on chest (C) exhibited the greatest estimation accuracy.\n",
    "\n",
    "\n",
    "\n",
    "This is because the motion states of the different segments (IMU locations) have different relationships with the target variables, thereby the features from   Each IMU location has A segment motion state measured by its placed IMU play different relationship with the target variables. \n"
   ]
  },
  {
   "cell_type": "code",
   "execution_count": null,
   "id": "7c14ada5-4a5c-4544-9e0f-ac26d05f7b25",
   "metadata": {},
   "outputs": [],
   "source": []
  },
  {
   "cell_type": "code",
   "execution_count": 25,
   "id": "78a53649-ffd0-43cb-9257-ac8407bf6f2f",
   "metadata": {},
   "outputs": [
    {
     "name": "stdout",
     "output_type": "stream",
     "text": [
      "DROP R2 cases below :0.0\n",
      "All LSTM units are used\n",
      "All sensor configurations are used\n",
      "p-value annotation legend:\n",
      "      ns: p <= 1.00e+00\n",
      "       *: 1.00e-02 < p <= 5.00e-02\n",
      "      **: 1.00e-03 < p <= 1.00e-02\n",
      "     ***: 1.00e-04 < p <= 1.00e-03\n",
      "    ****: p <= 1.00e-04\n",
      "\n",
      "FSTW vs. FTWC: t-test independent samples, P_val:2.867e-01 t=-1.066e+00\n",
      "FSWC vs. FSTC: t-test independent samples, P_val:7.921e-02 t=-1.757e+00\n",
      "FTWC vs. FSWC: t-test independent samples, P_val:2.511e-01 t=1.149e+00\n",
      "FSTC vs. STWC: t-test independent samples, P_val:6.712e-01 t=4.247e-01\n"
     ]
    },
    {
     "name": "stderr",
     "output_type": "stream",
     "text": [
      "<ipython-input-25-42ab696deb2d>:20: SettingWithCopyWarning: \n",
      "A value is trying to be set on a copy of a slice from a DataFrame.\n",
      "Try using .loc[row_indexer,col_indexer] = value instead\n",
      "\n",
      "See the caveats in the documentation: https://pandas.pydata.org/pandas-docs/stable/user_guide/indexing.html#returning-a-view-versus-a-copy\n",
      "  displayed_data[sort_variable] = displayed_data[sort_variable].astype('float64')\n",
      "<ipython-input-25-42ab696deb2d>:21: SettingWithCopyWarning: \n",
      "A value is trying to be set on a copy of a slice from a DataFrame\n",
      "\n",
      "See the caveats in the documentation: https://pandas.pydata.org/pandas-docs/stable/user_guide/indexing.html#returning-a-view-versus-a-copy\n",
      "  displayed_data.sort_values(by=[sort_variable], ascending=True, inplace=True)\n"
     ]
    },
    {
     "data": {
      "image/png": "[encoded data removed]",
      "text/plain": [
       "<Figure size 432x288 with 1 Axes>"
      ]
     },
     "metadata": {},
     "output_type": "display_data"
    },
    {
     "data": {
      "text/plain": [
       "'/media/sun/DATA/Drop_landing_workspace/suntao/Results/Experiment_results/training_testing/2_collected_full_cv/data_visulization/2022-06-29/21_21_42_four_IMU.svg'"
      ]
     },
     "execution_count": 25,
     "metadata": {},
     "output_type": "execute_result"
    }
   ],
   "source": [
    "from statannotations.Annotator import Annotator\n",
    "combination_investigation_results = \"/media/sun/DATA/Drop_landing_workspace/suntao/Results/Experiment_results/training_testing/study_lstm_units_GRF/r2_metrics.csv\"\n",
    "#combination_investigation_results = \"/media/sun/DATA/Drop_landing_workspace/suntao/Results/Experiment_results/training_testing/study_lstm_units_GRF/testing_result_folders.txt\"\n",
    "combination_investigation_results = \"/media/sun/DATA/Drop_landing_workspace/suntao/Results/Experiment_results/training_testing/1_collected_data/study_lstm_units_GRF/r2_metrics.csv\"\n",
    "combination_investigation_results = \"/media/sun/DATA/Drop_landing_workspace/suntao/Results/Experiment_results/training_testing/2_collected_full_cv/testing_result_folders.txt\"\n",
    "combination_investigation_results = \"/media/sun/DATA/Drop_landing_workspace/suntao/Results/Experiment_results/training_testing/2_collected_full_cv/r2_metrics.csv\"\n",
    "metrics = parase_plot_data(\n",
    "    combination_investigation_results,\n",
    "    landing_manner = landing_manner,\n",
    "    estimated_variable = 'GRF',\n",
    "    syn_features_label = False,\n",
    "    drop_value = 0.0,\n",
    "   # sort_variable='average scores',\n",
    "    IMU_number = [4,5]\n",
    ")\n",
    "\n",
    "imu_config = ['FSTW','FSTC','FSWC','FTWC','STWC']#, 'FSTWC']\n",
    "displayed_data = metrics.loc[metrics['Sensor configurations'].isin(imu_config)]\n",
    "sort_variable='average scores'\n",
    "displayed_data[sort_variable] = displayed_data[sort_variable].astype('float64')\n",
    "displayed_data.sort_values(by=[sort_variable], ascending=True, inplace=True)\n",
    "\n",
    "\n",
    "sns.set(font_scale=1.15,style='whitegrid')\n",
    "colors = sns.color_palette(\"YlGnBu\") \n",
    "#colors = sns.cubehelix_palette(start=.5, rot=0.4) \n",
    "\n",
    "states_palette = sns.color_palette(\"YlGnBu\", n_colors=5)\n",
    "x='Sensor configurations'\n",
    "y='scores'\n",
    "\n",
    "\n",
    "hue_plot_params = {\n",
    "'data': displayed_data,\n",
    "'x': x,\n",
    "'y': y,\n",
    "#\"order\": order,\n",
    "#\"hue\": \"Control methods\",\n",
    "#\"hue_order\": hue_order,\n",
    "\"showfliers\":False,\n",
    " #   \"showmeans\": True,\n",
    "\"palette\": colors\n",
    "}\n",
    "\n",
    "g = sns.boxplot( **hue_plot_params)\n",
    "g.set_ylabel('$R^2$')\n",
    "g.set_xlabel('IMU locations')\n",
    "g.set_yticks([0.7,0.75,0.8,0.85,0.9,0.95,1.0])\n",
    "g.grid(visible=True, axis='both',which='major')\n",
    "\n",
    "# statistical test\n",
    "#test_method=\"Mann-Whitney\"\n",
    "test_method=\"t-test_ind\"\n",
    "pairs = (\n",
    "[('FSTW','STWC'),('FSTC','STWC'),('STWC','FTWC'),('STWC','FSWC')]\n",
    ")\n",
    "\n",
    "pairs = (\n",
    "[('FSTW','FTWC'),('FSTC','FSWC'),('FSWC','FTWC'),('STWC','FSTC')]\n",
    ")\n",
    "annotator=Annotator(g,pairs=pairs,**hue_plot_params)\n",
    "annotator.configure(test=test_method, text_format='star', loc='outside')\n",
    "annotator.apply_and_annotate()\n",
    "\n",
    "save_figure(os.path.dirname(combination_investigation_results),'four_IMU',fig_format='svg')"
   ]
  },
  {
   "cell_type": "markdown",
   "id": "0943e26e-7270-47fd-b907-8961d2eecfa2",
   "metadata": {},
   "source": [
    "## GRF in single leg drop landing"
   ]
  },
  {
   "cell_type": "code",
   "execution_count": 10,
   "id": "09bd69bb-c244-4ad9-9f19-5092271d39ed",
   "metadata": {
    "jupyter": {
     "source_hidden": true
    },
    "tags": []
   },
   "outputs": [
    {
     "name": "stdout",
     "output_type": "stream",
     "text": [
      "DROP R2 cases below :0.6\n",
      "All LSTM units are used\n"
     ]
    },
    {
     "data": {
      "image/png": "[encoded data removed]",
      "text/plain": [
       "<Figure size 360x288 with 1 Axes>"
      ]
     },
     "metadata": {
      "needs_background": "light"
     },
     "output_type": "display_data"
    }
   ],
   "source": [
    "combination_investigation_results = \"/media/sun/DATA/Drop_landing_workspace/suntao/Results/Experiment_results/training_testing/study_lstm_units_single_leg_GRF/metrics.csv\"\n",
    "landing_manner = 'single_leg'\n",
    "# sensor config, lstm units\n",
    "fig_path,r2 = plot_overall_sensorconfig_modelsize_investigation_results(\n",
    "                                                                         combination_investigation_results,\n",
    "                                                                         estimated_variable = 'GRF',\n",
    "                                                                         landing_manner=landing_manner,\n",
    "                                                                          syn_features_label = False,\n",
    "                                                                          title = ' estimation in single-leg drop landing',\n",
    "                                                                          drop_value = 0.6,\n",
    "                                                                          hue = 'IMU number'\n",
    "                                                                         )"
   ]
  },
  {
   "cell_type": "markdown",
   "id": "3a31c648-c1ea-4ead-bcc5-538e29d3b4df",
   "metadata": {},
   "source": [
    "## KFM in double leg drop landing"
   ]
  },
  {
   "cell_type": "code",
   "execution_count": 11,
   "id": "aad741ac-2cbb-4bcd-afaa-4bb4a916c396",
   "metadata": {
    "jupyter": {
     "source_hidden": true
    },
    "tags": []
   },
   "outputs": [
    {
     "name": "stdout",
     "output_type": "stream",
     "text": [
      "DROP R2 cases below :0.6\n",
      "All LSTM units are used\n"
     ]
    },
    {
     "data": {
      "image/png": "[encoded data removed]",
      "text/plain": [
       "<Figure size 360x288 with 1 Axes>"
      ]
     },
     "metadata": {
      "needs_background": "light"
     },
     "output_type": "display_data"
    }
   ],
   "source": [
    "combination_investigation_results = \"/media/sun/DATA/Drop_landing_workspace/suntao/Results/Experiment_results/training_testing/study_lstm_units_KFM/testing_result_folders.txt\"\n",
    "\n",
    "'''\n",
    "fig_path, r2 = plot_overall_sensor_config_investigation_results(combination_investigation_results,\n",
    "                                                   landing_manner='double_legs',\n",
    "                                                   estimated_variable='KFM',\n",
    "                                                   syn_features_label='false',\n",
    "                                                   title=' estimation in double-leg drop landing',\n",
    "                                                   LSTM_unit=120, drop_value=0.6)\n",
    "\n",
    "'''\n",
    "\n",
    "landing_manner = 'double_legs'\n",
    "fig_path, r2 = plot_overall_sensorconfig_modelsize_investigation_results(\n",
    "    combination_investigation_results,\n",
    "    estimated_variable = 'KFM',\n",
    "    landing_manner=landing_manner,\n",
    "    syn_features_label = False,\n",
    "    title = ' estimation in double-leg drop landing',\n",
    "    drop_value = 0.6,\n",
    "    hue = 'IMU number'\n",
    "\n",
    ")\n"
   ]
  },
  {
   "cell_type": "markdown",
   "id": "db2d0651-9185-415a-9dd7-3b3015b92333",
   "metadata": {},
   "source": [
    "## KFM in single leg drop landing"
   ]
  },
  {
   "cell_type": "code",
   "execution_count": 14,
   "id": "793603f5-e318-40ba-9fc8-f32c189c3baa",
   "metadata": {
    "jupyter": {
     "source_hidden": true
    },
    "tags": []
   },
   "outputs": [
    {
     "name": "stdout",
     "output_type": "stream",
     "text": [
      "DROP R2 cases below :0.6\n",
      "All LSTM units are used\n"
     ]
    },
    {
     "data": {
      "image/png": "[encoded data removed]",
      "text/plain": [
       "<Figure size 360x288 with 1 Axes>"
      ]
     },
     "metadata": {
      "needs_background": "light"
     },
     "output_type": "display_data"
    }
   ],
   "source": [
    "combination_investigation_results = \"/media/sun/DATA/Drop_landing_workspace/suntao/Results/Experiment_results/training_testing/study_lstm_units_single_leg_KFM/testing_result_folders.txt\"\n",
    "\n",
    "landing_manner = 'single_leg'\n",
    "fig_path, r2 = plot_overall_sensorconfig_modelsize_investigation_results(\n",
    "                                                                         combination_investigation_results,\n",
    "                                                                         estimated_variable = 'KFM',\n",
    "                                                                         landing_manner=landing_manner,\n",
    "                                                                         syn_features_label = False,\n",
    "                                                                         title = ' estimation in double-leg drop landing',\n",
    "                                                                         drop_value = 0.6,\n",
    "                                                                         hue = 'IMU number'\n",
    "                                                                         \n",
    "                                                                         )"
   ]
  },
  {
   "cell_type": "code",
   "execution_count": 7,
   "id": "28306852-33e1-4be2-a991-68740437bef6",
   "metadata": {},
   "outputs": [
    {
     "name": "stdout",
     "output_type": "stream",
     "text": [
      "['P_08_zhangboyuan', 'P_09_libang', 'P_10_dongxuan', 'P_11_liuchunyu', 'P_12_fuzijun', 'P_13_xulibang', 'P_14_hunan', 'P_15_liuzhaoyu', 'P_16_zhangjinduo', 'P_17_congyuanqi', 'P_18_hezhonghai', 'P_19_xiongyihui', 'P_20_xuanweicheng', 'P_21_wujianing', 'P_22_zhangning', 'P_23_wangjinhong', 'P_24_liziqing']\n",
      "['P_19_xiongyihui', 'P_20_xuanweicheng', 'P_21_wujianing', 'P_15_liuzhaoyu', 'P_16_zhangjinduo', 'P_17_congyuanqi', 'P_18_hezhonghai', 'P_22_zhangning', 'P_23_wangjinhong', 'P_08_zhangboyuan', 'P_14_hunan', 'P_24_liziqing', 'P_10_dongxuan', 'P_11_liuchunyu', 'P_13_xulibang']\n",
      "DO NOT synchronize features and labels: False\n"
     ]
    }
   ],
   "source": [
    "#-- define hyper parameters\n",
    "multi_subject_data={}\n",
    "hyperparams={}\n",
    "hyperparams['raw_dataset_path']= os.path.join(DATA_PATH,'features_labels_rawdatasets.hdf5')\n",
    "\n",
    "#-- select subjects \n",
    "selected_subject_ids=['P_08','P_09','P_10', 'P_11', 'P_12', 'P_13', 'P_14', 'P_15','P_16','P_17','P_18','P_19','P_20','P_21','P_22','P_23', 'P_24']\n",
    "\n",
    "#-- subject info\n",
    "subject_infos = pd.read_csv(os.path.join(DATA_PATH, 'subject_info.csv'), index_col=0, header=0)\n",
    "subject_ids_names = [ss for ss in subject_infos.index]\n",
    "\n",
    "# select subjects' dis and names\n",
    "selected_subject_ids_names = get_subject_ids_names(selected_subject_ids)\n",
    "\n",
    "#for selected_subject_id_name in selected_subject_ids_names:\n",
    "#i) define hyperparams values: subject, columns_names\n",
    "hyperparams['landing_manner']='double_legs'\n",
    "hyperparams['target_leg']='R'\n",
    "hyperparams['subjects_trials'] = set_subjects_trials(selected=True, landing_manner='double_legs')\n",
    "#ii) set data fields in 'columns_names'\n",
    "#labels_fields = ['L_GRF_X','L_GRF_Y','L_GRF_Z','R_GRF_X','R_GRF_Y','R_GRF_Z']\n",
    "labels_fields = ['R_GRF_Z','R_KNEE_MOMENT_X']\n",
    "#labels_fields = ['R_FOOT_Accel_Z','R_GRF_X','R_GRF_Y','R_GRF_Z']\n",
    "hyperparams['features_names'] = FEATURES_FIELDS\n",
    "hyperparams['labels_names'] = labels_fields\n",
    "hyperparams['columns_names'] = hyperparams['features_names'] + hyperparams['labels_names'] + ['TIME']\n",
    "hyperparams['syn_features_labels'] = False\n",
    "\n",
    "#iii) load multiple subject data, the output subjects trials data columns with indicated sequences\n",
    "subjects_trials_data, scaled_subjects_trials_data, scaler = load_normalize_data(hyperparams=hyperparams, scaler='standard')\n"
   ]
  },
  {
   "cell_type": "code",
   "execution_count": 8,
   "id": "0dd3a948-13ed-4159-bcb9-a5ce12c993c0",
   "metadata": {},
   "outputs": [
    {
     "name": "stdout",
     "output_type": "stream",
     "text": [
      "[-3.63325230e-02  9.95699224e+00 -4.18043998e+00 -6.56112880e-03\n",
      " -1.00724517e-03 -1.40588249e-02 -6.03805170e-01 -7.68138400e-01\n",
      "  1.34930797e-01 -1.12003796e-01  9.74373107e+00 -3.44326948e+00\n",
      " -5.70872216e-02  8.03922728e-04 -1.85098425e-02 -5.24437748e-01\n",
      " -5.89534212e-01  9.55030728e-02 -3.80872805e+00  9.78777433e+00\n",
      " -6.01615809e-01  3.94796031e-02  8.04694145e-02  2.99120754e-01\n",
      "  2.09463596e-01 -6.16025442e-01 -3.71877632e-01  3.25754864e+00\n",
      "  9.28356536e+00 -1.33622681e+00 -6.61391126e-02 -5.43186964e-02\n",
      " -2.51843967e-01 -2.94823127e-02 -5.88988742e-01 -4.50383644e-01\n",
      " -5.41232668e-01  6.14223337e+00  5.53823034e+00 -4.12989979e-01\n",
      " -1.41136067e-01 -9.83368248e-02 -4.00177083e-01 -1.28813770e-01\n",
      " -6.67988163e-01  3.41830100e+00  9.64728235e+00 -1.41541919e+00\n",
      " -2.27992249e-03 -4.77209279e-02 -2.87038831e-01 -2.37187059e-01\n",
      " -4.74674745e-01  4.93648758e-01 -2.70112105e+00  9.26130605e+00\n",
      " -8.59292943e-01  1.59631220e-02  6.80959723e-02  2.55844302e-01\n",
      "  4.76619905e-02 -5.77850870e-01  5.30230938e-01  3.77557210e-01\n",
      "  6.09441218e+00  5.34682169e+00 -4.18406365e-01  5.93130738e-02\n",
      "  1.67116661e-01 -6.71110743e-01 -4.10850624e-01 -2.83877917e-01\n",
      "  5.24276934e-01  7.17568104e-01  4.00000000e-01]\n",
      "[ 1.60182722  9.85905518  4.40005324  0.91398494  0.3011266   0.19913438\n",
      "  0.06657499  0.07061625  0.14267845  1.73539038 11.38561463  5.28424908\n",
      "  1.02758893  0.3475757   0.2266859   0.04700206  0.08040276  0.17198922\n",
      "  7.74196373 10.06145164  3.02872007  0.7042568   1.22611802  1.67386628\n",
      "  0.29211098  0.12699452  0.23405596  6.94530298 10.17313647  3.37600525\n",
      "  0.83069749  0.9614829   2.05921828  0.22696319  0.06301487  0.08966884\n",
      "  3.11066637  5.76811505  7.672984    1.7144195   1.12228275  0.72662096\n",
      "  0.10691168  0.17853886  0.08609875  8.10339917 10.07469767  3.14410281\n",
      "  0.58733504  1.14000278  1.66837395  0.26544638  0.11266746  0.29331489\n",
      "  7.54073103  9.96953334  3.40987702  0.79339605  0.97639152  2.08269116\n",
      "  0.21573985  0.07346282  0.09244613  3.50601273  6.04304366  7.62051271\n",
      "  1.82853426  0.99228114  0.78541236  0.06484989  0.17755779  0.15733889\n",
      "  0.50879469  1.11527821  0.23384513]\n",
      "72\n"
     ]
    }
   ],
   "source": [
    "print(scaler.mean_)\n",
    "print(scaler.scale_)\n",
    "print(len(FEATURES_FIELDS))\n",
    "\n",
    "ans = pd.DataFrame(data= np.array([scaler.mean_,scaler.scale_]).T,columns=['mean','scale'],index=hyperparams['columns_names'])"
   ]
  },
  {
   "cell_type": "code",
   "execution_count": 11,
   "id": "8ccc90bb-3ae8-4c90-8d61-c46d7d2f94ad",
   "metadata": {},
   "outputs": [
    {
     "data": {
      "text/html": [
       "<div>\n",
       "<style scoped>\n",
       "    .dataframe tbody tr th:only-of-type {\n",
       "        vertical-align: middle;\n",
       "    }\n",
       "\n",
       "    .dataframe tbody tr th {\n",
       "        vertical-align: top;\n",
       "    }\n",
       "\n",
       "    .dataframe thead th {\n",
       "        text-align: right;\n",
       "    }\n",
       "</style>\n",
       "<table border=\"1\" class=\"dataframe\">\n",
       "  <thead>\n",
       "    <tr style=\"text-align: right;\">\n",
       "      <th></th>\n",
       "      <th>mean</th>\n",
       "      <th>scale</th>\n",
       "    </tr>\n",
       "  </thead>\n",
       "  <tbody>\n",
       "    <tr>\n",
       "      <th>CHEST_Accel_X</th>\n",
       "      <td>-0.036333</td>\n",
       "      <td>1.601827</td>\n",
       "    </tr>\n",
       "    <tr>\n",
       "      <th>CHEST_Accel_Y</th>\n",
       "      <td>9.956992</td>\n",
       "      <td>9.859055</td>\n",
       "    </tr>\n",
       "    <tr>\n",
       "      <th>CHEST_Accel_Z</th>\n",
       "      <td>-4.180440</td>\n",
       "      <td>4.400053</td>\n",
       "    </tr>\n",
       "    <tr>\n",
       "      <th>CHEST_Gyro_X</th>\n",
       "      <td>-0.006561</td>\n",
       "      <td>0.913985</td>\n",
       "    </tr>\n",
       "    <tr>\n",
       "      <th>CHEST_Gyro_Y</th>\n",
       "      <td>-0.001007</td>\n",
       "      <td>0.301127</td>\n",
       "    </tr>\n",
       "    <tr>\n",
       "      <th>...</th>\n",
       "      <td>...</td>\n",
       "      <td>...</td>\n",
       "    </tr>\n",
       "    <tr>\n",
       "      <th>L_FOOT_Mag_Y</th>\n",
       "      <td>-0.410851</td>\n",
       "      <td>0.177558</td>\n",
       "    </tr>\n",
       "    <tr>\n",
       "      <th>L_FOOT_Mag_Z</th>\n",
       "      <td>-0.283878</td>\n",
       "      <td>0.157339</td>\n",
       "    </tr>\n",
       "    <tr>\n",
       "      <th>R_GRF_Z</th>\n",
       "      <td>0.524277</td>\n",
       "      <td>0.508795</td>\n",
       "    </tr>\n",
       "    <tr>\n",
       "      <th>R_KNEE_MOMENT_X</th>\n",
       "      <td>0.717568</td>\n",
       "      <td>1.115278</td>\n",
       "    </tr>\n",
       "    <tr>\n",
       "      <th>TIME</th>\n",
       "      <td>0.400000</td>\n",
       "      <td>0.233845</td>\n",
       "    </tr>\n",
       "  </tbody>\n",
       "</table>\n",
       "<p>75 rows × 2 columns</p>\n",
       "</div>"
      ],
      "text/plain": [
       "                     mean     scale\n",
       "CHEST_Accel_X   -0.036333  1.601827\n",
       "CHEST_Accel_Y    9.956992  9.859055\n",
       "CHEST_Accel_Z   -4.180440  4.400053\n",
       "CHEST_Gyro_X    -0.006561  0.913985\n",
       "CHEST_Gyro_Y    -0.001007  0.301127\n",
       "...                   ...       ...\n",
       "L_FOOT_Mag_Y    -0.410851  0.177558\n",
       "L_FOOT_Mag_Z    -0.283878  0.157339\n",
       "R_GRF_Z          0.524277  0.508795\n",
       "R_KNEE_MOMENT_X  0.717568  1.115278\n",
       "TIME             0.400000  0.233845\n",
       "\n",
       "[75 rows x 2 columns]"
      ]
     },
     "execution_count": 11,
     "metadata": {},
     "output_type": "execute_result"
    }
   ],
   "source": [
    "## normalization parameter values\n",
    "ans.iloc[:,:6]"
   ]
  }
 ],
 "metadata": {
  "kernelspec": {
   "display_name": "Python 3",
   "language": "python",
   "name": "python3"
  },
  "language_info": {
   "codemirror_mode": {
    "name": "ipython",
    "version": 3
   },
   "file_extension": ".py",
   "mimetype": "text/x-python",
   "name": "python",
   "nbconvert_exporter": "python",
   "pygments_lexer": "ipython3",
   "version": "3.9.2"
  }
 },
 "nbformat": 4,
 "nbformat_minor": 5
}
