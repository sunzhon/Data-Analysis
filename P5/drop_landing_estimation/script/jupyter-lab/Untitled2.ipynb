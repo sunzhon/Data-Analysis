{
 "cells": [
  {
   "cell_type": "code",
   "execution_count": 35,
   "id": "c53690aa-8e52-4c9d-91e1-94c908a49698",
   "metadata": {},
   "outputs": [],
   "source": [
    "from fireTS.models import NARX\n",
    "from sklearn.ensemble import RandomForestRegressor\n",
    "import numpy as np\n",
    "\n",
    "# alpha:L2的参数：MLP是可以支持正则化的，默认为L2，具体参数需要调整\n",
    "# hidden_layer_sizes=(5, 2) hidden层2层,第一层5个神经元，第二层2个神经元)，2层隐藏层，也就有3层神经网络\n",
    "#clf = MLPRegressor(solver='lbfgs', alpha=1e-5,hidden_layer_sizes=(5, 2), random_state=1)\n",
    "#'identity'，无操作激活，对实现线性瓶颈很有用，返回f（x）= x\n",
    "#'logistic'，logistic sigmoid函数，返回f（x）= 1 /（1 + exp（-x））。\n",
    "#'tanh'，双曲tan函数，返回f（x）= tanh（x）。\n",
    "#'relu'，整流后的线性单位函数，返回f（x）= max（0，x）\n",
    "model_mlp = MLPRegressor(\n",
    "    hidden_layer_sizes = (100,100),  activation='relu', solver='adam', alpha=0.0001, batch_size='auto',\n",
    "    learning_rate ='constant', learning_rate_init=0.001, power_t=0.5, max_iter=5000, shuffle=False,\n",
    "    random_state=1, tol=0.0001, verbose=False, warm_start=False, momentum=0.9, nesterovs_momentum=True,\n",
    "    early_stopping=False, beta_1=0.9, beta_2=0.999, epsilon=1e-08\n",
    "    )\n",
    "\n",
    "x = np.random.randn(100, 1)\n",
    "y = np.random.randn(100)\n",
    "\n",
    "mdl = NARX(model_mlp, auto_order=2, exog_order=[2], exog_delay=[1])\n",
    "\n",
    "mdl.fit(x, y)\n",
    "ypred = mdl.predict(x,y, step=3)"
   ]
  },
  {
   "cell_type": "code",
   "execution_count": 33,
   "id": "7fa8b010-e409-42f7-ac91-85659db46a8b",
   "metadata": {},
   "outputs": [
    {
     "name": "stdout",
     "output_type": "stream",
     "text": [
      "(100,)\n"
     ]
    }
   ],
   "source": [
    "print(ypred.shape)"
   ]
  },
  {
   "cell_type": "code",
   "execution_count": null,
   "id": "f6f880ab-8569-4587-985a-a4e84fb80b4c",
   "metadata": {},
   "outputs": [],
   "source": [
    "print(ypred.shape)"
   ]
  },
  {
   "cell_type": "code",
   "execution_count": null,
   "id": "609265e6-6866-4df2-983e-1333f0463a98",
   "metadata": {},
   "outputs": [],
   "source": []
  }
 ],
 "metadata": {
  "kernelspec": {
   "display_name": "Python 3",
   "language": "python",
   "name": "python3"
  },
  "language_info": {
   "codemirror_mode": {
    "name": "ipython",
    "version": 3
   },
   "file_extension": ".py",
   "mimetype": "text/x-python",
   "name": "python",
   "nbconvert_exporter": "python",
   "pygments_lexer": "ipython3",
   "version": "3.9.2"
  }
 },
 "nbformat": 4,
 "nbformat_minor": 5
}
