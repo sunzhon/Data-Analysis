{
 "cells": [
  {
   "cell_type": "code",
   "execution_count": 2,
   "id": "3df172e0",
   "metadata": {},
   "outputs": [],
   "source": [
    "# 1 Load package\n",
    "import matplotlib.pyplot as plt\n",
    "import numpy as np\n",
    "import torch.nn as nn\n",
    "from torch.utils.data import DataLoader\n",
    "from torchvision import datasets, transforms\n",
    "from torchvision.utils import make_grid\n",
    "import os\n",
    "\n"
   ]
  },
  {
   "cell_type": "code",
   "execution_count": null,
   "id": "226d3239",
   "metadata": {},
   "outputs": [],
   "source": [
    "#2 Define a method\n",
    "def image_show():\n",
    "    "
   ]
  },
  {
   "cell_type": "code",
   "execution_count": 3,
   "id": "c7918f16",
   "metadata": {},
   "outputs": [
    {
     "ename": "SyntaxError",
     "evalue": "invalid syntax (<ipython-input-3-562e255c61b3>, line 9)",
     "output_type": "error",
     "traceback": [
      "\u001b[0;36m  File \u001b[0;32m\"<ipython-input-3-562e255c61b3>\"\u001b[0;36m, line \u001b[0;32m9\u001b[0m\n\u001b[0;31m    transforms.RandomReseizedCrop(300),\u001b[0m\n\u001b[0m    ^\u001b[0m\n\u001b[0;31mSyntaxError\u001b[0m\u001b[0;31m:\u001b[0m invalid syntax\n"
     ]
    }
   ],
   "source": [
    "def main():\n",
    "    # define super parameters\n",
    "    batch_size=8\n",
    "    device=torch.device(\"gpu\" if torch.cuda.is_available() else \"cpu\")\n",
    "    data_transforms={\n",
    "        \"train\":\n",
    "        transforms.Compose([\n",
    "        transforms.Resize(300)\n",
    "        transforms.RandomReseizedCrop(300),\n",
    "         transforms.RandomHorizonalFlip(),\n",
    "         transforms.CenterCrop(256),\n",
    "         transforms.ToTensor(),\n",
    "         transforms.Normalize([0.485,0.456,0.406],[0.229,0.224,0.225])\n",
    "        ])\n",
    "        \"test\": transforms.Compose([\n",
    "            transforms.Resize(300),\n",
    "            transforms.RandomResizedCrop(300),\n",
    "            transforms.RandomHorizontalFlip(),\n",
    "            transforms.CenterCrop(256),\n",
    "            transforms.ToTensor(),\n",
    "            transforms.Normalized([0.485,0.456,0.406],[0.229,0.224,0.225])\n",
    "        ])\n",
    "    \n",
    "    }\n",
    "    \n",
    "    #dataset paths\n",
    "    data_path=\"./chest_xray/\"\n",
    "    image_datasets={x: datasets.ImageFolder(os.path.join(data_path,x), data_transforms[x]) for x in ['train', 'test']}"
   ]
  },
  {
   "cell_type": "code",
   "execution_count": null,
   "id": "14184c0f",
   "metadata": {},
   "outputs": [],
   "source": [
    "main()"
   ]
  }
 ],
 "metadata": {
  "kernelspec": {
   "display_name": "Python 3",
   "language": "python",
   "name": "python3"
  },
  "language_info": {
   "codemirror_mode": {
    "name": "ipython",
    "version": 3
   },
   "file_extension": ".py",
   "mimetype": "text/x-python",
   "name": "python",
   "nbconvert_exporter": "python",
   "pygments_lexer": "ipython3",
   "version": "3.9.2"
  }
 },
 "nbformat": 4,
 "nbformat_minor": 5
}
