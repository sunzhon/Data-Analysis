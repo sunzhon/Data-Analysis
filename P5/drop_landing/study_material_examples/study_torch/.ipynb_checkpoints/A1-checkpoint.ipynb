{
 "cells": [
  {
   "cell_type": "code",
   "execution_count": 1,
   "id": "edcd6bf7",
   "metadata": {},
   "outputs": [],
   "source": [
    "#1 加载必要的库\n",
    "import torch\n",
    "import torch.nn as nn\n",
    "import torch.nn.functional as F\n",
    "import torch.optim as optim\n",
    "from torchvision  import datasets, transforms"
   ]
  },
  {
   "cell_type": "code",
   "execution_count": 3,
   "id": "70d4464a",
   "metadata": {},
   "outputs": [],
   "source": [
    "#2 定义超参数\n",
    "BATCH_SIZE = 16 #每批处理的数据\n",
    "DEVICE = torch.device(\"cuda\" if torch.cuda.is_available() else \"cpu\")\n",
    "EPOCHS = 10 # 训练数据集的轮次\n"
   ]
  },
  {
   "cell_type": "code",
   "execution_count": 4,
   "id": "ed41095f",
   "metadata": {},
   "outputs": [],
   "source": [
    "#3 构建pipeline, transform 对数据作处理\n",
    "pipeline=transforms.Compose([\n",
    "    transforms.ToTensor(),#\n",
    "    transforms.Normalize((0.1307,0),(0.3081,))#正则化，降低模型复杂度，计算量，过拟合\n",
    "])"
   ]
  },
  {
   "cell_type": "code",
   "execution_count": 5,
   "id": "39ac35a5",
   "metadata": {},
   "outputs": [
    {
     "name": "stdout",
     "output_type": "stream",
     "text": [
      "Downloading http://yann.lecun.com/exdb/mnist/train-images-idx3-ubyte.gz\n",
      "Downloading http://yann.lecun.com/exdb/mnist/train-images-idx3-ubyte.gz to data/MNIST/raw/train-images-idx3-ubyte.gz\n"
     ]
    },
    {
     "name": "stderr",
     "output_type": "stream",
     "text": [
      "100.0%\n"
     ]
    },
    {
     "name": "stdout",
     "output_type": "stream",
     "text": [
      "Extracting data/MNIST/raw/train-images-idx3-ubyte.gz to data/MNIST/raw\n",
      "\n",
      "Downloading http://yann.lecun.com/exdb/mnist/train-labels-idx1-ubyte.gz\n",
      "Downloading http://yann.lecun.com/exdb/mnist/train-labels-idx1-ubyte.gz to data/MNIST/raw/train-labels-idx1-ubyte.gz\n"
     ]
    },
    {
     "name": "stderr",
     "output_type": "stream",
     "text": [
      "102.8%\n"
     ]
    },
    {
     "name": "stdout",
     "output_type": "stream",
     "text": [
      "Extracting data/MNIST/raw/train-labels-idx1-ubyte.gz to data/MNIST/raw\n",
      "\n",
      "Downloading http://yann.lecun.com/exdb/mnist/t10k-images-idx3-ubyte.gz\n",
      "Downloading http://yann.lecun.com/exdb/mnist/t10k-images-idx3-ubyte.gz to data/MNIST/raw/t10k-images-idx3-ubyte.gz\n"
     ]
    },
    {
     "name": "stderr",
     "output_type": "stream",
     "text": [
      "100.0%\n"
     ]
    },
    {
     "name": "stdout",
     "output_type": "stream",
     "text": [
      "Extracting data/MNIST/raw/t10k-images-idx3-ubyte.gz to data/MNIST/raw\n",
      "\n",
      "Downloading http://yann.lecun.com/exdb/mnist/t10k-labels-idx1-ubyte.gz\n",
      "Downloading http://yann.lecun.com/exdb/mnist/t10k-labels-idx1-ubyte.gz to data/MNIST/raw/t10k-labels-idx1-ubyte.gz\n"
     ]
    },
    {
     "name": "stderr",
     "output_type": "stream",
     "text": [
      "112.7%"
     ]
    },
    {
     "name": "stdout",
     "output_type": "stream",
     "text": [
      "Extracting data/MNIST/raw/t10k-labels-idx1-ubyte.gz to data/MNIST/raw\n",
      "\n"
     ]
    },
    {
     "name": "stderr",
     "output_type": "stream",
     "text": [
      "\n",
      "/home/sun/.pyenv/versions/DataVisualization/lib/python3.9/site-packages/torchvision/datasets/mnist.py:498: UserWarning: The given NumPy array is not writeable, and PyTorch does not support non-writeable tensors. This means you can write to the underlying (supposedly non-writeable) NumPy array using the tensor. You may want to copy the array to protect its data or make it writeable before converting it to a tensor. This type of warning will be suppressed for the rest of this program. (Triggered internally at  /pytorch/torch/csrc/utils/tensor_numpy.cpp:180.)\n",
      "  return torch.from_numpy(parsed.astype(m[2], copy=False)).view(*s)\n"
     ]
    }
   ],
   "source": [
    "#4 下载、加载数据\n",
    "from torch.utils.data import DataLoader\n",
    "\n",
    "#下载数据\n",
    "train_set = datasets.MNIST(\"data\",train=True,download=True,transform=pipeline)\n",
    "test_set = datasets.MNIST(\"data\",train=False,download=True,transform=pipeline)\n",
    "\n",
    "#加载数据\n",
    "\n",
    "train_loader=DataLoader(train_set,batch_size=BATCH_SIZE,shuffle=True)\n",
    "train_loader=DataLoader(test_set,batch_size=BATCH_SIZE,shuffle=True)"
   ]
  },
  {
   "cell_type": "code",
   "execution_count": 9,
   "id": "2b364356",
   "metadata": {},
   "outputs": [],
   "source": [
    "with open(\"./data/MNIST/raw/train-images-idx3-ubyte\",\"rb\") as f:\n",
    "    file=f.read()"
   ]
  },
  {
   "cell_type": "code",
   "execution_count": 19,
   "id": "06df36dc",
   "metadata": {},
   "outputs": [
    {
     "ename": "AttributeError",
     "evalue": "'list' object has no attribute 'shape'",
     "output_type": "error",
     "traceback": [
      "\u001b[0;31m---------------------------------------------------------------------------\u001b[0m",
      "\u001b[0;31mAttributeError\u001b[0m                            Traceback (most recent call last)",
      "\u001b[0;32m<ipython-input-19-0147affae56d>\u001b[0m in \u001b[0;36m<module>\u001b[0;34m\u001b[0m\n\u001b[1;32m      1\u001b[0m \u001b[0mimagel\u001b[0m\u001b[0;34m=\u001b[0m\u001b[0;34m[\u001b[0m\u001b[0mint\u001b[0m\u001b[0;34m(\u001b[0m\u001b[0mstr\u001b[0m\u001b[0;34m(\u001b[0m\u001b[0mitem\u001b[0m\u001b[0;34m)\u001b[0m\u001b[0;34m.\u001b[0m\u001b[0mencode\u001b[0m\u001b[0;34m(\u001b[0m\u001b[0;34m'ascii'\u001b[0m\u001b[0;34m)\u001b[0m\u001b[0;34m,\u001b[0m\u001b[0;36m16\u001b[0m\u001b[0;34m)\u001b[0m \u001b[0;32mfor\u001b[0m \u001b[0mitem\u001b[0m \u001b[0;32min\u001b[0m \u001b[0mfile\u001b[0m\u001b[0;34m[\u001b[0m\u001b[0;36m16\u001b[0m\u001b[0;34m:\u001b[0m\u001b[0;36m16\u001b[0m\u001b[0;34m+\u001b[0m\u001b[0;36m784\u001b[0m\u001b[0;34m]\u001b[0m\u001b[0;34m]\u001b[0m\u001b[0;34m\u001b[0m\u001b[0;34m\u001b[0m\u001b[0m\n\u001b[0;32m----> 2\u001b[0;31m \u001b[0mprint\u001b[0m\u001b[0;34m(\u001b[0m\u001b[0mimagel\u001b[0m\u001b[0;34m.\u001b[0m\u001b[0mshape\u001b[0m\u001b[0;34m)\u001b[0m\u001b[0;34m\u001b[0m\u001b[0;34m\u001b[0m\u001b[0m\n\u001b[0m",
      "\u001b[0;31mAttributeError\u001b[0m: 'list' object has no attribute 'shape'"
     ]
    }
   ],
   "source": [
    "imagel=[int(str(item).encode('ascii'),16) for item in file[16:16+784]]\n",
    "#print(imagel.shape)"
   ]
  },
  {
   "cell_type": "code",
   "execution_count": 18,
   "id": "86319516",
   "metadata": {},
   "outputs": [
    {
     "name": "stdout",
     "output_type": "stream",
     "text": [
      "(784,)\n",
      "(28, 28, 1)\n"
     ]
    },
    {
     "data": {
      "image/png": "[encoded data removed]",
      "text/plain": [
       "<Figure size 432x288 with 1 Axes>"
      ]
     },
     "metadata": {
      "needs_background": "light"
     },
     "output_type": "display_data"
    }
   ],
   "source": [
    "import matplotlib.pyplot as plt\n",
    "import numpy as np\n",
    "print(np.array(imagel).shape)\n",
    "imagel_np=np.array(imagel,dtype=np.uint8).reshape(28,28,1)\n",
    "plt.imshow(imagel_np)\n",
    "print(imagel_np.shape)"
   ]
  },
  {
   "cell_type": "code",
   "execution_count": null,
   "id": "eb4adf27",
   "metadata": {},
   "outputs": [],
   "source": [
    "#5 构建网络模型\n",
    "class Digit(nn.Module):\n",
    "    def __initt__(self):\n",
    "        super().__init()__\n",
    "        self.conv1=nn.Conv2d(1,10,5)#灰度\n",
    "        self.conv2=nn.Conv2d(10,20,3)\n",
    "        self.fc1=nn.Linear(20*10*10,500)\n",
    "        self.fc2=nn.Linear(500,10)\n",
    "    \n",
    "    def forward(self,x):\n",
    "        input_size=x.size(0) # batch_size,1->灰度,28*28->像素\n",
    "        x=self.conv1(x) #输入：batch_size*1*28*28,输出：batch_size*10*24*24 (28-5+1)\n",
    "        x=F.relu(x)\n",
    "        x=F.max_pool2d(x,2,2) #输入: batch_size*10*24*24, 输出:batch_sze*10*12*12\n",
    "        \n",
    "        x=self.conv2(x)#输出batch * 20*10*10\n",
    "        x=F.relu(x)\n",
    "        \n",
    "        x=x.view(input_size,-1)#输出batach * 20*10*10\n",
    "        \n",
    "        x=self.fc1(x) #输入 batch * 2000, 输出：batch * 500\n",
    "        x=F.relu(x)\n",
    "        \n",
    "        x=self.fc2(x)\n",
    "        output=F.log_softmax(x,dim=1)\n",
    "        \n",
    "        return output\n",
    "    \n",
    "    def backward(self):\n",
    "        \n",
    "        "
   ]
  },
  {
   "cell_type": "code",
   "execution_count": null,
   "id": "31e986c4",
   "metadata": {},
   "outputs": [],
   "source": [
    "#6 定义优化器 "
   ]
  },
  {
   "cell_type": "code",
   "execution_count": null,
   "id": "6a92f1ac",
   "metadata": {},
   "outputs": [],
   "source": [
    "#7 定义训练方法"
   ]
  },
  {
   "cell_type": "code",
   "execution_count": null,
   "id": "428c2dcf",
   "metadata": {},
   "outputs": [],
   "source": [
    "#8 定义测试方法"
   ]
  }
 ],
 "metadata": {
  "kernelspec": {
   "display_name": "Python 3",
   "language": "python",
   "name": "python3"
  },
  "language_info": {
   "codemirror_mode": {
    "name": "ipython",
    "version": 3
   },
   "file_extension": ".py",
   "mimetype": "text/x-python",
   "name": "python",
   "nbconvert_exporter": "python",
   "pygments_lexer": "ipython3",
   "version": "3.9.2"
  }
 },
 "nbformat": 4,
 "nbformat_minor": 5
}
