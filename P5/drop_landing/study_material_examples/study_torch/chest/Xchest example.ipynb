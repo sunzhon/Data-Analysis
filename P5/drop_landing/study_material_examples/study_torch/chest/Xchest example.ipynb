{
 "cells": [
  {
   "cell_type": "markdown",
   "metadata": {},
   "source": [
    "## 案例：肺部检测"
   ]
  },
  {
   "cell_type": "code",
   "execution_count": 1,
   "metadata": {},
   "outputs": [
    {
     "name": "stderr",
     "output_type": "stream",
     "text": [
      "/home/sun/.pyenv/versions/DataVisualization/lib/python3.9/site-packages/setuptools/distutils_patch.py:25: UserWarning: Distutils was imported before Setuptools. This usage is discouraged and may exhibit undesirable behaviors or errors. Please use Setuptools' objects directly or at least import Setuptools first.\n",
      "  warnings.warn(\n"
     ]
    }
   ],
   "source": [
    "# 1 加入必要的库\n",
    "import torch\n",
    "import torch.nn as nn\n",
    "import numpy as np\n",
    "import torch.optim as optim\n",
    "from torch.optim import lr_scheduler\n",
    "from torchvision import datasets, transforms, utils, models\n",
    "import time\n",
    "import matplotlib.pyplot as plt\n",
    "from torch.utils.data import DataLoader\n",
    "from torch.utils.tensorboard.writer import SummaryWriter\n",
    "import os\n",
    "import torchvision\n",
    "import copy"
   ]
  },
  {
   "cell_type": "code",
   "execution_count": 2,
   "metadata": {},
   "outputs": [],
   "source": [
    "# 2 加载数据集\n",
    "\n",
    "# 2.1 图像变化设置\n",
    "data_transforms = {\n",
    "    \"train\":\n",
    "        transforms.Compose([\n",
    "            transforms.RandomResizedCrop(300), \n",
    "            transforms.RandomHorizontalFlip(), \n",
    "            transforms.CenterCrop(256),\n",
    "            transforms.ToTensor(),\n",
    "            transforms.Normalize([0.485, 0.456, 0.406],\n",
    "                                 [0.229, 0.224, 0.225])\n",
    "        ]),\n",
    "    \n",
    "    \"val\":\n",
    "        transforms.Compose([\n",
    "            transforms.Resize(300),\n",
    "            transforms.CenterCrop(256),\n",
    "            transforms.ToTensor(),\n",
    "            transforms.Normalize([0.485, 0.456, 0.406],\n",
    "                                 [0.229, 0.224, 0.225])\n",
    "        ]),\n",
    "    \n",
    "    'test':\n",
    "        transforms.Compose([\n",
    "        transforms.Resize(size=300),\n",
    "        transforms.CenterCrop(size=256),\n",
    "        transforms.ToTensor(),\n",
    "        transforms.Normalize([0.485, 0.456, 0.406], [0.229, 0.224,\n",
    "        0.225])\n",
    "        ]),\n",
    "    \n",
    "}"
   ]
  },
  {
   "cell_type": "code",
   "execution_count": 3,
   "metadata": {},
   "outputs": [],
   "source": [
    "# 3 可视化图片\n",
    "def imshow(inp, title=None):\n",
    "    inp = inp.numpy().transpose((1,2,0))\n",
    "    mean = np.array([0.485, 0.456, 0.406])\n",
    "    std = np.array([0.229, 0.224, 0.225])\n",
    "    inp = std * inp + mean\n",
    "    inp = np.clip(inp, 0, 1)\n",
    "    plt.imshow(inp)\n",
    "    if title is not None:\n",
    "        plt.title(title)\n",
    "    plt.pause(0.001)"
   ]
  },
  {
   "cell_type": "code",
   "execution_count": 4,
   "metadata": {},
   "outputs": [],
   "source": [
    "# 6 可视化模型预测\n",
    "\n",
    "def visualize_model(model, num_images=6):\n",
    "    \"\"\"显示预测的图片结果\n",
    "        Args:\n",
    "            model: 训练后的模型\n",
    "            num_images: 需要显示的图片数量\n",
    "        \n",
    "        Returns:\n",
    "            无\n",
    "    \"\"\"\n",
    "    was_training = model.training\n",
    "    model.eval()\n",
    "    images_so_far = 0\n",
    "    fig = plt.figure()\n",
    "    with torch.no_grad():\n",
    "        for i, (datas, targets) in enumerate(dataloaders['val']):\n",
    "            datas, targets = datas.to(device), targets.to(device)\n",
    "            outputs = model(datas) # 预测数据\n",
    "            _, preds = torch.max(outputs, 1) # 获取每行数据的最大值\n",
    "            for j in range(datas.size()[0]):\n",
    "                images_so_far += 1 # 累计图片数量\n",
    "                ax = plt.subplot(num_images // 2, 2, images_so_far) # 显示图片\n",
    "                ax.axis('off') # 关闭坐标轴\n",
    "                ax.set_title('predicted:{}'.format(class_names[preds[j]]))\n",
    "                imshow(datas.cpu().data[j])\n",
    "                if images_so_far == num_images:\n",
    "                    model.train(mode=was_training)\n",
    "                    return\n",
    "        model.train(mode=was_training)"
   ]
  },
  {
   "cell_type": "code",
   "execution_count": 45,
   "metadata": {},
   "outputs": [
    {
     "name": "stdout",
     "output_type": "stream",
     "text": [
      "<bound method Module.type of AdaptiveAvgPool2d(output_size=(1, 1))>\n",
      "tensor([[[[-1.3923, -0.6383],\n",
      "          [-1.0737,  0.5833]],\n",
      "\n",
      "         [[-1.0809,  1.2713],\n",
      "          [ 0.5671, -0.5883]]],\n",
      "\n",
      "\n",
      "        [[[-0.2427, -1.7722],\n",
      "          [ 0.9888,  0.3148]],\n",
      "\n",
      "         [[ 1.0442,  1.3612],\n",
      "          [ 0.3614,  0.9267]]],\n",
      "\n",
      "\n",
      "        [[[-0.8352,  0.4530],\n",
      "          [ 0.3692,  0.4890]],\n",
      "\n",
      "         [[ 0.6194, -0.1934],\n",
      "          [ 0.2294, -0.4392]]]])\n",
      "tensor([[[[-0.6302]],\n",
      "\n",
      "         [[ 0.0423]]],\n",
      "\n",
      "\n",
      "        [[[-0.1778]],\n",
      "\n",
      "         [[ 0.9234]]],\n",
      "\n",
      "\n",
      "        [[[ 0.1190]],\n",
      "\n",
      "         [[ 0.0540]]]])\n",
      "tensor([[[[-0.6302]],\n",
      "\n",
      "         [[ 0.0423]]],\n",
      "\n",
      "\n",
      "        [[[-0.1778]],\n",
      "\n",
      "         [[ 0.9234]]],\n",
      "\n",
      "\n",
      "        [[[ 0.1190]],\n",
      "\n",
      "         [[ 0.0540]]]])\n"
     ]
    }
   ],
   "source": [
    "# target output size of 5x7\n",
    "m = nn.AdaptiveAvgPool2d((1,1))\n",
    "print(m.type)\n",
    "input = torch.randn(3, 2, 2, 2)\n",
    "print(input)\n",
    "output = m(input)\n",
    "print(output)\n",
    "print(torch.sum(input,dim=(2,3),keepdim=True)/4)\n",
    "# target output size of 7x7 (square)\n",
    "m = nn.AdaptiveAvgPool2d(7)\n",
    "input = torch.randn(1, 64, 10, 9)\n",
    "output = m(input)\n",
    "# target output size of 10x7\n",
    "m = nn.AdaptiveAvgPool2d((None, 7))\n",
    "input = torch.randn(1, 64, 10, 9)\n",
    "output = m(input)"
   ]
  },
  {
   "cell_type": "code",
   "execution_count": 40,
   "metadata": {},
   "outputs": [
    {
     "name": "stdout",
     "output_type": "stream",
     "text": [
      "tensor([[[1, 2],\n",
      "         [3, 4]],\n",
      "\n",
      "        [[1, 2],\n",
      "         [3, 4]]])\n",
      "tensor([[[10]],\n",
      "\n",
      "        [[10]]])\n"
     ]
    }
   ],
   "source": [
    "x=torch.tensor([[1,2],[3,4]])\n",
    "x=torch.cat([x,x],dim=0)\n",
    "x=torch.reshape(x,[2,2,2])\n",
    "print(x)\n",
    "y=torch.sum(x,dim=(1,2),keepdim=True)\n",
    "print(y)"
   ]
  },
  {
   "cell_type": "code",
   "execution_count": 5,
   "metadata": {},
   "outputs": [],
   "source": [
    "# 7 定义训练函数\n",
    "def train(model, device, train_loader, criterion, optimizer, epoch, writer):\n",
    "    # 作用：声明在模型训练时，采用Batch Normalization 和 Dropout\n",
    "    # Batch Normalization : 对网络中间的每层进行归一化处理，保证每层所提取的特征分布不会被破坏\n",
    "    # Dropout : 减少过拟合\n",
    "    model.train()\n",
    "    total_loss = 0.0 # 总损失初始化为0.0\n",
    "    # 循环读取训练数据，更新模型参数\n",
    "    for batch_id, (data, target) in enumerate(train_loader):\n",
    "        data, target = data.to(device), target.to(device)\n",
    "        optimizer.zero_grad() # 梯度初始化为零\n",
    "        output = model(data) # 训练后的输出\n",
    "        loss = criterion(output, target) # 计算损失\n",
    "        loss.backward() # 反向传播\n",
    "        optimizer.step() # 参数更新\n",
    "        total_loss += loss.item() # 累计损失\n",
    "    # 写入日志\n",
    "    writer.add_scalar('Train Loss', total_loss / len(train_loader), epoch)\n",
    "    writer.flush() # 刷新\n",
    "    return total_loss / len(train_loader) # 返回平均损失值"
   ]
  },
  {
   "cell_type": "code",
   "execution_count": 6,
   "metadata": {},
   "outputs": [],
   "source": [
    "# 8 定义测试函数\n",
    "def test(model, device, test_loader, criterion, epoch, writer):\n",
    "    # 作用：声明在模型训练时，不采用Batch Normalization 和 Dropout\n",
    "    model.eval()\n",
    "    # 损失和正确\n",
    "    total_loss = 0.0\n",
    "    correct = 0.0\n",
    "    # 循环读取数据\n",
    "    with torch.no_grad():\n",
    "        for data, target in test_loader:\n",
    "            data, target = data.to(device), target.to(device)\n",
    "            # 预测输出\n",
    "            output = model(data)\n",
    "            # 计算损失\n",
    "            total_loss += criterion(output, target).item()\n",
    "            # 获取预测结果中每行数据概率最大的下标\n",
    "            _,preds = torch.max(output, dim=1) \n",
    "            # pred = output.data.max(1)[1]\n",
    "            # 累计预测正确的个数\n",
    "            correct += torch.sum(preds == target.data)\n",
    "            # correct += pred.eq(target.data).cpu().sum()\n",
    "            \n",
    "            ######## 增加 #######\n",
    "            misclassified_images(preds, writer, target, data, output, epoch) # 记录错误分类的图片\n",
    "            \n",
    "        # 总损失\n",
    "        total_loss /= len(test_loader)\n",
    "        # 正确率\n",
    "        accuracy = correct / len(test_loader)\n",
    "        # 写入日志\n",
    "        writer.add_scalar('Test Loss', total_loss, epoch)\n",
    "        writer.add_scalar('Accuracy', accuracy, epoch)\n",
    "        writer.flush()\n",
    "        # 输出信息\n",
    "        print(\"Test Loss : {:.4f}, Accuracy : {:.4f}\".format(total_loss, accuracy))\n",
    "        return total_loss, accuracy"
   ]
  },
  {
   "cell_type": "code",
   "execution_count": 7,
   "metadata": {},
   "outputs": [],
   "source": [
    "# 定义函数，获取Tensorboard的writer\n",
    "def tb_writer():\n",
    "    timestr = time.strftime(\"%Y%m%d_%H%M%S\")\n",
    "    writer = SummaryWriter('logdir/' + timestr)\n",
    "    return writer\n"
   ]
  },
  {
   "cell_type": "code",
   "execution_count": 8,
   "metadata": {},
   "outputs": [],
   "source": [
    "# 8 模型微调\n",
    "\n",
    "# 定义一个池化层处理函数\n",
    "class AdaptiveConcatPool2d(nn.Module):\n",
    "    def __init__(self, size=None):\n",
    "        super().__init__()\n",
    "        size = size or (1,1) # 池化层的卷积核大小，默认值为（1，1）\n",
    "        self.pool_one = nn.AdaptiveAvgPool2d(size) # 池化层1\n",
    "        self.pool_two = nn.AdaptiveMaxPool2d(size) # 池化层2\n",
    "    def forward(self, x):\n",
    "        return torch.cat([self.pool_one(x), self.pool_two(x)], 1) # 连接两个池化层\n",
    " \n",
    "def get_model():\n",
    "    model_pre = models.resnet50(pretrained=True) # 获取预训练模型\n",
    "\n",
    "    # 冻结预训练模型中所有参数\n",
    "    for param in model_pre.parameters():\n",
    "        param.requires_grad = False\n",
    "\n",
    "    # 替换ResNet最后的两层网络，返回一个新的模型（迁移学习）\n",
    "    model_pre.avgpool = AdaptiveConcatPool2d() # 池化层替换\n",
    "    model_pre.fc = nn.Sequential(\n",
    "            nn.Flatten(), # 所有维度拉平\n",
    "            nn.BatchNorm1d(4096), # 正则化处理\n",
    "            nn.Dropout(0.5), # 丢掉神经元\n",
    "            nn.Linear(4096, 512), # 线性层处理\n",
    "            nn.ReLU(), # 激活函数\n",
    "            nn.BatchNorm1d(512), # 正则化处理\n",
    "            nn.Dropout(p=0.5), # 丢掉神经元\n",
    "            nn.Linear(512, 2), # 线性层\n",
    "            nn.LogSoftmax(dim=1) # 损失函数\n",
    "    )\n",
    "    return model_pre\n"
   ]
  },
  {
   "cell_type": "code",
   "execution_count": 9,
   "metadata": {},
   "outputs": [],
   "source": [
    "def train_epochs(model, device, dataloaders, criterion, optimizer, num_epochs, writer):\n",
    "    \"\"\"\n",
    "    Returns:\n",
    "        返回一个训练过后最好的模型\n",
    "    \"\"\"\n",
    "    print(\"{0:>20} | {1:>20} | {2:>20} | {3:>20} |\".format('Epoch', 'Training Loss', 'Test Loss', 'Accuracy'))\n",
    "    best_score = np.inf # 假设最好的预测值\n",
    "    start = time.time() # 开始时间\n",
    "    \n",
    "    # 开始循环读取数据进行训练和验证\n",
    "    for epoch in num_epochs:\n",
    "        \n",
    "        train_loss = train(model, device, dataloaders['train'], criterion, optimizer, epoch, writer)\n",
    "        \n",
    "        test_loss, accuracy = test(model, device, dataloaders['val'], criterion, epoch, writer)\n",
    "        \n",
    "        if test_loss < best_score:\n",
    "            best_score = test_loss\n",
    "            torch.save(model.state_dict(), model_path) # 保存模型 # state_dict变量存放训练过程中需要学习的权重和偏置系数\n",
    "        \n",
    "        print(\"{0:>20} | {1:>20} | {2:>20} | {3:>20.2f} |\".format(epoch, train_loss, test_loss, accuracy))\n",
    "        \n",
    "        writer.flush()\n",
    "        \n",
    "    # 训练完所耗费的总时间\n",
    "    time_all = time.time() - start\n",
    "    # 输出时间信息\n",
    "    print(\"Training complete in {:.2f}m {:.2f}s\".format(time_all // 60, time_all % 60))"
   ]
  },
  {
   "cell_type": "code",
   "execution_count": 10,
   "metadata": {},
   "outputs": [],
   "source": [
    "def misclassified_images(pred, writer, target, data, output, epoch, count=10):\n",
    "    misclassified = (pred != target.data) # 记录预测值与真实值不同的True和False\n",
    "    for index, image_tensor in enumerate(data[misclassified][:count]):\n",
    "        # 显示预测不同的前10张图片\n",
    "        img_name = '{}->Predict-{}x{}-Actual'.format(\n",
    "                epoch,\n",
    "                LABEL[pred[misclassified].tolist()[index]],\n",
    "                LABEL[target.data[misclassified].tolist()[index]],\n",
    "        )\n",
    "        writer.add_image(img_name, inv_normalize(image_tensor), epoch)"
   ]
  },
  {
   "cell_type": "code",
   "execution_count": 11,
   "metadata": {},
   "outputs": [
    {
     "name": "stdout",
     "output_type": "stream",
     "text": [
      "--------------------------------------------------\n"
     ]
    },
    {
     "data": {
      "image/png": "[encoded data removed]",
      "text/plain": [
       "<Figure size 432x288 with 1 Axes>"
      ]
     },
     "metadata": {
      "needs_background": "light"
     },
     "output_type": "display_data"
    },
    {
     "name": "stdout",
     "output_type": "stream",
     "text": [
      "               Epoch |        Training Loss |            Test Loss |             Accuracy |\n"
     ]
    },
    {
     "name": "stderr",
     "output_type": "stream",
     "text": [
      "/home/sun/.pyenv/versions/DataVisualization/lib/python3.9/site-packages/torch/nn/functional.py:718: UserWarning: Named tensors and all their associated APIs are an experimental feature and subject to change. Please do not use them for anything important until they are released as stable. (Triggered internally at  /pytorch/c10/core/TensorImpl.h:1156.)\n",
      "  return torch.max_pool2d(input, kernel_size, stride, padding, dilation, ceil_mode)\n"
     ]
    },
    {
     "name": "stdout",
     "output_type": "stream",
     "text": [
      "Test Loss : 1.0065, Accuracy : 10.0000\n",
      "                   0 |   0.7547866821289062 |   1.0065028667449951 |                10.00 |\n",
      "Test Loss : 0.4515, Accuracy : 14.0000\n",
      "                   1 |   0.7021192297339439 |  0.45147213339805603 |                14.00 |\n",
      "Test Loss : 0.9110, Accuracy : 12.0000\n",
      "                   2 |   0.4414117902517319 |   0.9109928011894226 |                12.00 |\n",
      "Test Loss : 0.6715, Accuracy : 12.0000\n",
      "                   3 |    0.549298158288002 |   0.6715224981307983 |                12.00 |\n",
      "Test Loss : 0.3317, Accuracy : 14.0000\n",
      "                   4 |   0.5004627615213394 |    0.331709086894989 |                14.00 |\n",
      "Test Loss : 0.5251, Accuracy : 13.0000\n",
      "                   5 |  0.35304041802883146 |   0.5250658392906189 |                13.00 |\n",
      "Test Loss : 0.3926, Accuracy : 13.0000\n",
      "                   6 |  0.41099494993686675 |  0.39261573553085327 |                13.00 |\n",
      "Test Loss : 0.5447, Accuracy : 11.0000\n",
      "                   7 |  0.38222079575061796 |   0.5447030067443848 |                11.00 |\n",
      "Test Loss : 0.5544, Accuracy : 12.0000\n",
      "                   8 |  0.37131241858005526 |   0.5543596744537354 |                12.00 |\n",
      "Test Loss : 0.5912, Accuracy : 11.0000\n",
      "                   9 |  0.35051301419734954 |   0.5911943912506104 |                11.00 |\n",
      "Training complete in 2.00m 56.75s\n"
     ]
    }
   ],
   "source": [
    "# 9 训练和验证\n",
    "\n",
    "# 定义超参数\n",
    "model_path = 'model.pth'\n",
    "batch_size = 16\n",
    "device = torch.device('gpu' if torch.cuda.is_available() else 'cpu') # gpu和cpu选择\n",
    "\n",
    "# 2.2 加载数据\n",
    "data_path = \"./chest_xray\" # 数据集所在的文件夹路径\n",
    "\n",
    "# 2.2.1 加载数据集\n",
    "image_datasets = {x : datasets.ImageFolder(os.path.join(data_path, x), data_transforms[x]) for x in ['train', 'val', 'test']}\n",
    "\n",
    "# 2.2.2 为数据集创建iterator\n",
    "dataloaders = {x : DataLoader(image_datasets[x], batch_size=batch_size, shuffle=True) for x in ['train', 'val', 'test']}\n",
    "\n",
    "# 2.2.3 训练集和验证集的大小\n",
    "data_sizes = {x : len(image_datasets[x]) for x in ['train', 'val', 'test']}\n",
    "\n",
    "# 2.2.4 训练集所对应的标签\n",
    "class_names = image_datasets['train'].classes # 一共有2个：NORMAL正常 vs PNEUMONIA肺炎\n",
    "LABEL = dict((v, k ) for k, v in image_datasets['train'].class_to_idx.items())\n",
    "\n",
    "print(\"-\" * 50)\n",
    "\n",
    "# 4 获取trian中的一批数据\n",
    "datas, targets = next(iter(dataloaders['train']))\n",
    "\n",
    "# 5 显示这批数据\n",
    "out = torchvision.utils.make_grid(datas)\n",
    "\n",
    "imshow(out, title=[class_names[x] for x in targets])\n",
    "\n",
    "# 将tensor转换为image\n",
    "inv_normalize = transforms.Normalize(\n",
    "mean=[-0.485/0.229, -0.456/0.224, -0.406/0.225],\n",
    "std=[1/0.229, 1/0.224, 1/0.255]\n",
    ")\n",
    "\n",
    "writer = tb_writer()\n",
    "images, labels = next(iter(dataloaders['train'])) # 获取一批数据\n",
    "grid = torchvision.utils.make_grid([inv_normalize(image) for image in images[:32]]) # 读取32张图片\n",
    "writer.add_image('X-Ray grid', grid, 0) # 添加到TensorBoard\n",
    "writer.flush() # 将数据读取到存储器中\n",
    "\n",
    "model = get_model().to(device) # 获取模型\n",
    "criterion = nn.NLLLoss() # 损失函数\n",
    "optimizer = optim.Adam(model.parameters())\n",
    "train_epochs(model, device, dataloaders, criterion, optimizer, range(0,10), writer)\n",
    "writer.close() "
   ]
  },
  {
   "cell_type": "code",
   "execution_count": null,
   "metadata": {},
   "outputs": [],
   "source": []
  },
  {
   "cell_type": "code",
   "execution_count": null,
   "metadata": {},
   "outputs": [],
   "source": []
  },
  {
   "cell_type": "code",
   "execution_count": null,
   "metadata": {},
   "outputs": [],
   "source": []
  }
 ],
 "metadata": {
  "kernelspec": {
   "display_name": "Python 3",
   "language": "python",
   "name": "python3"
  },
  "language_info": {
   "codemirror_mode": {
    "name": "ipython",
    "version": 3
   },
   "file_extension": ".py",
   "mimetype": "text/x-python",
   "name": "python",
   "nbconvert_exporter": "python",
   "pygments_lexer": "ipython3",
   "version": "3.9.2"
  }
 },
 "nbformat": 4,
 "nbformat_minor": 4
}
