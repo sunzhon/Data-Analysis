{
 "cells": [
  {
   "cell_type": "code",
   "execution_count": 1,
   "id": "324db4c8",
   "metadata": {},
   "outputs": [],
   "source": [
    "import torch\n",
    "import torchvision\n",
    "import torch.nn as nn\n",
    "import numpy as np\n",
    "import torchvision.datasets as datasets\n",
    "import torchvision.transforms as transforms\n",
    "\n",
    "import matplotlib.pyplot as plt\n"
   ]
  },
  {
   "cell_type": "code",
   "execution_count": 2,
   "id": "99510b36",
   "metadata": {},
   "outputs": [],
   "source": [
    "# Define super parameters\n",
    "batch_size=15\n",
    "epochs=20\n",
    "device = torch.device(\"gpu\" if torch.cuda.is_available() else \"cpu\")\n"
   ]
  },
  {
   "cell_type": "code",
   "execution_count": 3,
   "id": "84830d78",
   "metadata": {},
   "outputs": [
    {
     "name": "stderr",
     "output_type": "stream",
     "text": [
      "/home/sun/.pyenv/versions/DataVisualization/lib/python3.9/site-packages/torchvision/datasets/mnist.py:498: UserWarning: The given NumPy array is not writeable, and PyTorch does not support non-writeable tensors. This means you can write to the underlying (supposedly non-writeable) NumPy array using the tensor. You may want to copy the array to protect its data or make it writeable before converting it to a tensor. This type of warning will be suppressed for the rest of this program. (Triggered internally at  /pytorch/torch/csrc/utils/tensor_numpy.cpp:180.)\n",
      "  return torch.from_numpy(parsed.astype(m[2], copy=False)).view(*s)\n"
     ]
    }
   ],
   "source": [
    "# dowload data\n",
    "\n",
    "trainsets=datasets.MNIST(root=\"./data\",train=True,transform=transforms.ToTensor())\n",
    "testsets=datasets.MNIST(root=\"./data\",train=False,transform=transforms.ToTensor())\n"
   ]
  },
  {
   "cell_type": "code",
   "execution_count": 4,
   "id": "fec75129",
   "metadata": {},
   "outputs": [
    {
     "name": "stdout",
     "output_type": "stream",
     "text": [
      "torch.Size([60000, 28, 28])\n",
      "torch.Size([60000])\n"
     ]
    }
   ],
   "source": [
    "# check data\n",
    "\n",
    "classes=trainsets.classes\n",
    "classes\n",
    "print(trainsets.data.shape)\n",
    "print(trainsets.targets.shape)"
   ]
  },
  {
   "cell_type": "code",
   "execution_count": 5,
   "id": "d46917ee",
   "metadata": {},
   "outputs": [],
   "source": [
    "# \n",
    "train_loader=torch.utils.data.DataLoader(dataset=trainsets,batch_size=batch_size,shuffle=True)\n",
    "test_loader=torch.utils.data.DataLoader(dataset=testsets,batch_size=batch_size,shuffle=True)\n"
   ]
  },
  {
   "cell_type": "code",
   "execution_count": 6,
   "id": "c0debe21",
   "metadata": {},
   "outputs": [
    {
     "name": "stdout",
     "output_type": "stream",
     "text": [
      "<class 'torch.utils.data.dataloader.DataLoader'>\n",
      "torch.Size([15, 1, 28, 28])\n",
      "torch.Size([15])\n"
     ]
    }
   ],
   "source": [
    "len(train_loader)\n",
    "print(type(train_loader))\n",
    "images, labels=next(iter(train_loader))\n",
    "print(images.shape)\n",
    "print(labels.shape)"
   ]
  },
  {
   "cell_type": "code",
   "execution_count": 7,
   "id": "62713826",
   "metadata": {},
   "outputs": [
    {
     "name": "stdout",
     "output_type": "stream",
     "text": [
      "<class 'torch.Tensor'>\n",
      "torch.Size([15, 1, 28, 28])\n",
      "<class 'torch.Tensor'>\n",
      "torch.Size([3, 62, 242])\n",
      "(62, 242, 3)\n"
     ]
    },
    {
     "data": {
      "image/png": "[encoded data removed]",
      "text/plain": [
       "<Figure size 432x288 with 1 Axes>"
      ]
     },
     "metadata": {
      "needs_background": "light"
     },
     "output_type": "display_data"
    }
   ],
   "source": [
    "def image_show(imgs,titles=None):\n",
    "    imgs=imgs.numpy().transpose((1,2,0))\n",
    "    print(imgs.shape)\n",
    "    mean = np.array([0.485, 0.456, 0.406])\n",
    "    std = np.array([0.229, 0.224, 0.225])\n",
    "    imgs = std * imgs + mean\n",
    "    imgs=np.clip(imgs,0,1)\n",
    "    plt.imshow(imgs)\n",
    "    plt.show()\n",
    "\n",
    "print(type(images))\n",
    "print(images.shape)\n",
    "imgs=torchvision.utils.make_grid(images)\n",
    "print(type(imgs))\n",
    "print(imgs.shape)\n",
    "image_show(imgs)\n",
    "    \n",
    "    "
   ]
  },
  {
   "cell_type": "code",
   "execution_count": 15,
   "id": "eb39e539",
   "metadata": {},
   "outputs": [],
   "source": [
    "class LSTM_Model(nn.Module):\n",
    "    def __init__(self,input_dim,hidden_dim, layer_dim,output_dim):\n",
    "        super(LSTM_Model,self).__init__()\n",
    "        self.hidden_dim=hidden_dim\n",
    "        self.layer_dim=layer_dim\n",
    "        self.rnn=nn.LSTM(input_dim, hidden_dim, layer_dim, batch_first=True)\n",
    "        self.fc=nn.Linear(hidden_dim, output_dim)\n",
    "        \n",
    "    def forward(self,x):\n",
    "        #layer_dim, batch_size, hidden_dim\n",
    "        h0 = torch.zeros(self.layer_dim, x.size(0), self.hidden_dim).requires_grad_().to(device)\n",
    "        c0 = torch.zeros(self.layer_dim, x.size(0), self.hidden_dim).requires_grad_().to(device)\n",
    "        out, hn = self.rnn(x,h0.detach())\n",
    "        out=self.fc(out[:,-1,:])\n",
    "        return out\n",
    "\n",
    "    "
   ]
  },
  {
   "cell_type": "code",
   "execution_count": 16,
   "id": "20bf4816",
   "metadata": {},
   "outputs": [],
   "source": [
    "input_dim =28\n",
    "hidden_dim =100\n",
    "layer_dim=2\n",
    "output_dim=10\n",
    "learning_rate=0.01\n",
    "\n",
    "model=RNN_Model(input_dim,hidden_dim,layer_dim,output_dim)\n",
    "    "
   ]
  },
  {
   "cell_type": "code",
   "execution_count": 17,
   "id": "89a99870",
   "metadata": {},
   "outputs": [],
   "source": [
    "criterion=nn.CrossEntropyLoss()\n",
    "optimizer=torch.optim.SGD(model.parameters(),lr=learning_rate)"
   ]
  },
  {
   "cell_type": "code",
   "execution_count": 18,
   "id": "55102e9f",
   "metadata": {},
   "outputs": [
    {
     "name": "stdout",
     "output_type": "stream",
     "text": [
      "10\n",
      "第0参数: torch.Size([100, 28]) <class 'torch.nn.parameter.Parameter'>\n",
      "第1参数: torch.Size([100, 100]) <class 'torch.nn.parameter.Parameter'>\n",
      "第2参数: torch.Size([100]) <class 'torch.nn.parameter.Parameter'>\n",
      "第3参数: torch.Size([100]) <class 'torch.nn.parameter.Parameter'>\n",
      "第4参数: torch.Size([100, 100]) <class 'torch.nn.parameter.Parameter'>\n",
      "第5参数: torch.Size([100, 100]) <class 'torch.nn.parameter.Parameter'>\n",
      "第6参数: torch.Size([100]) <class 'torch.nn.parameter.Parameter'>\n",
      "第7参数: torch.Size([100]) <class 'torch.nn.parameter.Parameter'>\n",
      "第8参数: torch.Size([10, 100]) <class 'torch.nn.parameter.Parameter'>\n",
      "第9参数: torch.Size([10]) <class 'torch.nn.parameter.Parameter'>\n"
     ]
    }
   ],
   "source": [
    "print(len(list(model.parameters())))\n",
    "for idx,pa in enumerate(list(model.parameters())):\n",
    "    print(\"第\"+str(idx)+\"参数:\",pa.size(),type(pa))\n"
   ]
  },
  {
   "cell_type": "code",
   "execution_count": 21,
   "id": "43c9fbde",
   "metadata": {},
   "outputs": [
    {
     "name": "stdout",
     "output_type": "stream",
     "text": [
      "loop : 500, Loss : 2.2859597206115723, Accuracy : 16.1200008392334\n",
      "loop : 1000, Loss : 2.1495697498321533, Accuracy : 28.8700008392334\n",
      "loop : 1500, Loss : 1.5285850763320923, Accuracy : 54.709999084472656\n",
      "loop : 2000, Loss : 0.9250897765159607, Accuracy : 12.319999694824219\n",
      "loop : 2500, Loss : 0.917934775352478, Accuracy : 67.55999755859375\n",
      "loop : 3000, Loss : 0.6869632005691528, Accuracy : 78.6199951171875\n",
      "loop : 3500, Loss : 0.4160546660423279, Accuracy : 82.69000244140625\n",
      "loop : 4000, Loss : 0.17796771228313446, Accuracy : 85.27999877929688\n",
      "loop : 4500, Loss : 1.1739084720611572, Accuracy : 89.05000305175781\n",
      "loop : 5000, Loss : 0.7063735723495483, Accuracy : 88.01000213623047\n",
      "loop : 5500, Loss : 0.7199873328208923, Accuracy : 90.1500015258789\n",
      "loop : 6000, Loss : 0.20204780995845795, Accuracy : 90.66000366210938\n",
      "loop : 6500, Loss : 0.10673592239618301, Accuracy : 91.72000122070312\n",
      "loop : 7000, Loss : 0.015712106600403786, Accuracy : 92.94999694824219\n",
      "loop : 7500, Loss : 0.12193986773490906, Accuracy : 90.22000122070312\n",
      "loop : 8000, Loss : 0.07148738205432892, Accuracy : 93.68000030517578\n",
      "loop : 8500, Loss : 0.29809969663619995, Accuracy : 94.01000213623047\n",
      "loop : 9000, Loss : 0.050234273076057434, Accuracy : 94.12000274658203\n",
      "loop : 9500, Loss : 0.11276309192180634, Accuracy : 94.6500015258789\n",
      "loop : 10000, Loss : 0.12179926782846451, Accuracy : 92.29000091552734\n",
      "loop : 10500, Loss : 0.731439471244812, Accuracy : 85.87999725341797\n",
      "loop : 11000, Loss : 0.41943684220314026, Accuracy : 94.55999755859375\n",
      "loop : 11500, Loss : 0.095674529671669, Accuracy : 94.68000030517578\n",
      "loop : 12000, Loss : 0.034317731857299805, Accuracy : 94.69000244140625\n",
      "loop : 12500, Loss : 0.015084932558238506, Accuracy : 95.5\n",
      "loop : 13000, Loss : 0.3662814795970917, Accuracy : 93.6500015258789\n",
      "loop : 13500, Loss : 0.01617283746600151, Accuracy : 95.55000305175781\n",
      "loop : 14000, Loss : 0.22820335626602173, Accuracy : 95.77999877929688\n",
      "loop : 14500, Loss : 0.04901523143053055, Accuracy : 96.13999938964844\n",
      "loop : 15000, Loss : 0.10321176797151566, Accuracy : 95.38999938964844\n",
      "loop : 15500, Loss : 0.07895759493112564, Accuracy : 96.24000549316406\n",
      "loop : 16000, Loss : 0.003955761902034283, Accuracy : 96.41000366210938\n",
      "loop : 16500, Loss : 0.5872915983200073, Accuracy : 94.45000457763672\n",
      "loop : 17000, Loss : 0.2661723792552948, Accuracy : 95.94000244140625\n",
      "loop : 17500, Loss : 0.058378640562295914, Accuracy : 96.52000427246094\n",
      "loop : 18000, Loss : 0.006045485381036997, Accuracy : 96.36000061035156\n",
      "loop : 18500, Loss : 0.22268013656139374, Accuracy : 96.8499984741211\n",
      "loop : 19000, Loss : 0.21529331803321838, Accuracy : 96.37000274658203\n",
      "loop : 19500, Loss : 0.0639120563864708, Accuracy : 96.54000091552734\n",
      "loop : 20000, Loss : 0.03932908549904823, Accuracy : 96.8499984741211\n",
      "loop : 20500, Loss : 0.007276199292391539, Accuracy : 97.25999450683594\n",
      "loop : 21000, Loss : 0.033764228224754333, Accuracy : 96.66000366210938\n",
      "loop : 21500, Loss : 0.012772106565535069, Accuracy : 97.40999603271484\n",
      "loop : 22000, Loss : 0.009654860943555832, Accuracy : 97.47999572753906\n",
      "loop : 22500, Loss : 0.004801568109542131, Accuracy : 97.33000183105469\n",
      "loop : 23000, Loss : 0.16702161729335785, Accuracy : 96.77000427246094\n",
      "loop : 23500, Loss : 0.010870841331779957, Accuracy : 96.35000610351562\n",
      "loop : 24000, Loss : 0.046973057091236115, Accuracy : 97.18000030517578\n",
      "loop : 24500, Loss : 0.01553763635456562, Accuracy : 96.83999633789062\n",
      "loop : 25000, Loss : 0.01775965467095375, Accuracy : 97.47000122070312\n",
      "loop : 25500, Loss : 0.10839024931192398, Accuracy : 97.56999969482422\n",
      "loop : 26000, Loss : 0.041052915155887604, Accuracy : 97.5999984741211\n",
      "loop : 26500, Loss : 0.004947045352309942, Accuracy : 97.29999542236328\n",
      "loop : 27000, Loss : 0.025981511920690536, Accuracy : 97.55999755859375\n",
      "loop : 27500, Loss : 0.00390594732016325, Accuracy : 97.93000030517578\n",
      "loop : 28000, Loss : 0.2857150435447693, Accuracy : 97.18000030517578\n",
      "loop : 28500, Loss : 0.454144686460495, Accuracy : 96.9000015258789\n",
      "loop : 29000, Loss : 0.006702335551381111, Accuracy : 97.63999938964844\n",
      "loop : 29500, Loss : 0.3419060707092285, Accuracy : 96.91000366210938\n",
      "loop : 30000, Loss : 0.17780308425426483, Accuracy : 98.00999450683594\n",
      "loop : 30500, Loss : 0.10601421445608139, Accuracy : 97.86000061035156\n",
      "loop : 31000, Loss : 0.01846989057958126, Accuracy : 97.55999755859375\n",
      "loop : 31500, Loss : 0.009632732719182968, Accuracy : 97.75\n",
      "loop : 32000, Loss : 0.12906257808208466, Accuracy : 97.56999969482422\n",
      "loop : 32500, Loss : 0.01643269509077072, Accuracy : 97.06999969482422\n",
      "loop : 33000, Loss : 0.11507651209831238, Accuracy : 97.69999694824219\n",
      "loop : 33500, Loss : 0.016004515811800957, Accuracy : 97.97999572753906\n",
      "loop : 34000, Loss : 0.056217215955257416, Accuracy : 97.83999633789062\n",
      "loop : 34500, Loss : 0.0019949611742049456, Accuracy : 97.94999694824219\n",
      "loop : 35000, Loss : 0.02991383895277977, Accuracy : 97.8499984741211\n",
      "loop : 35500, Loss : 0.12694762647151947, Accuracy : 97.19999694824219\n",
      "loop : 36000, Loss : 0.05678103491663933, Accuracy : 97.56999969482422\n",
      "loop : 36500, Loss : 0.5260796546936035, Accuracy : 97.90999603271484\n",
      "loop : 37000, Loss : 0.005230367183685303, Accuracy : 97.19000244140625\n",
      "loop : 37500, Loss : 0.02406173013150692, Accuracy : 97.7699966430664\n",
      "loop : 38000, Loss : 0.24951277673244476, Accuracy : 96.63999938964844\n",
      "loop : 38500, Loss : 0.10578174889087677, Accuracy : 96.97999572753906\n",
      "loop : 39000, Loss : 0.01108765322715044, Accuracy : 97.97000122070312\n",
      "loop : 39500, Loss : 0.026314543560147285, Accuracy : 98.23999786376953\n",
      "loop : 40000, Loss : 0.5464411377906799, Accuracy : 97.12999725341797\n",
      "loop : 40500, Loss : 0.15949326753616333, Accuracy : 97.88999938964844\n",
      "loop : 41000, Loss : 0.03542497009038925, Accuracy : 97.16999816894531\n",
      "loop : 41500, Loss : 0.3557819426059723, Accuracy : 97.5\n",
      "loop : 42000, Loss : 0.5890331864356995, Accuracy : 96.41000366210938\n",
      "loop : 42500, Loss : 0.0024585251230746508, Accuracy : 98.16999816894531\n",
      "loop : 43000, Loss : 0.1844930648803711, Accuracy : 98.13999938964844\n",
      "loop : 43500, Loss : 1.0756996870040894, Accuracy : 97.66999816894531\n",
      "loop : 44000, Loss : 0.067216657102108, Accuracy : 97.83999633789062\n",
      "loop : 44500, Loss : 0.00272804731503129, Accuracy : 97.75999450683594\n",
      "loop : 45000, Loss : 0.13544878363609314, Accuracy : 97.90999603271484\n",
      "loop : 45500, Loss : 0.0016693051438778639, Accuracy : 98.22000122070312\n",
      "loop : 46000, Loss : 0.1965358406305313, Accuracy : 96.54000091552734\n",
      "loop : 46500, Loss : 0.033621907234191895, Accuracy : 98.23999786376953\n",
      "loop : 47000, Loss : 0.0015174185391515493, Accuracy : 97.40999603271484\n",
      "loop : 47500, Loss : 0.13400177657604218, Accuracy : 97.7699966430664\n",
      "loop : 48000, Loss : 0.02568124607205391, Accuracy : 98.04000091552734\n",
      "loop : 48500, Loss : 0.0016315411776304245, Accuracy : 97.39999389648438\n",
      "loop : 49000, Loss : 0.02662939578294754, Accuracy : 97.97999572753906\n",
      "loop : 49500, Loss : 0.007537014316767454, Accuracy : 97.90999603271484\n",
      "loop : 50000, Loss : 0.0024503718595951796, Accuracy : 98.04000091552734\n",
      "loop : 50500, Loss : 0.07377038896083832, Accuracy : 98.04000091552734\n",
      "loop : 51000, Loss : 0.0005925282603129745, Accuracy : 98.19999694824219\n",
      "loop : 51500, Loss : 0.17127902805805206, Accuracy : 97.94999694824219\n",
      "loop : 52000, Loss : 0.0004520169459283352, Accuracy : 97.98999786376953\n",
      "loop : 52500, Loss : 0.003561383346095681, Accuracy : 98.1199951171875\n",
      "loop : 53000, Loss : 0.0007501289364881814, Accuracy : 97.64999389648438\n",
      "loop : 53500, Loss : 0.11606249958276749, Accuracy : 97.8699951171875\n",
      "loop : 54000, Loss : 0.006802138406783342, Accuracy : 97.93999481201172\n",
      "loop : 54500, Loss : 0.0009156262967735529, Accuracy : 97.66999816894531\n",
      "loop : 55000, Loss : 0.06364014744758606, Accuracy : 98.18000030517578\n",
      "loop : 55500, Loss : 0.015956828370690346, Accuracy : 96.91000366210938\n",
      "loop : 56000, Loss : 0.0031532214488834143, Accuracy : 98.1199951171875\n",
      "loop : 56500, Loss : 0.024545831605792046, Accuracy : 97.5199966430664\n",
      "loop : 57000, Loss : 0.0006558774621225893, Accuracy : 97.6199951171875\n",
      "loop : 57500, Loss : 0.2925083041191101, Accuracy : 98.06999969482422\n",
      "loop : 58000, Loss : 0.3205624520778656, Accuracy : 98.2699966430664\n",
      "loop : 58500, Loss : 0.18670539557933807, Accuracy : 98.29999542236328\n"
     ]
    },
    {
     "name": "stdout",
     "output_type": "stream",
     "text": [
      "loop : 59000, Loss : 0.013119803741574287, Accuracy : 98.2699966430664\n",
      "loop : 59500, Loss : 0.01911548711359501, Accuracy : 98.16999816894531\n",
      "loop : 60000, Loss : 0.003240365069359541, Accuracy : 97.33000183105469\n",
      "loop : 60500, Loss : 0.4437832832336426, Accuracy : 97.6199951171875\n",
      "loop : 61000, Loss : 0.0012416898971423507, Accuracy : 98.2699966430664\n",
      "loop : 61500, Loss : 0.006821263115853071, Accuracy : 98.22000122070312\n",
      "loop : 62000, Loss : 0.05954255163669586, Accuracy : 98.30999755859375\n",
      "loop : 62500, Loss : 0.034335907548666, Accuracy : 98.05999755859375\n",
      "loop : 63000, Loss : 0.008909719064831734, Accuracy : 98.4000015258789\n",
      "loop : 63500, Loss : 0.019513903185725212, Accuracy : 98.12999725341797\n",
      "loop : 64000, Loss : 0.04525158554315567, Accuracy : 98.3699951171875\n",
      "loop : 64500, Loss : 0.15443967282772064, Accuracy : 98.27999877929688\n",
      "loop : 65000, Loss : 0.0006405174499377608, Accuracy : 98.05999755859375\n",
      "loop : 65500, Loss : 0.006858351174741983, Accuracy : 98.30999755859375\n",
      "loop : 66000, Loss : 0.005689628422260284, Accuracy : 98.1199951171875\n",
      "loop : 66500, Loss : 0.5368186831474304, Accuracy : 98.47000122070312\n",
      "loop : 67000, Loss : 0.0057517956010997295, Accuracy : 98.13999938964844\n",
      "loop : 67500, Loss : 0.00692902272567153, Accuracy : 98.47000122070312\n",
      "loop : 68000, Loss : 0.0814490094780922, Accuracy : 98.2699966430664\n",
      "loop : 68500, Loss : 0.0074934507720172405, Accuracy : 98.29999542236328\n",
      "loop : 69000, Loss : 0.006988134700804949, Accuracy : 98.30999755859375\n",
      "loop : 69500, Loss : 0.0005100318812765181, Accuracy : 97.93000030517578\n",
      "loop : 70000, Loss : 0.00044299024739302695, Accuracy : 98.32999420166016\n",
      "loop : 70500, Loss : 0.022151974961161613, Accuracy : 97.94999694824219\n",
      "loop : 71000, Loss : 0.002540751127526164, Accuracy : 98.13999938964844\n",
      "loop : 71500, Loss : 0.002791639883071184, Accuracy : 98.25999450683594\n",
      "loop : 72000, Loss : 0.13232597708702087, Accuracy : 98.37999725341797\n",
      "loop : 72500, Loss : 0.0008666153880767524, Accuracy : 97.7699966430664\n",
      "loop : 73000, Loss : 0.0019384620245546103, Accuracy : 98.29000091552734\n",
      "loop : 73500, Loss : 0.022565482184290886, Accuracy : 98.25\n",
      "loop : 74000, Loss : 0.0132279759272933, Accuracy : 98.27999877929688\n",
      "loop : 74500, Loss : 0.04926988109946251, Accuracy : 98.27999877929688\n",
      "loop : 75000, Loss : 0.0015945298364385962, Accuracy : 98.47999572753906\n",
      "loop : 75500, Loss : 0.004753699991852045, Accuracy : 98.22000122070312\n",
      "loop : 76000, Loss : 0.11118588596582413, Accuracy : 98.40999603271484\n",
      "loop : 76500, Loss : 0.01072265300899744, Accuracy : 98.63999938964844\n",
      "loop : 77000, Loss : 0.0494486540555954, Accuracy : 98.5\n",
      "loop : 77500, Loss : 0.0002019802195718512, Accuracy : 98.75\n",
      "loop : 78000, Loss : 0.00040648525464348495, Accuracy : 98.48999786376953\n",
      "loop : 78500, Loss : 0.04691449552774429, Accuracy : 98.27999877929688\n",
      "loop : 79000, Loss : 0.23361055552959442, Accuracy : 98.19999694824219\n",
      "loop : 79500, Loss : 0.04941029101610184, Accuracy : 98.2699966430664\n",
      "loop : 80000, Loss : 0.003923702519387007, Accuracy : 98.3499984741211\n"
     ]
    }
   ],
   "source": [
    "#模型训练\n",
    "sequence_dim=28\n",
    "loss_list=[]\n",
    "accuracy_list=[]\n",
    "iteration_list=[] # save iteration/epoch\n",
    "\n",
    "iter=0\n",
    "for epoch in range(epochs):\n",
    "    for i, (images, targets) in enumerate(train_loader):\n",
    "        model.train()\n",
    "        images=images.view(-1,sequence_dim,input_dim).requires_grad_().to(device)\n",
    "        targets=targets.to(device)\n",
    "        optimizer.zero_grad()\n",
    "        outputs=model(images)\n",
    "        \n",
    "        loss=criterion(outputs, targets)\n",
    "        \n",
    "        loss.backward()\n",
    "        \n",
    "        optimizer.step()\n",
    "        \n",
    "        iter+=1\n",
    "        \n",
    "        if iter %500==0:\n",
    "            model.eval()\n",
    "            correct=.0\n",
    "            total=0\n",
    "            for images, targets in test_loader:\n",
    "                images=images.view(-1,sequence_dim,input_dim).requires_grad_().to(device)\n",
    "                targets=targets.to(device)\n",
    "                outputs=model(images)\n",
    "                predict=torch.max(outputs.data,dim=1)[1]\n",
    "                \n",
    "                total+=targets.size(0)\n",
    "                if torch.cuda.is_available():\n",
    "                    correct+=(predict.gpu()==targets.gpu()).sum()\n",
    "                else:\n",
    "                    correct+=(predict.cpu()==targets.cpu()).sum()\n",
    "\n",
    "\n",
    "                       # 计算\n",
    "            accuracy = correct / total * 100\n",
    "            # 保存accuracy, loss, iteration\n",
    "            loss_list.append(loss.data)\n",
    "            accuracy_list.append(accuracy)\n",
    "            iteration_list.append(iter)\n",
    "            # 打印信息\n",
    "            print(\"loop : {}, Loss : {}, Accuracy : {}\".format(iter, loss.item(), accuracy))\n",
    "                \n",
    "                \n",
    "\n",
    "            \n",
    "            \n",
    "            "
   ]
  },
  {
   "cell_type": "code",
   "execution_count": 22,
   "id": "7cbb48c3",
   "metadata": {},
   "outputs": [
    {
     "data": {
      "image/png": "[encoded data removed]",
      "text/plain": [
       "<Figure size 432x288 with 1 Axes>"
      ]
     },
     "metadata": {
      "needs_background": "light"
     },
     "output_type": "display_data"
    }
   ],
   "source": [
    "# 可视化 loss\n",
    "plt.plot(iteration_list, loss_list)\n",
    "plt.xlabel('Number of Iteration')\n",
    "plt.ylabel('Loss')\n",
    "plt.title('RNN')\n",
    "plt.show()"
   ]
  },
  {
   "cell_type": "code",
   "execution_count": 23,
   "id": "761cd9b9",
   "metadata": {},
   "outputs": [
    {
     "data": {
      "image/png": "[encoded data removed]",
      "text/plain": [
       "<Figure size 432x288 with 1 Axes>"
      ]
     },
     "metadata": {
      "needs_background": "light"
     },
     "output_type": "display_data"
    }
   ],
   "source": [
    "# 可视化 accuracy\n",
    "plt.plot(iteration_list, accuracy_list, color='r')\n",
    "plt.xlabel('Number of Iteration')\n",
    "plt.ylabel('Accuracy')\n",
    "plt.title('LSTM')\n",
    "plt.savefig('LSTM_mnist.png')\n",
    "plt.show()"
   ]
  }
 ],
 "metadata": {
  "kernelspec": {
   "display_name": "Python 3",
   "language": "python",
   "name": "python3"
  },
  "language_info": {
   "codemirror_mode": {
    "name": "ipython",
    "version": 3
   },
   "file_extension": ".py",
   "mimetype": "text/x-python",
   "name": "python",
   "nbconvert_exporter": "python",
   "pygments_lexer": "ipython3",
   "version": "3.9.2"
  }
 },
 "nbformat": 4,
 "nbformat_minor": 5
}
