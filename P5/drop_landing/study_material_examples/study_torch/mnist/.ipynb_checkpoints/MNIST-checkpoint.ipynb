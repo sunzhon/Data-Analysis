{
 "cells": [
  {
   "cell_type": "code",
   "execution_count": 1,
   "id": "324db4c8",
   "metadata": {},
   "outputs": [],
   "source": [
    "import torch\n",
    "import torchvision\n",
    "import torch.nn as nn\n",
    "import numpy as np\n",
    "import torchvision.datasets as datasets\n",
    "import torchvision.transforms as transforms\n",
    "\n",
    "import matplotlib.pyplot as plt\n"
   ]
  },
  {
   "cell_type": "code",
   "execution_count": 2,
   "id": "99510b36",
   "metadata": {},
   "outputs": [],
   "source": [
    "# Define super parameters\n",
    "batch_size=15\n",
    "device = torch.device(\"gpu\" if torch.cuda.is_available() else \"cpu\")\n"
   ]
  },
  {
   "cell_type": "code",
   "execution_count": 3,
   "id": "84830d78",
   "metadata": {},
   "outputs": [
    {
     "name": "stderr",
     "output_type": "stream",
     "text": [
      "/home/sun/.pyenv/versions/DataVisualization/lib/python3.9/site-packages/torchvision/datasets/mnist.py:498: UserWarning: The given NumPy array is not writeable, and PyTorch does not support non-writeable tensors. This means you can write to the underlying (supposedly non-writeable) NumPy array using the tensor. You may want to copy the array to protect its data or make it writeable before converting it to a tensor. This type of warning will be suppressed for the rest of this program. (Triggered internally at  /pytorch/torch/csrc/utils/tensor_numpy.cpp:180.)\n",
      "  return torch.from_numpy(parsed.astype(m[2], copy=False)).view(*s)\n"
     ]
    }
   ],
   "source": [
    "# dowload data\n",
    "\n",
    "trainsets=datasets.MNIST(root=\"./data\",train=True,transform=transforms.ToTensor())\n",
    "testsets=datasets.MNIST(root=\"./data\",train=False,transform=transforms.ToTensor())\n"
   ]
  },
  {
   "cell_type": "code",
   "execution_count": 4,
   "id": "fec75129",
   "metadata": {},
   "outputs": [
    {
     "name": "stdout",
     "output_type": "stream",
     "text": [
      "torch.Size([60000, 28, 28])\n",
      "torch.Size([60000])\n"
     ]
    }
   ],
   "source": [
    "# check data\n",
    "\n",
    "classes=trainsets.classes\n",
    "classes\n",
    "print(trainsets.data.shape)\n",
    "print(trainsets.targets.shape)"
   ]
  },
  {
   "cell_type": "code",
   "execution_count": 5,
   "id": "d46917ee",
   "metadata": {},
   "outputs": [],
   "source": [
    "# \n",
    "train_loader=torch.utils.data.DataLoader(dataset=trainsets,batch_size=batch_size,shuffle=True)\n",
    "test_loader=torch.utils.data.DataLoader(dataset=testsets,batch_size=batch_size,shuffle=True)\n"
   ]
  },
  {
   "cell_type": "code",
   "execution_count": 6,
   "id": "c0debe21",
   "metadata": {},
   "outputs": [
    {
     "name": "stdout",
     "output_type": "stream",
     "text": [
      "<class 'torch.utils.data.dataloader.DataLoader'>\n",
      "torch.Size([15, 1, 28, 28])\n",
      "torch.Size([15])\n"
     ]
    }
   ],
   "source": [
    "len(train_loader)\n",
    "print(type(train_loader))\n",
    "images, labels=next(iter(train_loader))\n",
    "print(images.shape)\n",
    "print(labels.shape)"
   ]
  },
  {
   "cell_type": "code",
   "execution_count": 7,
   "id": "62713826",
   "metadata": {},
   "outputs": [
    {
     "name": "stdout",
     "output_type": "stream",
     "text": [
      "<class 'torch.Tensor'>\n",
      "torch.Size([15, 1, 28, 28])\n",
      "<class 'torch.Tensor'>\n",
      "torch.Size([3, 62, 242])\n",
      "(62, 242, 3)\n"
     ]
    },
    {
     "data": {
      "image/png": "[encoded data removed]",
      "text/plain": [
       "<Figure size 432x288 with 1 Axes>"
      ]
     },
     "metadata": {
      "needs_background": "light"
     },
     "output_type": "display_data"
    }
   ],
   "source": [
    "def image_show(imgs,titles=None):\n",
    "    imgs=imgs.numpy().transpose((1,2,0))\n",
    "    print(imgs.shape)\n",
    "    mean = np.array([0.485, 0.456, 0.406])\n",
    "    std = np.array([0.229, 0.224, 0.225])\n",
    "    imgs = std * imgs + mean\n",
    "    imgs=np.clip(imgs,0,1)\n",
    "    plt.imshow(imgs)\n",
    "    plt.show()\n",
    "\n",
    "print(type(images))\n",
    "print(images.shape)\n",
    "imgs=torchvision.utils.make_grid(images)\n",
    "print(type(imgs))\n",
    "print(imgs.shape)\n",
    "image_show(imgs)\n",
    "    \n",
    "    "
   ]
  },
  {
   "cell_type": "code",
   "execution_count": 8,
   "id": "eb39e539",
   "metadata": {},
   "outputs": [],
   "source": [
    "class RNN_Model(nn.Module):\n",
    "    def __init__(self,input_dim,hidden_dim, layer_dim,output_dim):\n",
    "        super(RNN_Model,self).__init__()\n",
    "        self.hidden_dim=hidden_dim\n",
    "        self.layer_dim=layer_dim\n",
    "        self.rnn=nn.RNN(input_dim,hidden_dim,layer_dim,batch_first=True,nonlinearity='relu')\n",
    "        self.fc=nn.Linear(hidden_dim,output_dim)\n",
    "        \n",
    "    def forward(self,x):\n",
    "        #layer_dim, batch_size, hidden_dim\n",
    "        h0=torch.zeros(self.layer_dim,x.shape[0],hidden_dim).requires_grad().to(device)\n",
    "        out, hn = self.rnn(x,h0.detach())\n",
    "        out=self.fc(out[:,-1,:])\n",
    "        return out\n",
    "    "
   ]
  },
  {
   "cell_type": "code",
   "execution_count": 9,
   "id": "20bf4816",
   "metadata": {},
   "outputs": [],
   "source": [
    "input_dim =28\n",
    "hidden_dim =100\n",
    "layer_dim=2\n",
    "output_dim=10\n",
    "learning_rate=0.01\n",
    "\n",
    "model=RNN_Model(input_dim,hidden_dim,layer_dim,output_dim)\n",
    "    "
   ]
  },
  {
   "cell_type": "code",
   "execution_count": 10,
   "id": "89a99870",
   "metadata": {},
   "outputs": [],
   "source": [
    "criterion=nn.CrossEntropyLoss()\n",
    "optimizer=torch.optim.SGD(model.parameters(),lr=learning_rate)"
   ]
  },
  {
   "cell_type": "code",
   "execution_count": 11,
   "id": "55102e9f",
   "metadata": {},
   "outputs": [
    {
     "name": "stdout",
     "output_type": "stream",
     "text": [
      "10\n",
      "第0参数: torch.Size([100, 28]) <class 'torch.nn.parameter.Parameter'>\n",
      "第1参数: torch.Size([100, 100]) <class 'torch.nn.parameter.Parameter'>\n",
      "第2参数: torch.Size([100]) <class 'torch.nn.parameter.Parameter'>\n",
      "第3参数: torch.Size([100]) <class 'torch.nn.parameter.Parameter'>\n",
      "第4参数: torch.Size([100, 100]) <class 'torch.nn.parameter.Parameter'>\n",
      "第5参数: torch.Size([100, 100]) <class 'torch.nn.parameter.Parameter'>\n",
      "第6参数: torch.Size([100]) <class 'torch.nn.parameter.Parameter'>\n",
      "第7参数: torch.Size([100]) <class 'torch.nn.parameter.Parameter'>\n",
      "第8参数: torch.Size([10, 100]) <class 'torch.nn.parameter.Parameter'>\n",
      "第9参数: torch.Size([10]) <class 'torch.nn.parameter.Parameter'>\n"
     ]
    }
   ],
   "source": [
    "print(len(list(model.parameters())))\n",
    "for idx,pa in enumerate(list(model.parameters())):\n",
    "    print(\"第\"+str(idx)+\"参数:\",pa.size(),type(pa))\n"
   ]
  },
  {
   "cell_type": "code",
   "execution_count": 12,
   "id": "43c9fbde",
   "metadata": {},
   "outputs": [
    {
     "ename": "NameError",
     "evalue": "name 'epochs' is not defined",
     "output_type": "error",
     "traceback": [
      "\u001b[0;31m---------------------------------------------------------------------------\u001b[0m",
      "\u001b[0;31mNameError\u001b[0m                                 Traceback (most recent call last)",
      "\u001b[0;32m<ipython-input-12-91e963aeed4b>\u001b[0m in \u001b[0;36m<module>\u001b[0;34m\u001b[0m\n\u001b[1;32m      6\u001b[0m \u001b[0;34m\u001b[0m\u001b[0m\n\u001b[1;32m      7\u001b[0m \u001b[0miter\u001b[0m\u001b[0;34m=\u001b[0m\u001b[0;36m0\u001b[0m\u001b[0;34m\u001b[0m\u001b[0;34m\u001b[0m\u001b[0m\n\u001b[0;32m----> 8\u001b[0;31m \u001b[0;32mfor\u001b[0m \u001b[0mepoch\u001b[0m \u001b[0;32min\u001b[0m \u001b[0mrange\u001b[0m\u001b[0;34m(\u001b[0m\u001b[0mepochs\u001b[0m\u001b[0;34m)\u001b[0m\u001b[0;34m:\u001b[0m\u001b[0;34m\u001b[0m\u001b[0;34m\u001b[0m\u001b[0m\n\u001b[0m\u001b[1;32m      9\u001b[0m     \u001b[0;32mfor\u001b[0m \u001b[0mi\u001b[0m\u001b[0;34m,\u001b[0m \u001b[0;34m(\u001b[0m\u001b[0mdata\u001b[0m\u001b[0;34m,\u001b[0m \u001b[0mtargets\u001b[0m\u001b[0;34m)\u001b[0m \u001b[0;32min\u001b[0m \u001b[0menumerate\u001b[0m\u001b[0;34m(\u001b[0m\u001b[0mtrain_loader\u001b[0m\u001b[0;34m)\u001b[0m\u001b[0;34m:\u001b[0m\u001b[0;34m\u001b[0m\u001b[0;34m\u001b[0m\u001b[0m\n\u001b[1;32m     10\u001b[0m         \u001b[0mmodel\u001b[0m\u001b[0;34m.\u001b[0m\u001b[0mtrain\u001b[0m\u001b[0;34m(\u001b[0m\u001b[0;34m)\u001b[0m\u001b[0;34m\u001b[0m\u001b[0;34m\u001b[0m\u001b[0m\n",
      "\u001b[0;31mNameError\u001b[0m: name 'epochs' is not defined"
     ]
    }
   ],
   "source": [
    "#模型训练\n",
    "sequence_dim=28\n",
    "losss_list=[]\n",
    "accuracy_list=[]\n",
    "iteration_list=[] # save iteration/epoch\n",
    "\n",
    "iter=0\n",
    "for epoch in range(epochs):\n",
    "    for i, (data, targets) in enumerate(train_loader):\n",
    "        model.train()\n",
    "        images=images.view(-1,sequence_dim,input_dim).requires_grad().to(device)\n",
    "        optimizer.zero_grad()\n",
    "        outputs=model(images)\n",
    "        \n",
    "        loss=criterion(outputs, targets)\n",
    "        \n",
    "        loss.backward()\n",
    "        \n",
    "        optimizer.step()\n",
    "        \n",
    "        iter+=1\n",
    "        \n",
    "        if iter %500==0:\n",
    "            model.eval()\n",
    "            correct=.0\n",
    "            total=0\n",
    "            for images, targets in test_loader:\n",
    "                images=images.view(-1,sequence_dim,input_dim).requires_grad().to(device)\n",
    "                outputs=model(images)\n",
    "                predict=torch.max(outputs.data,dim=1)[1]\n",
    "                \n",
    "                total+=targets.size(0)\n",
    "                if torch.cuda.is_available():\n",
    "                    correct+=(predict.gpu()==targets.gpu()).sum()\n",
    "                else:\n",
    "                    correct+=(predict.cpu()==targets.cpu()).sum()\n",
    "\n",
    "            accuracy=correct/total*100\n",
    "            loss_list.append(loss.data)\n",
    "            \n",
    "            print(\"{Accuracy:}\".format(accuracy))    \n",
    "                \n",
    "                \n",
    "\n",
    "            \n",
    "            \n",
    "            "
   ]
  }
 ],
 "metadata": {
  "kernelspec": {
   "display_name": "Python 3",
   "language": "python",
   "name": "python3"
  },
  "language_info": {
   "codemirror_mode": {
    "name": "ipython",
    "version": 3
   },
   "file_extension": ".py",
   "mimetype": "text/x-python",
   "name": "python",
   "nbconvert_exporter": "python",
   "pygments_lexer": "ipython3",
   "version": "3.9.2"
  }
 },
 "nbformat": 4,
 "nbformat_minor": 5
}
